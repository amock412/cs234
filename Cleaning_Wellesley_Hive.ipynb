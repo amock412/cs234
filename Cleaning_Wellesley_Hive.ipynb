{
 "cells": [
  {
   "cell_type": "markdown",
   "metadata": {
    "id": "J_Z1BbI2DW19"
   },
   "source": [
    "## Cleaning Wellesley Hive Data\n",
    "\n",
    "**Author:** Briana Vigil\n",
    "\n",
    "**Purpose:** Clean data from the profiles of alums on the Wellesley Hive to look at their undergraduate major, year graduated, current career path, graduate school experience or lack thereof.\n",
    "\n",
    "November 29, 2020"
   ]
  },
  {
   "cell_type": "code",
   "execution_count": 1,
   "metadata": {
    "executionInfo": {
     "elapsed": 1059,
     "status": "ok",
     "timestamp": 1607375632606,
     "user": {
      "displayName": "Andrea Mock",
      "photoUrl": "",
      "userId": "14944079821474249790"
     },
     "user_tz": -60
    },
    "id": "zI6qYeG0DW1-"
   },
   "outputs": [],
   "source": [
    "from bs4 import BeautifulSoup as BS\n",
    "import numpy as np\n",
    "import pandas as pd\n",
    "import json"
   ]
  },
  {
   "cell_type": "markdown",
   "metadata": {
    "id": "dYwe9db2DW1-"
   },
   "source": [
    "Read in dataset"
   ]
  },
  {
   "cell_type": "code",
   "execution_count": 1,
   "metadata": {
    "colab": {
     "base_uri": "https://localhost:8080/",
     "height": 324
    },
    "executionInfo": {
     "elapsed": 2482,
     "status": "error",
     "timestamp": 1607375634036,
     "user": {
      "displayName": "Andrea Mock",
      "photoUrl": "",
      "userId": "14944079821474249790"
     },
     "user_tz": -60
    },
    "id": "cydDgsGNDW1-",
    "outputId": "5a207d79-da2a-41af-ceab-43cedbd74864"
   },
   "outputs": [],
   "source": [
    "df = pd.read_pickle('hive_data_cleaned')"
   ]
  },
  {
   "cell_type": "code",
   "execution_count": 2,
   "metadata": {
    "id": "ViB5L5-RDW1-",
    "outputId": "d00778f6-6a7f-4cdc-964b-821e660d4dde"
   },
   "outputs": [],
   "source": [
    "#df"
   ]
  },
  {
   "cell_type": "code",
   "execution_count": 3,
   "metadata": {
    "id": "nH24f3m_DW2B",
    "outputId": "d8b55547-6cfc-4660-a251-c3a590f9dae1"
   },
   "outputs": [],
   "source": [
    "#df['person-details-container__info-line'][:1][0]"
   ]
  },
  {
   "cell_type": "markdown",
   "metadata": {
    "id": "XWzPNEJYDW2B"
   },
   "source": [
    "Filter out dataset to just get the columns we are interested in exploring"
   ]
  },
  {
   "cell_type": "code",
   "execution_count": null,
   "metadata": {
    "id": "A_bMeYXdDW2B"
   },
   "outputs": [],
   "source": [
    "df = df.filter(['majorCleaning', 'grad_school', 'major1', 'major2'])"
   ]
  },
  {
   "cell_type": "code",
   "execution_count": 4,
   "metadata": {
    "id": "IDDjrEgkDW2B",
    "outputId": "4bedb37c-576b-4aa5-c143-767597afded1"
   },
   "outputs": [],
   "source": [
    "#df"
   ]
  },
  {
   "cell_type": "code",
   "execution_count": null,
   "metadata": {
    "id": "N-55V0dfDW2B",
    "outputId": "c8317957-b52b-41bd-dbb9-b4681dd4604c"
   },
   "outputs": [
    {
     "data": {
      "text/plain": [
       "['Courtauld Institute of Art',\n",
       " \" Master's Degree\",\n",
       " ' 2013',\n",
       " ' History of Art & Architecture',\n",
       " ' Bard Graduate Center',\n",
       " \" Master's Degree\",\n",
       " ' 2015',\n",
       " ' Decorative Arts & Design History',\n",
       " ' Harvard University',\n",
       " ' PhD - Doctor of Philosophy',\n",
       " ' History of Art & Architecture']"
      ]
     },
     "execution_count": 60,
     "metadata": {
      "tags": []
     },
     "output_type": "execute_result"
    }
   ],
   "source": [
    "df['majorCleaning'][:1][0]"
   ]
  },
  {
   "cell_type": "markdown",
   "metadata": {
    "id": "chPz5WhyDW2B"
   },
   "source": [
    "### Goal: \n",
    "With the filtered data frame, we first determine whether or not the alum went to grad school, and what kind of degrees most alums in the tech industry have."
   ]
  },
  {
   "cell_type": "code",
   "execution_count": null,
   "metadata": {
    "id": "_fEJ-K0MDW2B",
    "outputId": "8a2bdd2c-658c-41ef-b88c-55bf7e509798"
   },
   "outputs": [
    {
     "data": {
      "text/plain": [
       "410"
      ]
     },
     "execution_count": 61,
     "metadata": {
      "tags": []
     },
     "output_type": "execute_result"
    }
   ],
   "source": [
    "bachelorsCounter = 0\n",
    "for grad in df['grad_school']:\n",
    "    if grad == False:\n",
    "        bachelorsCounter += 1\n",
    "        \n",
    "bachelorsCounter "
   ]
  },
  {
   "cell_type": "code",
   "execution_count": null,
   "metadata": {
    "id": "ysqX8TkWDW2B"
   },
   "outputs": [],
   "source": [
    "#drop all the False rows in grad_school column\n",
    "df.drop(df[df['grad_school'] == False].index, inplace = True)"
   ]
  },
  {
   "cell_type": "code",
   "execution_count": 5,
   "metadata": {
    "id": "OXoef2ufDW2B",
    "outputId": "f890dfd1-8136-4465-ee9c-fc73ab5f75fd"
   },
   "outputs": [],
   "source": [
    "#df"
   ]
  },
  {
   "cell_type": "code",
   "execution_count": null,
   "metadata": {
    "id": "rcwbk4BTDW2C",
    "outputId": "39886750-fbbf-4c2e-9dcc-b81bef28e501"
   },
   "outputs": [
    {
     "data": {
      "text/plain": [
       "320"
      ]
     },
     "execution_count": 77,
     "metadata": {
      "tags": []
     },
     "output_type": "execute_result"
    }
   ],
   "source": [
    "educationDetails = df['majorCleaning']\n",
    "mastersCounter = 0\n",
    "for details in educationDetails:\n",
    "    for phrase in details:\n",
    "        if 'Master' in phrase:\n",
    "            mastersCounter += 1\n",
    "mastersCounter"
   ]
  },
  {
   "cell_type": "code",
   "execution_count": null,
   "metadata": {
    "id": "LibyB56GDW2C",
    "outputId": "979d5aac-7b1b-4612-815f-45922583c2c5"
   },
   "outputs": [
    {
     "data": {
      "text/plain": [
       "70"
      ]
     },
     "execution_count": 78,
     "metadata": {
      "tags": []
     },
     "output_type": "execute_result"
    }
   ],
   "source": [
    "educationDetails = df['majorCleaning']\n",
    "phdCounter = 0\n",
    "for details in educationDetails:\n",
    "    for phrase in details:\n",
    "        if 'PhD' in phrase:\n",
    "            phdCounter += 1\n",
    "phdCounter"
   ]
  },
  {
   "cell_type": "markdown",
   "metadata": {
    "id": "9vix3c5MDW2C"
   },
   "source": [
    "We know the types of degrees that alums got, now lets put that into a visualization!"
   ]
  },
  {
   "cell_type": "code",
   "execution_count": null,
   "metadata": {
    "id": "984A9pFqDW2C"
   },
   "outputs": [],
   "source": [
    "gradPlansDict = {\"Bachelor's\": bachelorsCounter ,\n",
    "                 \"Master's Degree\": mastersCounter,\n",
    "                \"PhD\":phdCounter}"
   ]
  },
  {
   "cell_type": "code",
   "execution_count": null,
   "metadata": {
    "id": "kq0chZzMDW2C",
    "outputId": "b49c3021-2969-4351-c3b3-e7817d0a0928"
   },
   "outputs": [
    {
     "data": {
      "text/plain": [
       "{\"Bachelor's\": 410, \"Master's Degree\": 320, 'PhD': 70}"
      ]
     },
     "execution_count": 67,
     "metadata": {
      "tags": []
     },
     "output_type": "execute_result"
    }
   ],
   "source": [
    "gradPlansDict"
   ]
  },
  {
   "cell_type": "code",
   "execution_count": null,
   "metadata": {
    "id": "W6SBzgMXDW2C",
    "outputId": "a4476d04-0388-449b-adda-9624feb35469"
   },
   "outputs": [
    {
     "data": {
      "text/plain": [
       "dict_values([410, 320, 70])"
      ]
     },
     "execution_count": 68,
     "metadata": {
      "tags": []
     },
     "output_type": "execute_result"
    }
   ],
   "source": [
    "gradPlansDict.values()"
   ]
  },
  {
   "cell_type": "code",
   "execution_count": null,
   "metadata": {
    "id": "D-b1BxR-DW2C"
   },
   "outputs": [],
   "source": [
    "amount = [amt for amt in gradPlansDict.values()]"
   ]
  },
  {
   "cell_type": "code",
   "execution_count": null,
   "metadata": {
    "id": "L1XXS1cODW2C",
    "outputId": "d117dab2-3dc1-40c6-835b-ecc7b2a8691a"
   },
   "outputs": [
    {
     "data": {
      "text/plain": [
       "[410, 320, 70]"
      ]
     },
     "execution_count": 70,
     "metadata": {
      "tags": []
     },
     "output_type": "execute_result"
    }
   ],
   "source": [
    "amount"
   ]
  },
  {
   "cell_type": "code",
   "execution_count": null,
   "metadata": {
    "id": "2N7s-GSNDW2C"
   },
   "outputs": [],
   "source": [
    "import plotly.graph_objects as go"
   ]
  },
  {
   "cell_type": "code",
   "execution_count": null,
   "metadata": {
    "id": "P_guDP41DW2C",
    "outputId": "6c6faf7d-2733-4ede-ee92-dd3219437780"
   },
   "outputs": [
    {
     "data": {
      "text/plain": [
       "dict_keys([\"Bachelor's\", \"Master's Degree\", 'PhD'])"
      ]
     },
     "execution_count": 72,
     "metadata": {
      "tags": []
     },
     "output_type": "execute_result"
    }
   ],
   "source": [
    "gradPlansDict.keys()"
   ]
  },
  {
   "cell_type": "code",
   "execution_count": null,
   "metadata": {
    "id": "UBJYafVhDW2D",
    "outputId": "7f64cab4-57ef-41f2-b48a-fc6badd79e8f"
   },
   "outputs": [
    {
     "data": {
      "application/vnd.plotly.v1+json": {
       "config": {
        "plotlyServerURL": "https://plot.ly"
       },
       "data": [
        {
         "marker": {
          "color": "purple"
         },
         "type": "bar",
         "x": [
          "Bachelor's",
          "Master's Degree",
          "PhD"
         ],
         "y": [
          410,
          320,
          70
         ]
        }
       ],
       "layout": {
        "template": {
         "data": {
          "bar": [
           {
            "error_x": {
             "color": "#2a3f5f"
            },
            "error_y": {
             "color": "#2a3f5f"
            },
            "marker": {
             "line": {
              "color": "#E5ECF6",
              "width": 0.5
             }
            },
            "type": "bar"
           }
          ],
          "barpolar": [
           {
            "marker": {
             "line": {
              "color": "#E5ECF6",
              "width": 0.5
             }
            },
            "type": "barpolar"
           }
          ],
          "carpet": [
           {
            "aaxis": {
             "endlinecolor": "#2a3f5f",
             "gridcolor": "white",
             "linecolor": "white",
             "minorgridcolor": "white",
             "startlinecolor": "#2a3f5f"
            },
            "baxis": {
             "endlinecolor": "#2a3f5f",
             "gridcolor": "white",
             "linecolor": "white",
             "minorgridcolor": "white",
             "startlinecolor": "#2a3f5f"
            },
            "type": "carpet"
           }
          ],
          "choropleth": [
           {
            "colorbar": {
             "outlinewidth": 0,
             "ticks": ""
            },
            "type": "choropleth"
           }
          ],
          "contour": [
           {
            "colorbar": {
             "outlinewidth": 0,
             "ticks": ""
            },
            "colorscale": [
             [
              0,
              "#0d0887"
             ],
             [
              0.1111111111111111,
              "#46039f"
             ],
             [
              0.2222222222222222,
              "#7201a8"
             ],
             [
              0.3333333333333333,
              "#9c179e"
             ],
             [
              0.4444444444444444,
              "#bd3786"
             ],
             [
              0.5555555555555556,
              "#d8576b"
             ],
             [
              0.6666666666666666,
              "#ed7953"
             ],
             [
              0.7777777777777778,
              "#fb9f3a"
             ],
             [
              0.8888888888888888,
              "#fdca26"
             ],
             [
              1,
              "#f0f921"
             ]
            ],
            "type": "contour"
           }
          ],
          "contourcarpet": [
           {
            "colorbar": {
             "outlinewidth": 0,
             "ticks": ""
            },
            "type": "contourcarpet"
           }
          ],
          "heatmap": [
           {
            "colorbar": {
             "outlinewidth": 0,
             "ticks": ""
            },
            "colorscale": [
             [
              0,
              "#0d0887"
             ],
             [
              0.1111111111111111,
              "#46039f"
             ],
             [
              0.2222222222222222,
              "#7201a8"
             ],
             [
              0.3333333333333333,
              "#9c179e"
             ],
             [
              0.4444444444444444,
              "#bd3786"
             ],
             [
              0.5555555555555556,
              "#d8576b"
             ],
             [
              0.6666666666666666,
              "#ed7953"
             ],
             [
              0.7777777777777778,
              "#fb9f3a"
             ],
             [
              0.8888888888888888,
              "#fdca26"
             ],
             [
              1,
              "#f0f921"
             ]
            ],
            "type": "heatmap"
           }
          ],
          "heatmapgl": [
           {
            "colorbar": {
             "outlinewidth": 0,
             "ticks": ""
            },
            "colorscale": [
             [
              0,
              "#0d0887"
             ],
             [
              0.1111111111111111,
              "#46039f"
             ],
             [
              0.2222222222222222,
              "#7201a8"
             ],
             [
              0.3333333333333333,
              "#9c179e"
             ],
             [
              0.4444444444444444,
              "#bd3786"
             ],
             [
              0.5555555555555556,
              "#d8576b"
             ],
             [
              0.6666666666666666,
              "#ed7953"
             ],
             [
              0.7777777777777778,
              "#fb9f3a"
             ],
             [
              0.8888888888888888,
              "#fdca26"
             ],
             [
              1,
              "#f0f921"
             ]
            ],
            "type": "heatmapgl"
           }
          ],
          "histogram": [
           {
            "marker": {
             "colorbar": {
              "outlinewidth": 0,
              "ticks": ""
             }
            },
            "type": "histogram"
           }
          ],
          "histogram2d": [
           {
            "colorbar": {
             "outlinewidth": 0,
             "ticks": ""
            },
            "colorscale": [
             [
              0,
              "#0d0887"
             ],
             [
              0.1111111111111111,
              "#46039f"
             ],
             [
              0.2222222222222222,
              "#7201a8"
             ],
             [
              0.3333333333333333,
              "#9c179e"
             ],
             [
              0.4444444444444444,
              "#bd3786"
             ],
             [
              0.5555555555555556,
              "#d8576b"
             ],
             [
              0.6666666666666666,
              "#ed7953"
             ],
             [
              0.7777777777777778,
              "#fb9f3a"
             ],
             [
              0.8888888888888888,
              "#fdca26"
             ],
             [
              1,
              "#f0f921"
             ]
            ],
            "type": "histogram2d"
           }
          ],
          "histogram2dcontour": [
           {
            "colorbar": {
             "outlinewidth": 0,
             "ticks": ""
            },
            "colorscale": [
             [
              0,
              "#0d0887"
             ],
             [
              0.1111111111111111,
              "#46039f"
             ],
             [
              0.2222222222222222,
              "#7201a8"
             ],
             [
              0.3333333333333333,
              "#9c179e"
             ],
             [
              0.4444444444444444,
              "#bd3786"
             ],
             [
              0.5555555555555556,
              "#d8576b"
             ],
             [
              0.6666666666666666,
              "#ed7953"
             ],
             [
              0.7777777777777778,
              "#fb9f3a"
             ],
             [
              0.8888888888888888,
              "#fdca26"
             ],
             [
              1,
              "#f0f921"
             ]
            ],
            "type": "histogram2dcontour"
           }
          ],
          "mesh3d": [
           {
            "colorbar": {
             "outlinewidth": 0,
             "ticks": ""
            },
            "type": "mesh3d"
           }
          ],
          "parcoords": [
           {
            "line": {
             "colorbar": {
              "outlinewidth": 0,
              "ticks": ""
             }
            },
            "type": "parcoords"
           }
          ],
          "pie": [
           {
            "automargin": true,
            "type": "pie"
           }
          ],
          "scatter": [
           {
            "marker": {
             "colorbar": {
              "outlinewidth": 0,
              "ticks": ""
             }
            },
            "type": "scatter"
           }
          ],
          "scatter3d": [
           {
            "line": {
             "colorbar": {
              "outlinewidth": 0,
              "ticks": ""
             }
            },
            "marker": {
             "colorbar": {
              "outlinewidth": 0,
              "ticks": ""
             }
            },
            "type": "scatter3d"
           }
          ],
          "scattercarpet": [
           {
            "marker": {
             "colorbar": {
              "outlinewidth": 0,
              "ticks": ""
             }
            },
            "type": "scattercarpet"
           }
          ],
          "scattergeo": [
           {
            "marker": {
             "colorbar": {
              "outlinewidth": 0,
              "ticks": ""
             }
            },
            "type": "scattergeo"
           }
          ],
          "scattergl": [
           {
            "marker": {
             "colorbar": {
              "outlinewidth": 0,
              "ticks": ""
             }
            },
            "type": "scattergl"
           }
          ],
          "scattermapbox": [
           {
            "marker": {
             "colorbar": {
              "outlinewidth": 0,
              "ticks": ""
             }
            },
            "type": "scattermapbox"
           }
          ],
          "scatterpolar": [
           {
            "marker": {
             "colorbar": {
              "outlinewidth": 0,
              "ticks": ""
             }
            },
            "type": "scatterpolar"
           }
          ],
          "scatterpolargl": [
           {
            "marker": {
             "colorbar": {
              "outlinewidth": 0,
              "ticks": ""
             }
            },
            "type": "scatterpolargl"
           }
          ],
          "scatterternary": [
           {
            "marker": {
             "colorbar": {
              "outlinewidth": 0,
              "ticks": ""
             }
            },
            "type": "scatterternary"
           }
          ],
          "surface": [
           {
            "colorbar": {
             "outlinewidth": 0,
             "ticks": ""
            },
            "colorscale": [
             [
              0,
              "#0d0887"
             ],
             [
              0.1111111111111111,
              "#46039f"
             ],
             [
              0.2222222222222222,
              "#7201a8"
             ],
             [
              0.3333333333333333,
              "#9c179e"
             ],
             [
              0.4444444444444444,
              "#bd3786"
             ],
             [
              0.5555555555555556,
              "#d8576b"
             ],
             [
              0.6666666666666666,
              "#ed7953"
             ],
             [
              0.7777777777777778,
              "#fb9f3a"
             ],
             [
              0.8888888888888888,
              "#fdca26"
             ],
             [
              1,
              "#f0f921"
             ]
            ],
            "type": "surface"
           }
          ],
          "table": [
           {
            "cells": {
             "fill": {
              "color": "#EBF0F8"
             },
             "line": {
              "color": "white"
             }
            },
            "header": {
             "fill": {
              "color": "#C8D4E3"
             },
             "line": {
              "color": "white"
             }
            },
            "type": "table"
           }
          ]
         },
         "layout": {
          "annotationdefaults": {
           "arrowcolor": "#2a3f5f",
           "arrowhead": 0,
           "arrowwidth": 1
          },
          "coloraxis": {
           "colorbar": {
            "outlinewidth": 0,
            "ticks": ""
           }
          },
          "colorscale": {
           "diverging": [
            [
             0,
             "#8e0152"
            ],
            [
             0.1,
             "#c51b7d"
            ],
            [
             0.2,
             "#de77ae"
            ],
            [
             0.3,
             "#f1b6da"
            ],
            [
             0.4,
             "#fde0ef"
            ],
            [
             0.5,
             "#f7f7f7"
            ],
            [
             0.6,
             "#e6f5d0"
            ],
            [
             0.7,
             "#b8e186"
            ],
            [
             0.8,
             "#7fbc41"
            ],
            [
             0.9,
             "#4d9221"
            ],
            [
             1,
             "#276419"
            ]
           ],
           "sequential": [
            [
             0,
             "#0d0887"
            ],
            [
             0.1111111111111111,
             "#46039f"
            ],
            [
             0.2222222222222222,
             "#7201a8"
            ],
            [
             0.3333333333333333,
             "#9c179e"
            ],
            [
             0.4444444444444444,
             "#bd3786"
            ],
            [
             0.5555555555555556,
             "#d8576b"
            ],
            [
             0.6666666666666666,
             "#ed7953"
            ],
            [
             0.7777777777777778,
             "#fb9f3a"
            ],
            [
             0.8888888888888888,
             "#fdca26"
            ],
            [
             1,
             "#f0f921"
            ]
           ],
           "sequentialminus": [
            [
             0,
             "#0d0887"
            ],
            [
             0.1111111111111111,
             "#46039f"
            ],
            [
             0.2222222222222222,
             "#7201a8"
            ],
            [
             0.3333333333333333,
             "#9c179e"
            ],
            [
             0.4444444444444444,
             "#bd3786"
            ],
            [
             0.5555555555555556,
             "#d8576b"
            ],
            [
             0.6666666666666666,
             "#ed7953"
            ],
            [
             0.7777777777777778,
             "#fb9f3a"
            ],
            [
             0.8888888888888888,
             "#fdca26"
            ],
            [
             1,
             "#f0f921"
            ]
           ]
          },
          "colorway": [
           "#636efa",
           "#EF553B",
           "#00cc96",
           "#ab63fa",
           "#FFA15A",
           "#19d3f3",
           "#FF6692",
           "#B6E880",
           "#FF97FF",
           "#FECB52"
          ],
          "font": {
           "color": "#2a3f5f"
          },
          "geo": {
           "bgcolor": "white",
           "lakecolor": "white",
           "landcolor": "#E5ECF6",
           "showlakes": true,
           "showland": true,
           "subunitcolor": "white"
          },
          "hoverlabel": {
           "align": "left"
          },
          "hovermode": "closest",
          "mapbox": {
           "style": "light"
          },
          "paper_bgcolor": "white",
          "plot_bgcolor": "#E5ECF6",
          "polar": {
           "angularaxis": {
            "gridcolor": "white",
            "linecolor": "white",
            "ticks": ""
           },
           "bgcolor": "#E5ECF6",
           "radialaxis": {
            "gridcolor": "white",
            "linecolor": "white",
            "ticks": ""
           }
          },
          "scene": {
           "xaxis": {
            "backgroundcolor": "#E5ECF6",
            "gridcolor": "white",
            "gridwidth": 2,
            "linecolor": "white",
            "showbackground": true,
            "ticks": "",
            "zerolinecolor": "white"
           },
           "yaxis": {
            "backgroundcolor": "#E5ECF6",
            "gridcolor": "white",
            "gridwidth": 2,
            "linecolor": "white",
            "showbackground": true,
            "ticks": "",
            "zerolinecolor": "white"
           },
           "zaxis": {
            "backgroundcolor": "#E5ECF6",
            "gridcolor": "white",
            "gridwidth": 2,
            "linecolor": "white",
            "showbackground": true,
            "ticks": "",
            "zerolinecolor": "white"
           }
          },
          "shapedefaults": {
           "line": {
            "color": "#2a3f5f"
           }
          },
          "ternary": {
           "aaxis": {
            "gridcolor": "white",
            "linecolor": "white",
            "ticks": ""
           },
           "baxis": {
            "gridcolor": "white",
            "linecolor": "white",
            "ticks": ""
           },
           "bgcolor": "#E5ECF6",
           "caxis": {
            "gridcolor": "white",
            "linecolor": "white",
            "ticks": ""
           }
          },
          "title": {
           "x": 0.05
          },
          "xaxis": {
           "automargin": true,
           "gridcolor": "white",
           "linecolor": "white",
           "ticks": "",
           "title": {
            "standoff": 15
           },
           "zerolinecolor": "white",
           "zerolinewidth": 2
          },
          "yaxis": {
           "automargin": true,
           "gridcolor": "white",
           "linecolor": "white",
           "ticks": "",
           "title": {
            "standoff": 15
           },
           "zerolinecolor": "white",
           "zerolinewidth": 2
          }
         }
        },
        "xaxis": {
         "tickmode": "linear",
         "title": {
          "text": "Highest Degree Earned"
         }
        },
        "yaxis": {
         "title": {
          "text": "Alum Count"
         }
        }
       }
      },
      "text/html": [
       "<div>                            <div id=\"53607a5d-3234-4b72-8a84-aeb57bcd3d77\" class=\"plotly-graph-div\" style=\"height:525px; width:100%;\"></div>            <script type=\"text/javascript\">                require([\"plotly\"], function(Plotly) {                    window.PLOTLYENV=window.PLOTLYENV || {};                                    if (document.getElementById(\"53607a5d-3234-4b72-8a84-aeb57bcd3d77\")) {                    Plotly.newPlot(                        \"53607a5d-3234-4b72-8a84-aeb57bcd3d77\",                        [{\"marker\": {\"color\": \"purple\"}, \"type\": \"bar\", \"x\": [\"Bachelor's\", \"Master's Degree\", \"PhD\"], \"y\": [410, 320, 70]}],                        {\"template\": {\"data\": {\"bar\": [{\"error_x\": {\"color\": \"#2a3f5f\"}, \"error_y\": {\"color\": \"#2a3f5f\"}, \"marker\": {\"line\": {\"color\": \"#E5ECF6\", \"width\": 0.5}}, \"type\": \"bar\"}], \"barpolar\": [{\"marker\": {\"line\": {\"color\": \"#E5ECF6\", \"width\": 0.5}}, \"type\": \"barpolar\"}], \"carpet\": [{\"aaxis\": {\"endlinecolor\": \"#2a3f5f\", \"gridcolor\": \"white\", \"linecolor\": \"white\", \"minorgridcolor\": \"white\", \"startlinecolor\": \"#2a3f5f\"}, \"baxis\": {\"endlinecolor\": \"#2a3f5f\", \"gridcolor\": \"white\", \"linecolor\": \"white\", \"minorgridcolor\": \"white\", \"startlinecolor\": \"#2a3f5f\"}, \"type\": \"carpet\"}], \"choropleth\": [{\"colorbar\": {\"outlinewidth\": 0, \"ticks\": \"\"}, \"type\": \"choropleth\"}], \"contour\": [{\"colorbar\": {\"outlinewidth\": 0, \"ticks\": \"\"}, \"colorscale\": [[0.0, \"#0d0887\"], [0.1111111111111111, \"#46039f\"], [0.2222222222222222, \"#7201a8\"], [0.3333333333333333, \"#9c179e\"], [0.4444444444444444, \"#bd3786\"], [0.5555555555555556, \"#d8576b\"], [0.6666666666666666, \"#ed7953\"], [0.7777777777777778, \"#fb9f3a\"], [0.8888888888888888, \"#fdca26\"], [1.0, \"#f0f921\"]], \"type\": \"contour\"}], \"contourcarpet\": [{\"colorbar\": {\"outlinewidth\": 0, \"ticks\": \"\"}, \"type\": \"contourcarpet\"}], \"heatmap\": [{\"colorbar\": {\"outlinewidth\": 0, \"ticks\": \"\"}, \"colorscale\": [[0.0, \"#0d0887\"], [0.1111111111111111, \"#46039f\"], [0.2222222222222222, \"#7201a8\"], [0.3333333333333333, \"#9c179e\"], [0.4444444444444444, \"#bd3786\"], [0.5555555555555556, \"#d8576b\"], [0.6666666666666666, \"#ed7953\"], [0.7777777777777778, \"#fb9f3a\"], [0.8888888888888888, \"#fdca26\"], [1.0, \"#f0f921\"]], \"type\": \"heatmap\"}], \"heatmapgl\": [{\"colorbar\": {\"outlinewidth\": 0, \"ticks\": \"\"}, \"colorscale\": [[0.0, \"#0d0887\"], [0.1111111111111111, \"#46039f\"], [0.2222222222222222, \"#7201a8\"], [0.3333333333333333, \"#9c179e\"], [0.4444444444444444, \"#bd3786\"], [0.5555555555555556, \"#d8576b\"], [0.6666666666666666, \"#ed7953\"], [0.7777777777777778, \"#fb9f3a\"], [0.8888888888888888, \"#fdca26\"], [1.0, \"#f0f921\"]], \"type\": \"heatmapgl\"}], \"histogram\": [{\"marker\": {\"colorbar\": {\"outlinewidth\": 0, \"ticks\": \"\"}}, \"type\": \"histogram\"}], \"histogram2d\": [{\"colorbar\": {\"outlinewidth\": 0, \"ticks\": \"\"}, \"colorscale\": [[0.0, \"#0d0887\"], [0.1111111111111111, \"#46039f\"], [0.2222222222222222, \"#7201a8\"], [0.3333333333333333, \"#9c179e\"], [0.4444444444444444, \"#bd3786\"], [0.5555555555555556, \"#d8576b\"], [0.6666666666666666, \"#ed7953\"], [0.7777777777777778, \"#fb9f3a\"], [0.8888888888888888, \"#fdca26\"], [1.0, \"#f0f921\"]], \"type\": \"histogram2d\"}], \"histogram2dcontour\": [{\"colorbar\": {\"outlinewidth\": 0, \"ticks\": \"\"}, \"colorscale\": [[0.0, \"#0d0887\"], [0.1111111111111111, \"#46039f\"], [0.2222222222222222, \"#7201a8\"], [0.3333333333333333, \"#9c179e\"], [0.4444444444444444, \"#bd3786\"], [0.5555555555555556, \"#d8576b\"], [0.6666666666666666, \"#ed7953\"], [0.7777777777777778, \"#fb9f3a\"], [0.8888888888888888, \"#fdca26\"], [1.0, \"#f0f921\"]], \"type\": \"histogram2dcontour\"}], \"mesh3d\": [{\"colorbar\": {\"outlinewidth\": 0, \"ticks\": \"\"}, \"type\": \"mesh3d\"}], \"parcoords\": [{\"line\": {\"colorbar\": {\"outlinewidth\": 0, \"ticks\": \"\"}}, \"type\": \"parcoords\"}], \"pie\": [{\"automargin\": true, \"type\": \"pie\"}], \"scatter\": [{\"marker\": {\"colorbar\": {\"outlinewidth\": 0, \"ticks\": \"\"}}, \"type\": \"scatter\"}], \"scatter3d\": [{\"line\": {\"colorbar\": {\"outlinewidth\": 0, \"ticks\": \"\"}}, \"marker\": {\"colorbar\": {\"outlinewidth\": 0, \"ticks\": \"\"}}, \"type\": \"scatter3d\"}], \"scattercarpet\": [{\"marker\": {\"colorbar\": {\"outlinewidth\": 0, \"ticks\": \"\"}}, \"type\": \"scattercarpet\"}], \"scattergeo\": [{\"marker\": {\"colorbar\": {\"outlinewidth\": 0, \"ticks\": \"\"}}, \"type\": \"scattergeo\"}], \"scattergl\": [{\"marker\": {\"colorbar\": {\"outlinewidth\": 0, \"ticks\": \"\"}}, \"type\": \"scattergl\"}], \"scattermapbox\": [{\"marker\": {\"colorbar\": {\"outlinewidth\": 0, \"ticks\": \"\"}}, \"type\": \"scattermapbox\"}], \"scatterpolar\": [{\"marker\": {\"colorbar\": {\"outlinewidth\": 0, \"ticks\": \"\"}}, \"type\": \"scatterpolar\"}], \"scatterpolargl\": [{\"marker\": {\"colorbar\": {\"outlinewidth\": 0, \"ticks\": \"\"}}, \"type\": \"scatterpolargl\"}], \"scatterternary\": [{\"marker\": {\"colorbar\": {\"outlinewidth\": 0, \"ticks\": \"\"}}, \"type\": \"scatterternary\"}], \"surface\": [{\"colorbar\": {\"outlinewidth\": 0, \"ticks\": \"\"}, \"colorscale\": [[0.0, \"#0d0887\"], [0.1111111111111111, \"#46039f\"], [0.2222222222222222, \"#7201a8\"], [0.3333333333333333, \"#9c179e\"], [0.4444444444444444, \"#bd3786\"], [0.5555555555555556, \"#d8576b\"], [0.6666666666666666, \"#ed7953\"], [0.7777777777777778, \"#fb9f3a\"], [0.8888888888888888, \"#fdca26\"], [1.0, \"#f0f921\"]], \"type\": \"surface\"}], \"table\": [{\"cells\": {\"fill\": {\"color\": \"#EBF0F8\"}, \"line\": {\"color\": \"white\"}}, \"header\": {\"fill\": {\"color\": \"#C8D4E3\"}, \"line\": {\"color\": \"white\"}}, \"type\": \"table\"}]}, \"layout\": {\"annotationdefaults\": {\"arrowcolor\": \"#2a3f5f\", \"arrowhead\": 0, \"arrowwidth\": 1}, \"coloraxis\": {\"colorbar\": {\"outlinewidth\": 0, \"ticks\": \"\"}}, \"colorscale\": {\"diverging\": [[0, \"#8e0152\"], [0.1, \"#c51b7d\"], [0.2, \"#de77ae\"], [0.3, \"#f1b6da\"], [0.4, \"#fde0ef\"], [0.5, \"#f7f7f7\"], [0.6, \"#e6f5d0\"], [0.7, \"#b8e186\"], [0.8, \"#7fbc41\"], [0.9, \"#4d9221\"], [1, \"#276419\"]], \"sequential\": [[0.0, \"#0d0887\"], [0.1111111111111111, \"#46039f\"], [0.2222222222222222, \"#7201a8\"], [0.3333333333333333, \"#9c179e\"], [0.4444444444444444, \"#bd3786\"], [0.5555555555555556, \"#d8576b\"], [0.6666666666666666, \"#ed7953\"], [0.7777777777777778, \"#fb9f3a\"], [0.8888888888888888, \"#fdca26\"], [1.0, \"#f0f921\"]], \"sequentialminus\": [[0.0, \"#0d0887\"], [0.1111111111111111, \"#46039f\"], [0.2222222222222222, \"#7201a8\"], [0.3333333333333333, \"#9c179e\"], [0.4444444444444444, \"#bd3786\"], [0.5555555555555556, \"#d8576b\"], [0.6666666666666666, \"#ed7953\"], [0.7777777777777778, \"#fb9f3a\"], [0.8888888888888888, \"#fdca26\"], [1.0, \"#f0f921\"]]}, \"colorway\": [\"#636efa\", \"#EF553B\", \"#00cc96\", \"#ab63fa\", \"#FFA15A\", \"#19d3f3\", \"#FF6692\", \"#B6E880\", \"#FF97FF\", \"#FECB52\"], \"font\": {\"color\": \"#2a3f5f\"}, \"geo\": {\"bgcolor\": \"white\", \"lakecolor\": \"white\", \"landcolor\": \"#E5ECF6\", \"showlakes\": true, \"showland\": true, \"subunitcolor\": \"white\"}, \"hoverlabel\": {\"align\": \"left\"}, \"hovermode\": \"closest\", \"mapbox\": {\"style\": \"light\"}, \"paper_bgcolor\": \"white\", \"plot_bgcolor\": \"#E5ECF6\", \"polar\": {\"angularaxis\": {\"gridcolor\": \"white\", \"linecolor\": \"white\", \"ticks\": \"\"}, \"bgcolor\": \"#E5ECF6\", \"radialaxis\": {\"gridcolor\": \"white\", \"linecolor\": \"white\", \"ticks\": \"\"}}, \"scene\": {\"xaxis\": {\"backgroundcolor\": \"#E5ECF6\", \"gridcolor\": \"white\", \"gridwidth\": 2, \"linecolor\": \"white\", \"showbackground\": true, \"ticks\": \"\", \"zerolinecolor\": \"white\"}, \"yaxis\": {\"backgroundcolor\": \"#E5ECF6\", \"gridcolor\": \"white\", \"gridwidth\": 2, \"linecolor\": \"white\", \"showbackground\": true, \"ticks\": \"\", \"zerolinecolor\": \"white\"}, \"zaxis\": {\"backgroundcolor\": \"#E5ECF6\", \"gridcolor\": \"white\", \"gridwidth\": 2, \"linecolor\": \"white\", \"showbackground\": true, \"ticks\": \"\", \"zerolinecolor\": \"white\"}}, \"shapedefaults\": {\"line\": {\"color\": \"#2a3f5f\"}}, \"ternary\": {\"aaxis\": {\"gridcolor\": \"white\", \"linecolor\": \"white\", \"ticks\": \"\"}, \"baxis\": {\"gridcolor\": \"white\", \"linecolor\": \"white\", \"ticks\": \"\"}, \"bgcolor\": \"#E5ECF6\", \"caxis\": {\"gridcolor\": \"white\", \"linecolor\": \"white\", \"ticks\": \"\"}}, \"title\": {\"x\": 0.05}, \"xaxis\": {\"automargin\": true, \"gridcolor\": \"white\", \"linecolor\": \"white\", \"ticks\": \"\", \"title\": {\"standoff\": 15}, \"zerolinecolor\": \"white\", \"zerolinewidth\": 2}, \"yaxis\": {\"automargin\": true, \"gridcolor\": \"white\", \"linecolor\": \"white\", \"ticks\": \"\", \"title\": {\"standoff\": 15}, \"zerolinecolor\": \"white\", \"zerolinewidth\": 2}}}, \"xaxis\": {\"tickmode\": \"linear\", \"title\": {\"text\": \"Highest Degree Earned\"}}, \"yaxis\": {\"title\": {\"text\": \"Alum Count\"}}},                        {\"responsive\": true}                    ).then(function(){\n",
       "                            \n",
       "var gd = document.getElementById('53607a5d-3234-4b72-8a84-aeb57bcd3d77');\n",
       "var x = new MutationObserver(function (mutations, observer) {{\n",
       "        var display = window.getComputedStyle(gd).display;\n",
       "        if (!display || display === 'none') {{\n",
       "            console.log([gd, 'removed!']);\n",
       "            Plotly.purge(gd);\n",
       "            observer.disconnect();\n",
       "        }}\n",
       "}});\n",
       "\n",
       "// Listen for the removal of the full notebook cells\n",
       "var notebookContainer = gd.closest('#notebook-container');\n",
       "if (notebookContainer) {{\n",
       "    x.observe(notebookContainer, {childList: true});\n",
       "}}\n",
       "\n",
       "// Listen for the clearing of the current output cell\n",
       "var outputEl = gd.closest('.output');\n",
       "if (outputEl) {{\n",
       "    x.observe(outputEl, {childList: true});\n",
       "}}\n",
       "\n",
       "                        })                };                });            </script>        </div>"
      ]
     },
     "metadata": {
      "tags": []
     },
     "output_type": "display_data"
    }
   ],
   "source": [
    "title =[key for key in gradPlansDict.keys()]\n",
    "amount = [amt for amt in gradPlansDict.values()]\n",
    "\n",
    "fig = go.Figure([go.Bar(x=title, y=amount, marker_color= 'purple')])\n",
    "fig.update_layout(xaxis=dict(title='Highest Degree Earned', tickmode='linear'), yaxis = dict(title = 'Alum Count'))\n",
    "fig.show()"
   ]
  },
  {
   "cell_type": "code",
   "execution_count": null,
   "metadata": {
    "id": "cTc1M2_NDW2D",
    "outputId": "8b8ca22c-d69e-4f57-9207-cdfefe7e44ce"
   },
   "outputs": [
    {
     "data": {
      "text/plain": [
       "[\"Bachelor's\", \"Master's Degree\", 'PhD']"
      ]
     },
     "execution_count": 74,
     "metadata": {
      "tags": []
     },
     "output_type": "execute_result"
    }
   ],
   "source": [
    "title"
   ]
  },
  {
   "cell_type": "code",
   "execution_count": null,
   "metadata": {
    "id": "Y7fjYCBKDW2D",
    "outputId": "6670cba0-ad27-40fa-82c4-eae35cb7ce80"
   },
   "outputs": [
    {
     "data": {
      "text/plain": [
       "[410, 320, 70]"
      ]
     },
     "execution_count": 75,
     "metadata": {
      "tags": []
     },
     "output_type": "execute_result"
    }
   ],
   "source": [
    "amount"
   ]
  },
  {
   "cell_type": "markdown",
   "metadata": {
    "id": "Ur1ddMfoDW2D"
   },
   "source": [
    "### Goal:\n",
    "Using filtered data frame, see what kind of insitutions alums went to using the information they put into their description is split by the commas and we \n",
    "look which school they went to grad school for. The name of the institution is usually in front of \n",
    "the kind of degree they got\n",
    "\n",
    "ex. Wellesley College, Bachelors, 2010, Boston University, Masters, 2013, etc\n",
    "\n",
    "Make a wordcloud with this?"
   ]
  },
  {
   "cell_type": "code",
   "execution_count": null,
   "metadata": {
    "id": "vnBgt4u4DW2D",
    "outputId": "6eca74ca-db61-498d-f157-71682d0e32fc"
   },
   "outputs": [
    {
     "data": {
      "text/plain": [
       "['Courtauld Institute of Art',\n",
       " ' Bard Graduate Center',\n",
       " ' Harvard University',\n",
       " 'Wellesley College',\n",
       " 'Boston University',\n",
       " 'Tufts University',\n",
       " 'Massachusetts Institute of Technology (MIT)',\n",
       " ' Stanford University',\n",
       " ' University of Pennsylvania (UPenn)',\n",
       " 'Columbia University in the City of New York',\n",
       " ' Oral History Summer Institute',\n",
       " ' Sarah Lawrence College',\n",
       " 'Stanford University',\n",
       " 'Massachusetts Institute of Technology - Sloan School of Management',\n",
       " ' Université Paris-Sorbonne',\n",
       " \" St. Paul's School\",\n",
       " ' Wellesley College',\n",
       " 'Columbia University',\n",
       " ' Brandeis Univ',\n",
       " ' Northwestern Univ',\n",
       " ' Williams College',\n",
       " 'Harvard Univ',\n",
       " ' University Michigan-Ann Arbor',\n",
       " ' Harvard Univ',\n",
       " ' Yale University - Divinity School',\n",
       " ' Boston College',\n",
       " 'Univ Pennsylvania',\n",
       " ' School of Visual Arts',\n",
       " 'University of Pennsylvania - The Wharton School',\n",
       " 'Cornell University',\n",
       " ' School of the Art Institute of Chicago',\n",
       " ' University of  London',\n",
       " 'Columbia Univ Sch of Gen Stud',\n",
       " ' Univ California-San Diego',\n",
       " ' Harvard Univ',\n",
       " ' Harvard Graduate School of Education',\n",
       " 'University of Colorado at Boulder',\n",
       " ' Graduate',\n",
       " 'Univ North Carolina-Chapel Hil',\n",
       " 'San Francisco Art Institute',\n",
       " ' Indiana University-Purdue University at Indianapolis',\n",
       " ' Berkeley Haas School of Business',\n",
       " ' Harvard Univ',\n",
       " 'University of Southern California (USC)',\n",
       " 'California Institute of Arts',\n",
       " ' San Jose State University',\n",
       " ' Georgetown Univ',\n",
       " 'University Texas-Austin',\n",
       " 'Univ Pennsylvania',\n",
       " ' Univ Pennsylvania',\n",
       " 'Tufts University',\n",
       " 'Wellesley College',\n",
       " ' Bentley College',\n",
       " ' University of North Carolina at Chapel Hill',\n",
       " ' London Academy of Music and Dramatic Art',\n",
       " ' Graduate',\n",
       " 'Darden School of Business',\n",
       " 'Princeton Univ',\n",
       " 'Hawaii Pacific University',\n",
       " ' University of North Carolina at Chapel Hill',\n",
       " 'MIT Sloan School of Management',\n",
       " ' Boston Univ',\n",
       " ' Boston Univ',\n",
       " 'Brandeis Univ',\n",
       " ' Boston College',\n",
       " 'Northwestern Univ',\n",
       " ' Tufts University',\n",
       " 'University Texas-Austin',\n",
       " ' Graduate',\n",
       " ' University of  London',\n",
       " ' University of Chicago',\n",
       " ' George Washington Univ',\n",
       " ' Northern Arizona University',\n",
       " ' University of Washington (Washington)',\n",
       " 'University of Chicago',\n",
       " ' Massachusetts Institute of Technology (MIT)',\n",
       " 'Delft University of Technology',\n",
       " 'Tufts University (Massachusetts)',\n",
       " 'New York University',\n",
       " 'University of California Los Angeles (UCLA)',\n",
       " ' Univ Washington',\n",
       " ' Tufts University',\n",
       " ' Teachers College',\n",
       " ' Columbia University',\n",
       " 'Clemson University',\n",
       " ' University of California (UCLA) Anderson School of Business',\n",
       " ' Harvard Univ',\n",
       " ' New York University',\n",
       " ' Wellesley College',\n",
       " ' New York University',\n",
       " ' New York University - Leonard N. Stern School of Business',\n",
       " 'Harvard Univ',\n",
       " 'Medill School of Journalism',\n",
       " 'Wellesley College',\n",
       " 'Cornell Univ',\n",
       " ' University of Chicago',\n",
       " 'Duke University',\n",
       " ' Yale University',\n",
       " ' Univ Pennsylvania',\n",
       " ' Univ Pennsylvania',\n",
       " ' Pennsylvania State Univ',\n",
       " 'Smith College',\n",
       " ' Univ Massachusetts-Amherst',\n",
       " ' Univ Massachusetts-Amherst',\n",
       " 'University of Minnesota Twin Cities',\n",
       " 'Wellesley College',\n",
       " ' Yale School of Management',\n",
       " ' Graduate Degree',\n",
       " ' Southern Methodist Univ',\n",
       " ' Univ Tulsa',\n",
       " 'Columbia University in the City of New York',\n",
       " ' New York University',\n",
       " ' Boston Univ',\n",
       " 'University Texas-Austin',\n",
       " 'Southern New Hampshire University',\n",
       " ' University of Southern Maine',\n",
       " ' Harvard Business School',\n",
       " 'William Paterson University of New Jersey',\n",
       " ' School of Music: Music Education',\n",
       " ' The Grace Hopper Program at Fullstack Academy',\n",
       " ' Wellesley College',\n",
       " ' Harvard Business School',\n",
       " ' Harvard Univ',\n",
       " ' University Arizona',\n",
       " ' University Arizona',\n",
       " ' Babson College',\n",
       " ' Boston Architectural College',\n",
       " 'Harvard Extension School',\n",
       " ' Boston Univ',\n",
       " 'Columbia Univ Columbia Coll',\n",
       " 'Northwestern Univ',\n",
       " ' Columbia University - Teachers College',\n",
       " ' University of Vermont (Vermont)',\n",
       " 'University of Massachusetts-Boston',\n",
       " ' Cornell Univ',\n",
       " ' American University Cairo',\n",
       " ' Graduate Certificate',\n",
       " ' Johns Hopkins University',\n",
       " ' University of Minnesota School of Public Health',\n",
       " 'Univ California-Berkeley',\n",
       " ' Univ California-Berkeley',\n",
       " ' Wellesley College',\n",
       " ' Wellesley College',\n",
       " ' Tufts University',\n",
       " ' Georgetown Univ',\n",
       " ' Boston Univ',\n",
       " 'Univ Washington',\n",
       " ' Univ Washington',\n",
       " ' University of Washington (Washington)',\n",
       " 'MIT Sloan School of Management',\n",
       " ' New York University Stern School of Business',\n",
       " ' Parsons School of Design',\n",
       " ' University of Washington (Washington)',\n",
       " ' Graduate Certificate',\n",
       " 'Cornell University',\n",
       " ' Massachusetts Institute of Technology (MIT)',\n",
       " 'Wellesley College',\n",
       " 'Wellesley College',\n",
       " 'University of California',\n",
       " 'Wellesley College',\n",
       " ' Harvard Medical School',\n",
       " ' Harvard Medical School',\n",
       " ' Stanford University',\n",
       " ' School of Education: Learning Design and Technology',\n",
       " ' Wellesley College',\n",
       " ' Woodrow Wilson Graduate School of Teaching and Learning',\n",
       " 'Wellesley College',\n",
       " 'Wellesley College',\n",
       " ' University of Massachusetts Amherst',\n",
       " ' University of Washington (Washington)',\n",
       " ' Imperial College London',\n",
       " 'Wellesley College',\n",
       " 'Wellesley College',\n",
       " ' Wellesley College',\n",
       " 'Southern New Hampshire University',\n",
       " ' Lithuanian Music and Theatre Academy',\n",
       " ' Central European University',\n",
       " ' Northeastern University',\n",
       " ' Graduate Certificate',\n",
       " ' Florida State University (Florida)',\n",
       " ' Florida State University (Florida)',\n",
       " ' Graduate Certificate',\n",
       " ' Florida State University (Florida)',\n",
       " 'University of Michigan - Ann Arbor',\n",
       " 'Massachusetts Institute of Technology (MIT)',\n",
       " ' Boston Univ',\n",
       " 'Lund University',\n",
       " ' Yale University',\n",
       " 'Boston University',\n",
       " ' Harvard Extension School',\n",
       " ' Oakland University WB (Michigan)',\n",
       " ' Oakland University William Beaumont School of Medicine',\n",
       " ' Yale University',\n",
       " ' Icahn School of Medicine at Mount Sinai',\n",
       " 'University of California Davis (California)',\n",
       " 'University of California San Francisco (UCSF)',\n",
       " 'Tufts University (Massachusetts)',\n",
       " ' University of Pennsylvania - The Wharton School',\n",
       " 'Yale University',\n",
       " 'University of Oxford',\n",
       " 'University of Maryland',\n",
       " ' Stanford University Graduate School of Education',\n",
       " ' Columbia Univ Columbia Coll',\n",
       " ' Boston College',\n",
       " 'New York University',\n",
       " ' Georgetown Univ',\n",
       " ' Georgetown Univ',\n",
       " 'Johns Hopkins University',\n",
       " 'Northwestern Univ',\n",
       " ' Nottingham High School',\n",
       " ' Wellesley College',\n",
       " ' Wellesley College',\n",
       " ' Univ California-Berkeley',\n",
       " ' Harvard Univ',\n",
       " ' Harvard Business School',\n",
       " ' Stanford University Graduate School of Business',\n",
       " ' Wellesley College',\n",
       " ' Univ California-Hastings',\n",
       " 'Johns Hopkins University',\n",
       " ' Massachusetts Institute of Technology (MIT)',\n",
       " ' New York University',\n",
       " ' American University of Cairo',\n",
       " ' Harvard Univ',\n",
       " 'Clark Univ',\n",
       " ' Clark Univ',\n",
       " ' Georgia State Univ',\n",
       " 'Cornell Univ',\n",
       " ' Cornell University',\n",
       " 'Univ Chicago',\n",
       " 'Royal College of Art',\n",
       " ' Sheridan College',\n",
       " ' York University',\n",
       " ' Columbia Univ Columbia Coll',\n",
       " ' Columbia Univ Columbia Coll',\n",
       " 'Lesley University',\n",
       " 'Southern Ill Univ Carbondale',\n",
       " 'Teachers College',\n",
       " ' Columbia University',\n",
       " ' Carnegie Mellon University',\n",
       " 'Franklin W. Olin College of Engineering',\n",
       " 'Franklin W. Olin College of Engineering',\n",
       " ' Harvard Univ',\n",
       " ' Georgetown Univ',\n",
       " 'Johns Hopkins University',\n",
       " ' Univ Maryland-College Park',\n",
       " ' Brown Univ',\n",
       " 'Johns Hopkins University',\n",
       " ' University of California Berkeley',\n",
       " 'Stanford University',\n",
       " 'Univ Virginia',\n",
       " ' Univ Virginia',\n",
       " ' Wellesley College',\n",
       " 'Johns Hopkins University',\n",
       " ' New York University',\n",
       " ' Northwestern Univ',\n",
       " 'Univ Southern California',\n",
       " ' Yale University',\n",
       " ' Yale University',\n",
       " ' Yale University',\n",
       " ' Wellesley College',\n",
       " ' Yale University',\n",
       " 'Northwestern Univ',\n",
       " 'Hamline Univ',\n",
       " ' Columbia University in the City of New York',\n",
       " ' Wellesley College',\n",
       " ' Columbia University in the City of New York',\n",
       " ' Massachusetts Institute of Technology (MIT)',\n",
       " ' University of Michigan - Ann Arbor',\n",
       " ' School of Business: Marketing',\n",
       " 'Univ Pennsylvania',\n",
       " ' Pennsylvania State Univ',\n",
       " ' University of Pennsylvania Law School',\n",
       " ' The Ohio State University',\n",
       " ' Univ Pennsylvania',\n",
       " 'University of Massachusetts-Boston',\n",
       " ' Graduate Certificate',\n",
       " ' American University',\n",
       " ' TheCoaches Training Institute',\n",
       " 'Harvard Univ',\n",
       " ' Northwestern Univ',\n",
       " ' Northwestern Univ',\n",
       " ' Northeastern Univ',\n",
       " ' Univ Kansas',\n",
       " 'Northeastern Univ',\n",
       " ' Brandeis University',\n",
       " ' Graduate',\n",
       " 'Stanford University',\n",
       " 'Brandeis Univ',\n",
       " ' Univ Massachusetts-Amherst',\n",
       " 'The George Washington University',\n",
       " ' Northern Illinois Univ',\n",
       " 'Stanford University',\n",
       " ' Harvard Univ',\n",
       " ' Arizona State University',\n",
       " 'UCLA Anderson Graduate School of Management',\n",
       " ' Simmons College',\n",
       " 'George Washington Univ',\n",
       " ' Harvard Univ',\n",
       " ' Harvard Univ',\n",
       " 'San Jose State University',\n",
       " 'Stanford Law School',\n",
       " ' Columbia University School of the Arts',\n",
       " ' Natural Gourmet Institute for Health & Culinary Arts',\n",
       " 'Johns Hopkins University',\n",
       " ' Koc University',\n",
       " ' Koc University',\n",
       " ' Palo Alto Com College',\n",
       " 'Johns Hopkins University',\n",
       " ' University of Washington (Washington)',\n",
       " ' Univ Pennsylvania',\n",
       " 'Univ California-Berkeley',\n",
       " ' Tufts University (Massachusetts)',\n",
       " ' Case Western Reserve Univ',\n",
       " ' University Texas-Austin',\n",
       " ' Univ California-San Diego',\n",
       " 'Harvard Univ',\n",
       " ' University of Oxford',\n",
       " ' University of Oxford',\n",
       " 'CUNY Bernard M Baruch College',\n",
       " ' School of Business: Business Administration',\n",
       " 'Lesley University',\n",
       " ' University of Wisconsin-Oshkosh',\n",
       " ' Washington University in St. Louis',\n",
       " 'Wellesley College',\n",
       " 'Wellesley College',\n",
       " ' Univ Connecticut',\n",
       " ' Boise State Univ',\n",
       " ' Suny College-Buffalo',\n",
       " ' Bren School of Environmental Science & Management',\n",
       " ' Wellesley College',\n",
       " ' San Francisco State University',\n",
       " ' Columbia Univ Columbia Coll',\n",
       " 'City University of New York-Hunter College',\n",
       " ' Wellesley College',\n",
       " ' Bentley College',\n",
       " 'Washington State University',\n",
       " ' Harvard University Graduate School of Education',\n",
       " ' University of Massachusetts Boston',\n",
       " ' instructional design',\n",
       " ' Vanderbilt University (Tennessee)',\n",
       " ' Wake Forest Univ',\n",
       " ' Univ. of Houston - Main Campus',\n",
       " 'University of Michigan - Ann Arbor',\n",
       " ' Yale University',\n",
       " 'Univ Southern California',\n",
       " ' Harvard University - Medical School',\n",
       " 'Massachusetts Institute of Technology (MIT)',\n",
       " ' Georgetown Univ',\n",
       " 'Arizona State University',\n",
       " 'University of Massachusetts Amherst',\n",
       " 'The New School',\n",
       " 'Stanford University',\n",
       " 'Tufts University',\n",
       " ' Harvard Univ',\n",
       " ' Tufts University - The Fletcher School of Law and Diplomacy',\n",
       " ' Wellesley College',\n",
       " ' University of Chicago Laboratory Schools',\n",
       " ' High School Diploma',\n",
       " ' Harvard T.H. Chan School of Public Health',\n",
       " ' Univ California-Berkeley',\n",
       " ' Univ Washington',\n",
       " ' West Virginia University (West Virginia)',\n",
       " 'Bentley College',\n",
       " ' Northeastern Univ',\n",
       " ' Georgetown Univ',\n",
       " 'Wellesley College',\n",
       " ' University of California',\n",
       " ' University of California San Diego',\n",
       " 'Duke Univ',\n",
       " ' Univ Maryland-College Park',\n",
       " ' Univ Maryland-College Park',\n",
       " ' Univ North Carolina-Chapel Hil',\n",
       " 'Bentley University',\n",
       " ' Columbia University',\n",
       " 'Wellesley College',\n",
       " ' Eidgenössische Technische Hochschule Zürich',\n",
       " ' University of Luxembourg',\n",
       " ' Massachusetts Institute of Technology',\n",
       " ' Swiss Federal Institute of Technology ETH Zurich',\n",
       " 'University College London',\n",
       " ' University of California',\n",
       " ' Univ California-Santa Barbara',\n",
       " 'Babson College',\n",
       " 'Stanford University',\n",
       " 'Courtald Institute of Art',\n",
       " ' Harvard Univ',\n",
       " ' Univ Texas-Arlington',\n",
       " ' Yale University',\n",
       " ' Rice University',\n",
       " ' Graduate',\n",
       " ' Massachusetts Institute of Technology',\n",
       " ' Stanford University Graduate School of Business',\n",
       " ' Stanford University',\n",
       " 'Wellesley College',\n",
       " ' Univ Nebraska-Lincoln',\n",
       " 'Univ Pennsylvania',\n",
       " ' San Diego State Univ',\n",
       " ' Graduate Certificate',\n",
       " ' Univ Cincinnati',\n",
       " 'Stanford University',\n",
       " 'Mills College',\n",
       " 'Univ North Carolina-Chapel Hil',\n",
       " 'Oregon State University',\n",
       " ' Oregon State University',\n",
       " ' Oregon State University',\n",
       " ' Columbia Univ Columbia Coll',\n",
       " ' Ohio State Univ',\n",
       " 'Carnegie Mellon University',\n",
       " ' Tulane Univ',\n",
       " 'University of North Carolina at Chapel Hill',\n",
       " 'Waseda University-Tokyo',\n",
       " ' Courtald Institute of Art',\n",
       " ' Univ Coll-London-England',\n",
       " 'Southern New Hampshire University',\n",
       " ' Wellesley College',\n",
       " ' Univ California-Santa Cruz',\n",
       " 'Univ Massachusetts-Amherst',\n",
       " 'University of Iowa',\n",
       " ' Georgetown University',\n",
       " 'Duke Univ',\n",
       " ' Idaho State Univ',\n",
       " 'Univ California-Los Angeles',\n",
       " ' Boston University',\n",
       " ' Harvard Univ',\n",
       " ' Florida International University',\n",
       " 'Simmons College',\n",
       " 'New York University',\n",
       " ' Columbia Univ Sch of Gen Stud',\n",
       " 'Harvard Extension School',\n",
       " 'Simmons College',\n",
       " 'Tufts University',\n",
       " 'Univ Texas Southwestern',\n",
       " ' Teachers College',\n",
       " ' Columbia University',\n",
       " ' Yale University',\n",
       " 'University of California - Haas School of Business',\n",
       " 'Bentley College',\n",
       " ' Bentley University',\n",
       " 'Wellesley College',\n",
       " ' Georgetown University',\n",
       " ' Boston Univ',\n",
       " ' Harvard Univ',\n",
       " ' Cornell University',\n",
       " 'Wellesley College',\n",
       " ' New York University',\n",
       " 'City College of San Francisco',\n",
       " 'University of Illinois-Urbana',\n",
       " 'Lesley University',\n",
       " ' The Fletcher School at Tufts University',\n",
       " 'Rhode Island College',\n",
       " ' Rhode Island School of Design (RISD)',\n",
       " 'Wellesley College',\n",
       " ' New York University',\n",
       " 'Nova Southeastern University',\n",
       " ' University Texas-Austin',\n",
       " 'Univ Illinois-Chicago',\n",
       " ' Harvard Univ',\n",
       " 'Johns Hopkins University',\n",
       " ' School of Engineering: Computer Science: Computer Science (Data Science)',\n",
       " ' New York University',\n",
       " 'Arizona State University',\n",
       " 'Massachusetts Institute of Technology (MIT)',\n",
       " 'Univ California-Los Angeles',\n",
       " ' McGill University',\n",
       " ' University of Chicago',\n",
       " 'National Taiwan Normal University',\n",
       " ' Dartmouth College',\n",
       " 'Wageningen University',\n",
       " ' University of Colorado Boulder',\n",
       " 'Yale School of Management',\n",
       " 'The Courtauld Institute',\n",
       " 'Wellesley College',\n",
       " ' Wellesley College',\n",
       " 'Univ Connecticut',\n",
       " 'University of Oxford',\n",
       " 'Yale University',\n",
       " ' New York University',\n",
       " 'Stanford University',\n",
       " ' Graduate',\n",
       " ' Columbia Univ Columbia Coll',\n",
       " 'George Washington Univ',\n",
       " ' Harvard Univ',\n",
       " 'Wellesley College',\n",
       " ' MIT Sloan School of Management',\n",
       " ' Wellesley College',\n",
       " ' Wellesley College',\n",
       " 'Columbia Univ Columbia Coll',\n",
       " ' Claremont Graduate Sch',\n",
       " ' Santa Monica College',\n",
       " ' Graduate Certificate',\n",
       " ' Hebrew Univ-Jerusalem',\n",
       " ' Hebrew Univ-Jerusalem',\n",
       " ' Harvard Univ',\n",
       " ' Haifa University',\n",
       " ' Columbia University',\n",
       " 'Univ Colorado-Boulder',\n",
       " ' University of Florida',\n",
       " 'Mills College',\n",
       " ' The Ohio State University Fisher College of Business',\n",
       " ' School of the Art Institute of Chicago',\n",
       " ' Columbia Univ Columbia Coll',\n",
       " 'Northeastern University',\n",
       " 'Wellesley College',\n",
       " ' Duke Univ',\n",
       " ' Duke University - The Fuqua School of Business',\n",
       " ' Northeastern University',\n",
       " ' American University',\n",
       " ' Wellesley College',\n",
       " ' Stanford University',\n",
       " ' Stanford University',\n",
       " ' Columbia University - GSAPP',\n",
       " ' Indiana University Maurer School of Law',\n",
       " ' DigiPen Institute of Technology',\n",
       " ' Stanford University',\n",
       " ' Massachusetts Institute of Technology (MIT)',\n",
       " ' Boston Univ',\n",
       " ' University of Southern Maine',\n",
       " ' Graduate Certificate',\n",
       " ' Wellesley College',\n",
       " ' Brandeis University',\n",
       " ' Wellesley College',\n",
       " ' Massachusetts Institute of Technology - Sloan School of Management',\n",
       " ' Simmons College',\n",
       " ' Relay Graduate School of Education']"
      ]
     },
     "execution_count": 94,
     "metadata": {
      "tags": []
     },
     "output_type": "execute_result"
    }
   ],
   "source": [
    "##First, get all of the institutions that have the word 'University', 'Graduate', 'Institute'\n",
    "gradSchoolsList = []\n",
    "for gradSchool in df['majorCleaning']:\n",
    "    for details in gradSchool:\n",
    "            if 'University' in details or 'Graduate' in details or 'Institute' in details or 'College' in details or 'College' in details or 'Univ' in details or 'sch' in details or 'School' in details or 'Academy' in details or 'inst' in details or 'Université' in details:\n",
    "                gradSchoolsList.append(details)\n",
    "            \n",
    "gradSchoolsList"
   ]
  },
  {
   "cell_type": "code",
   "execution_count": null,
   "metadata": {
    "id": "ARWFH1DiDW2D"
   },
   "outputs": [],
   "source": [
    "for school in gradSchoolsList:\n",
    "    if 'Wellesley' in school or 'Welles' in school or ' Wellesley' in school:\n",
    "        gradSchoolsList.remove(school)"
   ]
  },
  {
   "cell_type": "code",
   "execution_count": null,
   "metadata": {
    "id": "ng85fU6oDW2D"
   },
   "outputs": [],
   "source": [
    "gradSchoolsList"
   ]
  },
  {
   "cell_type": "code",
   "execution_count": null,
   "metadata": {
    "id": "CSKVH-_uDW2D"
   },
   "outputs": [],
   "source": [
    "gradSeries = pd.Series(gradSchoolsList)"
   ]
  },
  {
   "cell_type": "code",
   "execution_count": null,
   "metadata": {
    "id": "KrDS3O2-DW2D",
    "outputId": "7973bb2e-8ebc-4441-b95c-26e576d3f68e"
   },
   "outputs": [
    {
     "data": {
      "text/plain": [
       " Harvard Univ                       18\n",
       " Yale University                    10\n",
       " New York University                 9\n",
       " Boston Univ                         8\n",
       "Stanford University                  8\n",
       "                                    ..\n",
       " TheCoaches Training Institute       1\n",
       " University of Vermont (Vermont)     1\n",
       " Courtald Institute of Art           1\n",
       " Duke Univ                           1\n",
       " Southern Methodist Univ             1\n",
       "Length: 285, dtype: int64"
      ]
     },
     "execution_count": 104,
     "metadata": {
      "tags": []
     },
     "output_type": "execute_result"
    }
   ],
   "source": [
    "gradSeries.value_counts()"
   ]
  },
  {
   "cell_type": "code",
   "execution_count": null,
   "metadata": {
    "id": "RS1_YWHoDW2D"
   },
   "outputs": [],
   "source": [
    "from wordcloud import WordCloud\n",
    "import matplotlib.pyplot as plt\n",
    "from nltk.corpus import stopwords"
   ]
  },
  {
   "cell_type": "code",
   "execution_count": null,
   "metadata": {
    "id": "G3_q58Y3DW2D"
   },
   "outputs": [],
   "source": [
    "def updateStopWords(language, words=set()):\n",
    "    sW = set(stopwords.words(language))\n",
    "    return sW.union(words)"
   ]
  },
  {
   "cell_type": "code",
   "execution_count": null,
   "metadata": {
    "id": "LEMiKSFXDW2E"
   },
   "outputs": [],
   "source": [
    "sW = updateStopWords('english', ['Univ'])"
   ]
  },
  {
   "cell_type": "code",
   "execution_count": null,
   "metadata": {
    "id": "G1xHGst1DW2E"
   },
   "outputs": [],
   "source": [
    "def createWordCloud(text, stopwords, fileName, w, h, numWords, backColor, colormap):\n",
    "    wcloud = WordCloud(stopwords=stopwords, width=w, height=h, \n",
    "                   max_words=numWords, colormap=colormap, \n",
    "                   background_color=backColor).generate(text)\n",
    "    plt.figure(1,(w/100,h/100)) \n",
    "    plt.imshow(wcloud, interpolation=\"bilinear\") \n",
    "    plt.axis(\"off\") \n",
    "    plt.margins(x=0, y=0) \n",
    "    plt.show()\n",
    "    \n",
    "    wcloud.to_file(fileName) "
   ]
  },
  {
   "cell_type": "code",
   "execution_count": null,
   "metadata": {
    "id": "7cjuf95FDW2E"
   },
   "outputs": [],
   "source": [
    "strGradSchools = str(gradSchoolsList)"
   ]
  },
  {
   "cell_type": "code",
   "execution_count": null,
   "metadata": {
    "id": "IL-L9_mvDW2E",
    "outputId": "d8cafe10-3319-4602-d25d-598df724e3ad"
   },
   "outputs": [
    {
     "data": {
      "image/png": "[encoded data removed]",
      "text/plain": [
       "<Figure size 540x345.6 with 1 Axes>"
      ]
     },
     "metadata": {
      "needs_background": "light",
      "tags": []
     },
     "output_type": "display_data"
    }
   ],
   "source": [
    "createWordCloud(strGradSchools, sW, 'gradSchoolsWordCloud.png', 750, 480, 80, 'black', 'inferno')"
   ]
  },
  {
   "cell_type": "markdown",
   "metadata": {
    "id": "o8sdwU86DW2E"
   },
   "source": [
    "eh, don't love it"
   ]
  },
  {
   "cell_type": "markdown",
   "metadata": {
    "id": "SgJwBe1EDW2E"
   },
   "source": [
    "### Goal:\n",
    "Look at the types of majors that went on to pursue a career in tech"
   ]
  },
  {
   "cell_type": "code",
   "execution_count": null,
   "metadata": {
    "id": "rc_UV2kqDW2E",
    "outputId": "ce62297c-16c4-4f4d-9db7-4584a6e41330"
   },
   "outputs": [
    {
     "data": {
      "text/html": [
       "<div>\n",
       "<style scoped>\n",
       "    .dataframe tbody tr th:only-of-type {\n",
       "        vertical-align: middle;\n",
       "    }\n",
       "\n",
       "    .dataframe tbody tr th {\n",
       "        vertical-align: top;\n",
       "    }\n",
       "\n",
       "    .dataframe thead th {\n",
       "        text-align: right;\n",
       "    }\n",
       "</style>\n",
       "<table border=\"1\" class=\"dataframe\">\n",
       "  <thead>\n",
       "    <tr style=\"text-align: right;\">\n",
       "      <th></th>\n",
       "      <th>majorCleaning</th>\n",
       "      <th>grad_school</th>\n",
       "      <th>major1</th>\n",
       "      <th>major2</th>\n",
       "    </tr>\n",
       "  </thead>\n",
       "  <tbody>\n",
       "    <tr>\n",
       "      <th>0</th>\n",
       "      <td>[Courtauld Institute of Art,  Master's Degree,...</td>\n",
       "      <td>True</td>\n",
       "      <td>Art History</td>\n",
       "      <td></td>\n",
       "    </tr>\n",
       "    <tr>\n",
       "      <th>1</th>\n",
       "      <td>[Wellesley College,  Bachelor's Degree,  2016,...</td>\n",
       "      <td>True</td>\n",
       "      <td>MAS</td>\n",
       "      <td></td>\n",
       "    </tr>\n",
       "    <tr>\n",
       "      <th>2</th>\n",
       "      <td>[Boston University,  Master's Degree,  2016,  ...</td>\n",
       "      <td>True</td>\n",
       "      <td>Physics</td>\n",
       "      <td></td>\n",
       "    </tr>\n",
       "    <tr>\n",
       "      <th>3</th>\n",
       "      <td>[Tufts University,  Master's Degree,  2009,  M...</td>\n",
       "      <td>True</td>\n",
       "      <td>Physics</td>\n",
       "      <td></td>\n",
       "    </tr>\n",
       "    <tr>\n",
       "      <th>4</th>\n",
       "      <td>[Massachusetts Institute of Technology (MIT), ...</td>\n",
       "      <td>True</td>\n",
       "      <td>Middle Eastern Studies</td>\n",
       "      <td></td>\n",
       "    </tr>\n",
       "    <tr>\n",
       "      <th>...</th>\n",
       "      <td>...</td>\n",
       "      <td>...</td>\n",
       "      <td>...</td>\n",
       "      <td>...</td>\n",
       "    </tr>\n",
       "    <tr>\n",
       "      <th>768</th>\n",
       "      <td>[ Wellesley College,  Bachelor of Arts (B.A.),...</td>\n",
       "      <td>True</td>\n",
       "      <td>Cognitive Science</td>\n",
       "      <td>Math</td>\n",
       "    </tr>\n",
       "    <tr>\n",
       "      <th>785</th>\n",
       "      <td>[ Wellesley College,  B.A.,  2009,  Psychology...</td>\n",
       "      <td>True</td>\n",
       "      <td>Psychology</td>\n",
       "      <td>Economics</td>\n",
       "    </tr>\n",
       "    <tr>\n",
       "      <th>791</th>\n",
       "      <td>[ Simmons College,  Master's Degree,  2020,  D...</td>\n",
       "      <td>True</td>\n",
       "      <td>Environmental Studies</td>\n",
       "      <td>Computer Science</td>\n",
       "    </tr>\n",
       "    <tr>\n",
       "      <th>798</th>\n",
       "      <td>[ Relay Graduate School of Education,  Master ...</td>\n",
       "      <td>True</td>\n",
       "      <td>Math</td>\n",
       "      <td>English</td>\n",
       "    </tr>\n",
       "    <tr>\n",
       "      <th>799</th>\n",
       "      <td>[ Massachusetts Inst of Tech,  PhD - Doctor of...</td>\n",
       "      <td>True</td>\n",
       "      <td>Chemistry</td>\n",
       "      <td>Math</td>\n",
       "    </tr>\n",
       "  </tbody>\n",
       "</table>\n",
       "<p>392 rows × 4 columns</p>\n",
       "</div>"
      ],
      "text/plain": [
       "                                         majorCleaning  grad_school  \\\n",
       "0    [Courtauld Institute of Art,  Master's Degree,...         True   \n",
       "1    [Wellesley College,  Bachelor's Degree,  2016,...         True   \n",
       "2    [Boston University,  Master's Degree,  2016,  ...         True   \n",
       "3    [Tufts University,  Master's Degree,  2009,  M...         True   \n",
       "4    [Massachusetts Institute of Technology (MIT), ...         True   \n",
       "..                                                 ...          ...   \n",
       "768  [ Wellesley College,  Bachelor of Arts (B.A.),...         True   \n",
       "785  [ Wellesley College,  B.A.,  2009,  Psychology...         True   \n",
       "791  [ Simmons College,  Master's Degree,  2020,  D...         True   \n",
       "798  [ Relay Graduate School of Education,  Master ...         True   \n",
       "799  [ Massachusetts Inst of Tech,  PhD - Doctor of...         True   \n",
       "\n",
       "                     major1            major2  \n",
       "0               Art History                    \n",
       "1                       MAS                    \n",
       "2                   Physics                    \n",
       "3                   Physics                    \n",
       "4    Middle Eastern Studies                    \n",
       "..                      ...               ...  \n",
       "768       Cognitive Science              Math  \n",
       "785              Psychology         Economics  \n",
       "791   Environmental Studies  Computer Science  \n",
       "798                    Math           English  \n",
       "799               Chemistry              Math  \n",
       "\n",
       "[392 rows x 4 columns]"
      ]
     },
     "execution_count": 151,
     "metadata": {
      "tags": []
     },
     "output_type": "execute_result"
    }
   ],
   "source": [
    "df"
   ]
  },
  {
   "cell_type": "code",
   "execution_count": null,
   "metadata": {
    "id": "iFaPw9pnDW2E",
    "outputId": "85433f6e-51a8-46bf-da87-5d868076f7fc"
   },
   "outputs": [
    {
     "data": {
      "text/plain": [
       "''"
      ]
     },
     "execution_count": 152,
     "metadata": {
      "tags": []
     },
     "output_type": "execute_result"
    }
   ],
   "source": [
    "df['major2'][:1][0]"
   ]
  },
  {
   "cell_type": "code",
   "execution_count": null,
   "metadata": {
    "id": "BR_nUaOuDW2E",
    "outputId": "d0fef21c-79a2-456f-922f-e1e3a74a7f67"
   },
   "outputs": [
    {
     "data": {
      "text/plain": [
       "['Art History',\n",
       " 'MAS',\n",
       " 'Physics',\n",
       " 'Physics',\n",
       " 'Middle Eastern Studies',\n",
       " 'English',\n",
       " 'English',\n",
       " 'Chemistry',\n",
       " 'Art History',\n",
       " 'Russian',\n",
       " 'Geology',\n",
       " 'Art History',\n",
       " 'Political Science',\n",
       " 'Language Studies',\n",
       " 'Economics',\n",
       " 'Art History',\n",
       " 'Art Studio',\n",
       " 'Economics',\n",
       " 'Art Studio',\n",
       " 'Political Science',\n",
       " 'Economics',\n",
       " 'Art History',\n",
       " 'Philosophy',\n",
       " 'Art History',\n",
       " 'Economics',\n",
       " 'Spanish',\n",
       " 'French',\n",
       " 'MAS',\n",
       " 'Indiv-Urban Studies',\n",
       " 'Japanese',\n",
       " 'Astronomy',\n",
       " 'Computer Science',\n",
       " 'Chinese',\n",
       " 'Economics',\n",
       " 'Political Science',\n",
       " 'English',\n",
       " 'English',\n",
       " 'Chemistry',\n",
       " 'Economics',\n",
       " 'Language Studies',\n",
       " 'Computer Science',\n",
       " 'MAS',\n",
       " 'Music',\n",
       " 'Art History',\n",
       " 'Theatre Studies',\n",
       " 'Cognitive Science',\n",
       " 'Economics',\n",
       " 'Computer Science',\n",
       " 'Biology',\n",
       " 'International Relations',\n",
       " 'English',\n",
       " 'International Relations',\n",
       " 'Biology',\n",
       " 'Comparative Literature',\n",
       " 'Economics',\n",
       " 'Art History',\n",
       " 'Political Science',\n",
       " 'Anthropology',\n",
       " 'Astronomy',\n",
       " 'Chemical Physics',\n",
       " 'Cognitive Science',\n",
       " 'Environmental Studies',\n",
       " 'Psychology',\n",
       " 'Psychology',\n",
       " 'Economics',\n",
       " 'Anthropology',\n",
       " 'Architecture',\n",
       " 'Art History',\n",
       " 'Political Science',\n",
       " 'Psychology',\n",
       " 'CAMS',\n",
       " 'Computer Science',\n",
       " 'Chinese',\n",
       " 'Economics',\n",
       " 'Economics',\n",
       " 'Computer Science',\n",
       " 'Math',\n",
       " 'German',\n",
       " 'Psychology',\n",
       " 'East Asian Studies',\n",
       " 'History',\n",
       " 'Psychology',\n",
       " 'Cognitive Science',\n",
       " 'Math',\n",
       " 'Psychology',\n",
       " 'Architecture',\n",
       " 'Math',\n",
       " 'Economics',\n",
       " 'Computer Science',\n",
       " 'Italian Studies',\n",
       " 'Economics',\n",
       " 'Comparative Literature',\n",
       " 'Chinese',\n",
       " 'Math',\n",
       " 'German',\n",
       " 'Economics',\n",
       " 'Music',\n",
       " 'Computer Science',\n",
       " 'Political Science',\n",
       " 'Economics',\n",
       " 'Environmental Studies',\n",
       " 'Math',\n",
       " 'Biology',\n",
       " 'Sociology',\n",
       " 'Economics',\n",
       " 'English',\n",
       " 'History',\n",
       " 'Political Science',\n",
       " 'MAS',\n",
       " 'Economics',\n",
       " 'English',\n",
       " 'Anthropology',\n",
       " 'Cognitive Science',\n",
       " 'History',\n",
       " 'History',\n",
       " 'Economics',\n",
       " 'Biology',\n",
       " 'Philosophy',\n",
       " 'MAS',\n",
       " 'Philosophy',\n",
       " 'Computer Science',\n",
       " 'History',\n",
       " 'International Relations',\n",
       " 'PAJS',\n",
       " 'Computer Science',\n",
       " 'Computer Science',\n",
       " 'MAS',\n",
       " 'Neuroscience',\n",
       " 'Computer Science',\n",
       " 'Biology',\n",
       " 'Physics',\n",
       " 'Computer Science',\n",
       " 'Computer Science',\n",
       " 'Art Studio',\n",
       " 'Math',\n",
       " 'Music',\n",
       " 'Art History',\n",
       " 'Physics',\n",
       " 'Art History',\n",
       " 'Cognitive Science',\n",
       " 'Economics',\n",
       " 'Neuroscience',\n",
       " 'Computer Science',\n",
       " 'Biology',\n",
       " 'Chemistry',\n",
       " 'Economics',\n",
       " 'Art History',\n",
       " 'Biology',\n",
       " 'History',\n",
       " 'Computer Science',\n",
       " 'Africana Studies',\n",
       " 'Chemistry',\n",
       " 'Political Science',\n",
       " 'CAMS',\n",
       " 'International Relations',\n",
       " 'Psychology',\n",
       " 'English',\n",
       " 'Economics',\n",
       " 'Computer Science',\n",
       " 'Economics',\n",
       " 'Psychology',\n",
       " 'Astronomy',\n",
       " 'Psychology',\n",
       " 'PAJS',\n",
       " 'Political Science',\n",
       " 'Economics',\n",
       " 'Economics',\n",
       " 'Economics',\n",
       " 'Economics',\n",
       " 'History',\n",
       " 'American Studies',\n",
       " 'Economics',\n",
       " 'Anthropology',\n",
       " 'Art History',\n",
       " 'Neuroscience',\n",
       " 'MAS',\n",
       " 'Environmental Studies',\n",
       " 'Environmental Studies',\n",
       " 'Chemistry',\n",
       " 'Middle Eastern Studies',\n",
       " 'Physics',\n",
       " 'English',\n",
       " 'Political Science',\n",
       " 'Economics',\n",
       " 'MAS',\n",
       " 'Architecture',\n",
       " 'English',\n",
       " 'Math',\n",
       " 'Physics',\n",
       " 'History',\n",
       " 'Art Studio',\n",
       " 'Economics',\n",
       " 'Economics',\n",
       " 'Political Science',\n",
       " 'Architecture',\n",
       " 'Economics',\n",
       " 'Philosophy',\n",
       " 'Geology',\n",
       " 'Economics',\n",
       " 'Math',\n",
       " 'Art History',\n",
       " 'Computer Science',\n",
       " 'Architecture',\n",
       " 'Art History',\n",
       " 'Computer Science',\n",
       " 'Economics',\n",
       " 'Economics',\n",
       " 'Chemistry',\n",
       " 'English',\n",
       " 'Economics',\n",
       " 'Economics',\n",
       " 'Psychology',\n",
       " 'Economics',\n",
       " 'Art Studio',\n",
       " 'Economics',\n",
       " 'History',\n",
       " 'Sociology',\n",
       " 'Cognitive Science',\n",
       " 'Economics',\n",
       " 'CAMS',\n",
       " 'Physics',\n",
       " 'Computer Science',\n",
       " 'Art Studio',\n",
       " 'MAS',\n",
       " 'Neuroscience',\n",
       " 'Art History',\n",
       " 'Art History',\n",
       " 'Architecture',\n",
       " 'Computer Science',\n",
       " 'Chinese',\n",
       " 'Architecture',\n",
       " 'Cognitive Science',\n",
       " 'Psychology',\n",
       " 'English',\n",
       " 'Biology',\n",
       " 'MAS',\n",
       " 'Biology',\n",
       " 'American Studies',\n",
       " 'Geology',\n",
       " 'Biology',\n",
       " 'Biology',\n",
       " 'Biology',\n",
       " 'English',\n",
       " 'Italian Studies',\n",
       " 'English',\n",
       " 'English',\n",
       " 'Political Science',\n",
       " 'Astrophysics',\n",
       " 'English',\n",
       " 'Spanish',\n",
       " 'Economics',\n",
       " 'Art History',\n",
       " 'Physics',\n",
       " 'Math',\n",
       " 'Biology',\n",
       " 'Bioinformatics',\n",
       " 'Sociology',\n",
       " 'Astrophysics',\n",
       " 'Math',\n",
       " 'Computer Science',\n",
       " 'Economics',\n",
       " 'International Relations',\n",
       " 'Computer Science',\n",
       " 'French',\n",
       " 'Psychology',\n",
       " 'Math',\n",
       " 'Middle Eastern Studies',\n",
       " 'Computer Science',\n",
       " 'Economics',\n",
       " 'Math',\n",
       " 'Art History',\n",
       " 'CAMS',\n",
       " 'Psychology',\n",
       " 'Economics',\n",
       " 'Chemistry',\n",
       " 'Psychology',\n",
       " 'Biology',\n",
       " 'English',\n",
       " 'History',\n",
       " 'Art History',\n",
       " 'Computer Science',\n",
       " 'Economics',\n",
       " 'Environmental Studies',\n",
       " 'Computer Science',\n",
       " 'Art Studio',\n",
       " 'Economics',\n",
       " 'Psychology',\n",
       " 'Chemical Physics',\n",
       " 'Physics',\n",
       " 'Political Science',\n",
       " 'Physics',\n",
       " 'Computer Science',\n",
       " 'Physics',\n",
       " 'Biology',\n",
       " 'Art History',\n",
       " 'Environmental Studies',\n",
       " 'East Asian Studies',\n",
       " 'Astronomy',\n",
       " 'Art History',\n",
       " 'Biology',\n",
       " 'Art Studio',\n",
       " 'Computer Science',\n",
       " 'American Studies',\n",
       " 'Computer Science',\n",
       " 'Political Science',\n",
       " 'French Studies',\n",
       " 'Computer Science',\n",
       " 'Political Science',\n",
       " 'Latin',\n",
       " 'Economics',\n",
       " 'Math',\n",
       " 'Computer Science',\n",
       " 'Art History',\n",
       " 'Psychology',\n",
       " 'Italian Studies',\n",
       " 'English',\n",
       " 'English',\n",
       " 'Economics',\n",
       " 'Neuroscience',\n",
       " 'English',\n",
       " 'Architecture',\n",
       " 'Biology',\n",
       " 'Cognitive Science',\n",
       " 'Computer Science',\n",
       " 'Biology',\n",
       " 'Chinese',\n",
       " 'Biology',\n",
       " 'Biology',\n",
       " 'CAMS',\n",
       " 'Economics',\n",
       " 'Anthropology',\n",
       " 'Math',\n",
       " 'Philosophy',\n",
       " 'Economics',\n",
       " 'PAJS',\n",
       " 'Neuroscience',\n",
       " 'Neuroscience',\n",
       " 'English',\n",
       " 'American Studies',\n",
       " 'Art History',\n",
       " 'Architecture',\n",
       " 'Biology',\n",
       " 'Chemistry',\n",
       " 'Economics',\n",
       " 'Astrophysics',\n",
       " 'MAS',\n",
       " 'Economics',\n",
       " 'Astrophysics',\n",
       " 'Political Science',\n",
       " 'History',\n",
       " 'Architecture',\n",
       " 'Economics',\n",
       " 'Art History',\n",
       " 'History',\n",
       " 'Theatre Studies',\n",
       " 'Math',\n",
       " 'Art History',\n",
       " 'French',\n",
       " 'Economics',\n",
       " 'Art History',\n",
       " 'English',\n",
       " 'Economics',\n",
       " 'International Relations',\n",
       " 'American Studies',\n",
       " 'Math',\n",
       " 'Art History',\n",
       " 'Anthropology',\n",
       " 'German',\n",
       " 'Astrophysics',\n",
       " 'French',\n",
       " 'Comparative Literature',\n",
       " 'Psychology',\n",
       " 'Economics',\n",
       " 'Chemistry',\n",
       " 'Art History',\n",
       " 'Psychology',\n",
       " 'Economics',\n",
       " 'Economics',\n",
       " 'Art History',\n",
       " 'Psychology',\n",
       " 'Architecture',\n",
       " 'Psychology',\n",
       " 'English',\n",
       " 'Anthropology',\n",
       " 'Math',\n",
       " 'French',\n",
       " 'Cognitive Science',\n",
       " 'Psychology',\n",
       " 'Environmental Studies',\n",
       " 'Math',\n",
       " 'Chemistry']"
      ]
     },
     "execution_count": 154,
     "metadata": {
      "tags": []
     },
     "output_type": "execute_result"
    }
   ],
   "source": [
    "#put all majors in major1 column into a list for easier cleaning\n",
    "major1List = []\n",
    "for major in df['major1']:\n",
    "    if major != '':\n",
    "        major1List.append(major)\n",
    "        \n",
    "major1List"
   ]
  },
  {
   "cell_type": "code",
   "execution_count": null,
   "metadata": {
    "id": "TvXygvusDW2E",
    "outputId": "f85d4275-996e-408e-802d-4b04907a15ef"
   },
   "outputs": [
    {
     "data": {
      "text/plain": [
       "391"
      ]
     },
     "execution_count": 184,
     "metadata": {
      "tags": []
     },
     "output_type": "execute_result"
    }
   ],
   "source": [
    "len(major1List)"
   ]
  },
  {
   "cell_type": "code",
   "execution_count": null,
   "metadata": {
    "id": "GNhDBBzyDW2F",
    "outputId": "3b984600-a31b-4bcc-dd84-3dc5948addd9"
   },
   "outputs": [
    {
     "data": {
      "text/plain": [
       "['Spanish',\n",
       " 'History',\n",
       " 'English',\n",
       " 'Italian Studies',\n",
       " 'Japanese',\n",
       " 'Art Studio',\n",
       " 'English',\n",
       " 'Math',\n",
       " 'WGST',\n",
       " 'History',\n",
       " 'French',\n",
       " 'Economics',\n",
       " 'MAS',\n",
       " 'Philosophy',\n",
       " 'Computer Science',\n",
       " 'Italian Studies',\n",
       " 'Economics',\n",
       " 'Physics',\n",
       " 'English',\n",
       " 'Economics',\n",
       " 'English',\n",
       " 'Computer Science',\n",
       " 'Italian Studies',\n",
       " 'Psychology',\n",
       " 'Jewish Studies',\n",
       " 'English',\n",
       " 'Spanish',\n",
       " 'Education',\n",
       " 'French',\n",
       " 'Economics',\n",
       " 'Sociology',\n",
       " 'Economics',\n",
       " 'Italian Studies',\n",
       " 'Philosophy',\n",
       " 'Political Science',\n",
       " 'Math',\n",
       " 'Political Science',\n",
       " 'English',\n",
       " 'History',\n",
       " 'Chinese',\n",
       " 'Math',\n",
       " 'Russian',\n",
       " 'Music',\n",
       " 'Sociology',\n",
       " 'Biology',\n",
       " 'Studio Art',\n",
       " 'Spanish',\n",
       " 'Computer Science',\n",
       " 'MAS',\n",
       " 'English',\n",
       " 'Math',\n",
       " 'Studio Art',\n",
       " 'MAS',\n",
       " 'Economics',\n",
       " 'Economics',\n",
       " 'Math',\n",
       " 'Economics',\n",
       " 'Anthropology',\n",
       " 'Political Science',\n",
       " 'Math',\n",
       " 'Economics',\n",
       " 'Political Science',\n",
       " 'WGST',\n",
       " 'French',\n",
       " 'Math',\n",
       " 'Spanish',\n",
       " 'Computer Science',\n",
       " 'Economics',\n",
       " 'Economics',\n",
       " 'English',\n",
       " 'International Relations',\n",
       " 'Psychology',\n",
       " 'Political Science',\n",
       " 'French',\n",
       " 'English',\n",
       " 'Political Science',\n",
       " 'Political Science',\n",
       " 'History',\n",
       " 'Economics',\n",
       " 'WGST',\n",
       " 'Music',\n",
       " 'French Cultural Studies',\n",
       " 'Computer Science',\n",
       " 'Economics',\n",
       " 'French Cultural Studies',\n",
       " 'MAS',\n",
       " 'English',\n",
       " 'Economics',\n",
       " 'English',\n",
       " 'Psychology',\n",
       " 'Computer Science',\n",
       " 'Economics',\n",
       " 'Classics',\n",
       " 'Psychology',\n",
       " 'French',\n",
       " 'Studio Art',\n",
       " 'Math',\n",
       " 'Political Science',\n",
       " 'Physics',\n",
       " 'Japanese',\n",
       " 'Classics',\n",
       " 'Environmental Studies',\n",
       " 'French',\n",
       " 'French',\n",
       " 'WGST',\n",
       " 'German',\n",
       " 'Psychology',\n",
       " 'Economics',\n",
       " 'International Relations',\n",
       " 'Chinese',\n",
       " 'Art History',\n",
       " 'Math',\n",
       " 'Russian',\n",
       " 'Physics',\n",
       " 'Physics',\n",
       " 'English',\n",
       " 'Economics',\n",
       " 'Math',\n",
       " 'Music',\n",
       " 'French',\n",
       " 'Math',\n",
       " 'Economics',\n",
       " 'Math',\n",
       " 'Political Science',\n",
       " 'Physics',\n",
       " 'Economics',\n",
       " 'American Studies',\n",
       " 'French',\n",
       " 'Math',\n",
       " 'Computer Science',\n",
       " 'English',\n",
       " 'International Relations',\n",
       " 'Studio Art',\n",
       " 'Economics',\n",
       " 'French',\n",
       " 'Geology',\n",
       " 'International Relations',\n",
       " 'Computer Science',\n",
       " 'Economics',\n",
       " 'French Cultural Studies',\n",
       " 'Computer Science',\n",
       " 'Art History',\n",
       " 'Classics',\n",
       " 'Neuroscience',\n",
       " 'Art Studio',\n",
       " 'Math',\n",
       " 'Political Science',\n",
       " 'English',\n",
       " 'History',\n",
       " 'Political Science',\n",
       " 'Math',\n",
       " 'Computer Science',\n",
       " 'Classics',\n",
       " 'French',\n",
       " 'Chinese',\n",
       " 'English',\n",
       " 'Environmental Studies',\n",
       " 'Spanish',\n",
       " 'French',\n",
       " 'CAMS',\n",
       " 'Economics',\n",
       " 'Political Science',\n",
       " 'Math',\n",
       " 'Economics',\n",
       " 'Computer Science',\n",
       " 'English',\n",
       " 'Math']"
      ]
     },
     "execution_count": 183,
     "metadata": {
      "tags": []
     },
     "output_type": "execute_result"
    }
   ],
   "source": [
    "major2List = []\n",
    "for major in df['major2']:\n",
    "    if major != '':\n",
    "        major2List.append(major)\n",
    "        \n",
    "major2List"
   ]
  },
  {
   "cell_type": "code",
   "execution_count": null,
   "metadata": {
    "id": "sAJvx9sjDW2F",
    "outputId": "c247e16b-18b5-48ae-b545-4d10c51e94f9"
   },
   "outputs": [
    {
     "data": {
      "text/plain": [
       "167"
      ]
     },
     "execution_count": 185,
     "metadata": {
      "tags": []
     },
     "output_type": "execute_result"
    }
   ],
   "source": [
    "len(major2List)"
   ]
  },
  {
   "cell_type": "code",
   "execution_count": null,
   "metadata": {
    "id": "Bo6f9ndrDW2F"
   },
   "outputs": [],
   "source": [
    "allMajorList = []\n",
    "for major in major1List:\n",
    "    allMajorList.append(major)\n",
    "for major in major2List:\n",
    "    allMajorList.append(major)"
   ]
  },
  {
   "cell_type": "code",
   "execution_count": null,
   "metadata": {
    "id": "JeF61-uZDW2F",
    "outputId": "13898197-b3c9-4aa1-ee0e-3a72ef30ee95"
   },
   "outputs": [
    {
     "data": {
      "text/plain": [
       "558"
      ]
     },
     "execution_count": 198,
     "metadata": {
      "tags": []
     },
     "output_type": "execute_result"
    }
   ],
   "source": [
    "len(allMajorList)"
   ]
  },
  {
   "cell_type": "markdown",
   "metadata": {
    "id": "mqYbpvPCDW2F"
   },
   "source": [
    "Great! Now we have all of the majors in one place. Now to clean them a bit!"
   ]
  },
  {
   "cell_type": "code",
   "execution_count": null,
   "metadata": {
    "id": "siaaRMXiDW2F"
   },
   "outputs": [],
   "source": [
    "##find the unique number of majors and put that into a counter dictionary\n",
    "from collections import Counter"
   ]
  },
  {
   "cell_type": "code",
   "execution_count": null,
   "metadata": {
    "id": "95X3vvV1DW2F"
   },
   "outputs": [],
   "source": [
    "allMajorDict = {major:0 for major in allMajorList}\n",
    "allMajorDict.update(Counter(allMajorList))"
   ]
  },
  {
   "cell_type": "code",
   "execution_count": null,
   "metadata": {
    "id": "cQzwEKPvDW2F",
    "outputId": "aaecd31a-35b4-48a0-ace5-9014575c93bb"
   },
   "outputs": [
    {
     "data": {
      "text/plain": [
       "{'Art History': 32,\n",
       " 'MAS': 15,\n",
       " 'Physics': 16,\n",
       " 'Middle Eastern Studies': 3,\n",
       " 'English': 39,\n",
       " 'Chemistry': 10,\n",
       " 'Russian': 3,\n",
       " 'Geology': 4,\n",
       " 'Political Science': 28,\n",
       " 'Language Studies': 2,\n",
       " 'Economics': 80,\n",
       " 'Art Studio': 10,\n",
       " 'Philosophy': 7,\n",
       " 'Spanish': 7,\n",
       " 'French': 17,\n",
       " 'Indiv-Urban Studies': 1,\n",
       " 'Japanese': 3,\n",
       " 'Astronomy': 4,\n",
       " 'Computer Science': 42,\n",
       " 'Chinese': 8,\n",
       " 'Music': 6,\n",
       " 'Theatre Studies': 2,\n",
       " 'Cognitive Science': 9,\n",
       " 'Biology': 22,\n",
       " 'International Relations': 10,\n",
       " 'Comparative Literature': 3,\n",
       " 'Anthropology': 8,\n",
       " 'Chemical Physics': 2,\n",
       " 'Environmental Studies': 9,\n",
       " 'Psychology': 26,\n",
       " 'Architecture': 11,\n",
       " 'CAMS': 6,\n",
       " 'Math': 35,\n",
       " 'German': 4,\n",
       " 'East Asian Studies': 2,\n",
       " 'History': 17,\n",
       " 'Italian Studies': 7,\n",
       " 'Sociology': 5,\n",
       " 'PAJS': 3,\n",
       " 'Neuroscience': 8,\n",
       " 'Africana Studies': 1,\n",
       " 'American Studies': 6,\n",
       " 'Astrophysics': 5,\n",
       " 'Bioinformatics': 1,\n",
       " 'French Studies': 1,\n",
       " 'Latin': 1,\n",
       " 'WGST': 4,\n",
       " 'Jewish Studies': 1,\n",
       " 'Education': 1,\n",
       " 'Studio Art': 4,\n",
       " 'French Cultural Studies': 3,\n",
       " 'Classics': 4}"
      ]
     },
     "execution_count": 218,
     "metadata": {
      "tags": []
     },
     "output_type": "execute_result"
    }
   ],
   "source": [
    "allMajorDict"
   ]
  },
  {
   "cell_type": "markdown",
   "metadata": {
    "id": "irrqQzx3DW2F"
   },
   "source": [
    "I am seeing that the two majors that have duplicates are French and Studio Art, which is not too bad!"
   ]
  },
  {
   "cell_type": "code",
   "execution_count": null,
   "metadata": {
    "id": "SP_N25TmDW2F",
    "outputId": "b92db82d-9e84-4ca9-94d9-e4c6ec90b7a9"
   },
   "outputs": [
    {
     "data": {
      "text/plain": [
       "dict_keys(['Art History', 'MAS', 'Physics', 'Middle Eastern Studies', 'English', 'Chemistry', 'Russian', 'Geology', 'Political Science', 'Language Studies', 'Economics', 'Art Studio', 'Philosophy', 'Spanish', 'French', 'Indiv-Urban Studies', 'Japanese', 'Astronomy', 'Computer Science', 'Chinese', 'Music', 'Theatre Studies', 'Cognitive Science', 'Biology', 'International Relations', 'Comparative Literature', 'Anthropology', 'Chemical Physics', 'Environmental Studies', 'Psychology', 'Architecture', 'CAMS', 'Math', 'German', 'East Asian Studies', 'History', 'Italian Studies', 'Sociology', 'PAJS', 'Neuroscience', 'Africana Studies', 'American Studies', 'Astrophysics', 'Bioinformatics', 'French Studies', 'Latin', 'WGST', 'Jewish Studies', 'Education', 'Studio Art', 'French Cultural Studies', 'Classics'])"
      ]
     },
     "execution_count": 202,
     "metadata": {
      "tags": []
     },
     "output_type": "execute_result"
    }
   ],
   "source": []
  },
  {
   "cell_type": "code",
   "execution_count": null,
   "metadata": {
    "id": "JYMEiF_-DW2F",
    "outputId": "dba169f1-a93c-4bc0-b15a-430907ddb7b1"
   },
   "outputs": [
    {
     "data": {
      "application/vnd.plotly.v1+json": {
       "config": {
        "plotlyServerURL": "https://plot.ly"
       },
       "data": [
        {
         "marker": {
          "color": "salmon"
         },
         "type": "bar",
         "x": [
          "Art History",
          "MAS",
          "Physics",
          "Middle Eastern Studies",
          "English",
          "Chemistry",
          "Russian",
          "Geology",
          "Political Science",
          "Language Studies",
          "Economics",
          "Art Studio",
          "Philosophy",
          "Spanish",
          "French",
          "Indiv-Urban Studies",
          "Japanese",
          "Astronomy",
          "Computer Science",
          "Chinese",
          "Music",
          "Theatre Studies",
          "Cognitive Science",
          "Biology",
          "International Relations",
          "Comparative Literature",
          "Anthropology",
          "Chemical Physics",
          "Environmental Studies",
          "Psychology",
          "Architecture",
          "CAMS",
          "Math",
          "German",
          "East Asian Studies",
          "History",
          "Italian Studies",
          "Sociology",
          "PAJS",
          "Neuroscience",
          "Africana Studies",
          "American Studies",
          "Astrophysics",
          "Bioinformatics",
          "French Studies",
          "Latin",
          "WGST",
          "Jewish Studies",
          "Education",
          "Studio Art",
          "French Cultural Studies",
          "Classics"
         ],
         "y": [
          32,
          15,
          16,
          3,
          39,
          10,
          3,
          4,
          28,
          2,
          80,
          10,
          7,
          7,
          17,
          1,
          3,
          4,
          42,
          8,
          6,
          2,
          9,
          22,
          10,
          3,
          8,
          2,
          9,
          26,
          11,
          6,
          35,
          4,
          2,
          17,
          7,
          5,
          3,
          8,
          1,
          6,
          5,
          1,
          1,
          1,
          4,
          1,
          1,
          4,
          3,
          4
         ]
        }
       ],
       "layout": {
        "template": {
         "data": {
          "bar": [
           {
            "error_x": {
             "color": "#2a3f5f"
            },
            "error_y": {
             "color": "#2a3f5f"
            },
            "marker": {
             "line": {
              "color": "#E5ECF6",
              "width": 0.5
             }
            },
            "type": "bar"
           }
          ],
          "barpolar": [
           {
            "marker": {
             "line": {
              "color": "#E5ECF6",
              "width": 0.5
             }
            },
            "type": "barpolar"
           }
          ],
          "carpet": [
           {
            "aaxis": {
             "endlinecolor": "#2a3f5f",
             "gridcolor": "white",
             "linecolor": "white",
             "minorgridcolor": "white",
             "startlinecolor": "#2a3f5f"
            },
            "baxis": {
             "endlinecolor": "#2a3f5f",
             "gridcolor": "white",
             "linecolor": "white",
             "minorgridcolor": "white",
             "startlinecolor": "#2a3f5f"
            },
            "type": "carpet"
           }
          ],
          "choropleth": [
           {
            "colorbar": {
             "outlinewidth": 0,
             "ticks": ""
            },
            "type": "choropleth"
           }
          ],
          "contour": [
           {
            "colorbar": {
             "outlinewidth": 0,
             "ticks": ""
            },
            "colorscale": [
             [
              0,
              "#0d0887"
             ],
             [
              0.1111111111111111,
              "#46039f"
             ],
             [
              0.2222222222222222,
              "#7201a8"
             ],
             [
              0.3333333333333333,
              "#9c179e"
             ],
             [
              0.4444444444444444,
              "#bd3786"
             ],
             [
              0.5555555555555556,
              "#d8576b"
             ],
             [
              0.6666666666666666,
              "#ed7953"
             ],
             [
              0.7777777777777778,
              "#fb9f3a"
             ],
             [
              0.8888888888888888,
              "#fdca26"
             ],
             [
              1,
              "#f0f921"
             ]
            ],
            "type": "contour"
           }
          ],
          "contourcarpet": [
           {
            "colorbar": {
             "outlinewidth": 0,
             "ticks": ""
            },
            "type": "contourcarpet"
           }
          ],
          "heatmap": [
           {
            "colorbar": {
             "outlinewidth": 0,
             "ticks": ""
            },
            "colorscale": [
             [
              0,
              "#0d0887"
             ],
             [
              0.1111111111111111,
              "#46039f"
             ],
             [
              0.2222222222222222,
              "#7201a8"
             ],
             [
              0.3333333333333333,
              "#9c179e"
             ],
             [
              0.4444444444444444,
              "#bd3786"
             ],
             [
              0.5555555555555556,
              "#d8576b"
             ],
             [
              0.6666666666666666,
              "#ed7953"
             ],
             [
              0.7777777777777778,
              "#fb9f3a"
             ],
             [
              0.8888888888888888,
              "#fdca26"
             ],
             [
              1,
              "#f0f921"
             ]
            ],
            "type": "heatmap"
           }
          ],
          "heatmapgl": [
           {
            "colorbar": {
             "outlinewidth": 0,
             "ticks": ""
            },
            "colorscale": [
             [
              0,
              "#0d0887"
             ],
             [
              0.1111111111111111,
              "#46039f"
             ],
             [
              0.2222222222222222,
              "#7201a8"
             ],
             [
              0.3333333333333333,
              "#9c179e"
             ],
             [
              0.4444444444444444,
              "#bd3786"
             ],
             [
              0.5555555555555556,
              "#d8576b"
             ],
             [
              0.6666666666666666,
              "#ed7953"
             ],
             [
              0.7777777777777778,
              "#fb9f3a"
             ],
             [
              0.8888888888888888,
              "#fdca26"
             ],
             [
              1,
              "#f0f921"
             ]
            ],
            "type": "heatmapgl"
           }
          ],
          "histogram": [
           {
            "marker": {
             "colorbar": {
              "outlinewidth": 0,
              "ticks": ""
             }
            },
            "type": "histogram"
           }
          ],
          "histogram2d": [
           {
            "colorbar": {
             "outlinewidth": 0,
             "ticks": ""
            },
            "colorscale": [
             [
              0,
              "#0d0887"
             ],
             [
              0.1111111111111111,
              "#46039f"
             ],
             [
              0.2222222222222222,
              "#7201a8"
             ],
             [
              0.3333333333333333,
              "#9c179e"
             ],
             [
              0.4444444444444444,
              "#bd3786"
             ],
             [
              0.5555555555555556,
              "#d8576b"
             ],
             [
              0.6666666666666666,
              "#ed7953"
             ],
             [
              0.7777777777777778,
              "#fb9f3a"
             ],
             [
              0.8888888888888888,
              "#fdca26"
             ],
             [
              1,
              "#f0f921"
             ]
            ],
            "type": "histogram2d"
           }
          ],
          "histogram2dcontour": [
           {
            "colorbar": {
             "outlinewidth": 0,
             "ticks": ""
            },
            "colorscale": [
             [
              0,
              "#0d0887"
             ],
             [
              0.1111111111111111,
              "#46039f"
             ],
             [
              0.2222222222222222,
              "#7201a8"
             ],
             [
              0.3333333333333333,
              "#9c179e"
             ],
             [
              0.4444444444444444,
              "#bd3786"
             ],
             [
              0.5555555555555556,
              "#d8576b"
             ],
             [
              0.6666666666666666,
              "#ed7953"
             ],
             [
              0.7777777777777778,
              "#fb9f3a"
             ],
             [
              0.8888888888888888,
              "#fdca26"
             ],
             [
              1,
              "#f0f921"
             ]
            ],
            "type": "histogram2dcontour"
           }
          ],
          "mesh3d": [
           {
            "colorbar": {
             "outlinewidth": 0,
             "ticks": ""
            },
            "type": "mesh3d"
           }
          ],
          "parcoords": [
           {
            "line": {
             "colorbar": {
              "outlinewidth": 0,
              "ticks": ""
             }
            },
            "type": "parcoords"
           }
          ],
          "pie": [
           {
            "automargin": true,
            "type": "pie"
           }
          ],
          "scatter": [
           {
            "marker": {
             "colorbar": {
              "outlinewidth": 0,
              "ticks": ""
             }
            },
            "type": "scatter"
           }
          ],
          "scatter3d": [
           {
            "line": {
             "colorbar": {
              "outlinewidth": 0,
              "ticks": ""
             }
            },
            "marker": {
             "colorbar": {
              "outlinewidth": 0,
              "ticks": ""
             }
            },
            "type": "scatter3d"
           }
          ],
          "scattercarpet": [
           {
            "marker": {
             "colorbar": {
              "outlinewidth": 0,
              "ticks": ""
             }
            },
            "type": "scattercarpet"
           }
          ],
          "scattergeo": [
           {
            "marker": {
             "colorbar": {
              "outlinewidth": 0,
              "ticks": ""
             }
            },
            "type": "scattergeo"
           }
          ],
          "scattergl": [
           {
            "marker": {
             "colorbar": {
              "outlinewidth": 0,
              "ticks": ""
             }
            },
            "type": "scattergl"
           }
          ],
          "scattermapbox": [
           {
            "marker": {
             "colorbar": {
              "outlinewidth": 0,
              "ticks": ""
             }
            },
            "type": "scattermapbox"
           }
          ],
          "scatterpolar": [
           {
            "marker": {
             "colorbar": {
              "outlinewidth": 0,
              "ticks": ""
             }
            },
            "type": "scatterpolar"
           }
          ],
          "scatterpolargl": [
           {
            "marker": {
             "colorbar": {
              "outlinewidth": 0,
              "ticks": ""
             }
            },
            "type": "scatterpolargl"
           }
          ],
          "scatterternary": [
           {
            "marker": {
             "colorbar": {
              "outlinewidth": 0,
              "ticks": ""
             }
            },
            "type": "scatterternary"
           }
          ],
          "surface": [
           {
            "colorbar": {
             "outlinewidth": 0,
             "ticks": ""
            },
            "colorscale": [
             [
              0,
              "#0d0887"
             ],
             [
              0.1111111111111111,
              "#46039f"
             ],
             [
              0.2222222222222222,
              "#7201a8"
             ],
             [
              0.3333333333333333,
              "#9c179e"
             ],
             [
              0.4444444444444444,
              "#bd3786"
             ],
             [
              0.5555555555555556,
              "#d8576b"
             ],
             [
              0.6666666666666666,
              "#ed7953"
             ],
             [
              0.7777777777777778,
              "#fb9f3a"
             ],
             [
              0.8888888888888888,
              "#fdca26"
             ],
             [
              1,
              "#f0f921"
             ]
            ],
            "type": "surface"
           }
          ],
          "table": [
           {
            "cells": {
             "fill": {
              "color": "#EBF0F8"
             },
             "line": {
              "color": "white"
             }
            },
            "header": {
             "fill": {
              "color": "#C8D4E3"
             },
             "line": {
              "color": "white"
             }
            },
            "type": "table"
           }
          ]
         },
         "layout": {
          "annotationdefaults": {
           "arrowcolor": "#2a3f5f",
           "arrowhead": 0,
           "arrowwidth": 1
          },
          "coloraxis": {
           "colorbar": {
            "outlinewidth": 0,
            "ticks": ""
           }
          },
          "colorscale": {
           "diverging": [
            [
             0,
             "#8e0152"
            ],
            [
             0.1,
             "#c51b7d"
            ],
            [
             0.2,
             "#de77ae"
            ],
            [
             0.3,
             "#f1b6da"
            ],
            [
             0.4,
             "#fde0ef"
            ],
            [
             0.5,
             "#f7f7f7"
            ],
            [
             0.6,
             "#e6f5d0"
            ],
            [
             0.7,
             "#b8e186"
            ],
            [
             0.8,
             "#7fbc41"
            ],
            [
             0.9,
             "#4d9221"
            ],
            [
             1,
             "#276419"
            ]
           ],
           "sequential": [
            [
             0,
             "#0d0887"
            ],
            [
             0.1111111111111111,
             "#46039f"
            ],
            [
             0.2222222222222222,
             "#7201a8"
            ],
            [
             0.3333333333333333,
             "#9c179e"
            ],
            [
             0.4444444444444444,
             "#bd3786"
            ],
            [
             0.5555555555555556,
             "#d8576b"
            ],
            [
             0.6666666666666666,
             "#ed7953"
            ],
            [
             0.7777777777777778,
             "#fb9f3a"
            ],
            [
             0.8888888888888888,
             "#fdca26"
            ],
            [
             1,
             "#f0f921"
            ]
           ],
           "sequentialminus": [
            [
             0,
             "#0d0887"
            ],
            [
             0.1111111111111111,
             "#46039f"
            ],
            [
             0.2222222222222222,
             "#7201a8"
            ],
            [
             0.3333333333333333,
             "#9c179e"
            ],
            [
             0.4444444444444444,
             "#bd3786"
            ],
            [
             0.5555555555555556,
             "#d8576b"
            ],
            [
             0.6666666666666666,
             "#ed7953"
            ],
            [
             0.7777777777777778,
             "#fb9f3a"
            ],
            [
             0.8888888888888888,
             "#fdca26"
            ],
            [
             1,
             "#f0f921"
            ]
           ]
          },
          "colorway": [
           "#636efa",
           "#EF553B",
           "#00cc96",
           "#ab63fa",
           "#FFA15A",
           "#19d3f3",
           "#FF6692",
           "#B6E880",
           "#FF97FF",
           "#FECB52"
          ],
          "font": {
           "color": "#2a3f5f"
          },
          "geo": {
           "bgcolor": "white",
           "lakecolor": "white",
           "landcolor": "#E5ECF6",
           "showlakes": true,
           "showland": true,
           "subunitcolor": "white"
          },
          "hoverlabel": {
           "align": "left"
          },
          "hovermode": "closest",
          "mapbox": {
           "style": "light"
          },
          "paper_bgcolor": "white",
          "plot_bgcolor": "#E5ECF6",
          "polar": {
           "angularaxis": {
            "gridcolor": "white",
            "linecolor": "white",
            "ticks": ""
           },
           "bgcolor": "#E5ECF6",
           "radialaxis": {
            "gridcolor": "white",
            "linecolor": "white",
            "ticks": ""
           }
          },
          "scene": {
           "xaxis": {
            "backgroundcolor": "#E5ECF6",
            "gridcolor": "white",
            "gridwidth": 2,
            "linecolor": "white",
            "showbackground": true,
            "ticks": "",
            "zerolinecolor": "white"
           },
           "yaxis": {
            "backgroundcolor": "#E5ECF6",
            "gridcolor": "white",
            "gridwidth": 2,
            "linecolor": "white",
            "showbackground": true,
            "ticks": "",
            "zerolinecolor": "white"
           },
           "zaxis": {
            "backgroundcolor": "#E5ECF6",
            "gridcolor": "white",
            "gridwidth": 2,
            "linecolor": "white",
            "showbackground": true,
            "ticks": "",
            "zerolinecolor": "white"
           }
          },
          "shapedefaults": {
           "line": {
            "color": "#2a3f5f"
           }
          },
          "ternary": {
           "aaxis": {
            "gridcolor": "white",
            "linecolor": "white",
            "ticks": ""
           },
           "baxis": {
            "gridcolor": "white",
            "linecolor": "white",
            "ticks": ""
           },
           "bgcolor": "#E5ECF6",
           "caxis": {
            "gridcolor": "white",
            "linecolor": "white",
            "ticks": ""
           }
          },
          "title": {
           "x": 0.05
          },
          "xaxis": {
           "automargin": true,
           "gridcolor": "white",
           "linecolor": "white",
           "ticks": "",
           "title": {
            "standoff": 15
           },
           "zerolinecolor": "white",
           "zerolinewidth": 2
          },
          "yaxis": {
           "automargin": true,
           "gridcolor": "white",
           "linecolor": "white",
           "ticks": "",
           "title": {
            "standoff": 15
           },
           "zerolinecolor": "white",
           "zerolinewidth": 2
          }
         }
        },
        "xaxis": {
         "tickmode": "linear",
         "title": {
          "text": "Major"
         }
        },
        "yaxis": {
         "title": {
          "text": "Count"
         }
        }
       }
      },
      "text/html": [
       "<div>                            <div id=\"7e793e9f-e5d6-4f35-891e-73619cb285f5\" class=\"plotly-graph-div\" style=\"height:525px; width:100%;\"></div>            <script type=\"text/javascript\">                require([\"plotly\"], function(Plotly) {                    window.PLOTLYENV=window.PLOTLYENV || {};                                    if (document.getElementById(\"7e793e9f-e5d6-4f35-891e-73619cb285f5\")) {                    Plotly.newPlot(                        \"7e793e9f-e5d6-4f35-891e-73619cb285f5\",                        [{\"marker\": {\"color\": \"salmon\"}, \"type\": \"bar\", \"x\": [\"Art History\", \"MAS\", \"Physics\", \"Middle Eastern Studies\", \"English\", \"Chemistry\", \"Russian\", \"Geology\", \"Political Science\", \"Language Studies\", \"Economics\", \"Art Studio\", \"Philosophy\", \"Spanish\", \"French\", \"Indiv-Urban Studies\", \"Japanese\", \"Astronomy\", \"Computer Science\", \"Chinese\", \"Music\", \"Theatre Studies\", \"Cognitive Science\", \"Biology\", \"International Relations\", \"Comparative Literature\", \"Anthropology\", \"Chemical Physics\", \"Environmental Studies\", \"Psychology\", \"Architecture\", \"CAMS\", \"Math\", \"German\", \"East Asian Studies\", \"History\", \"Italian Studies\", \"Sociology\", \"PAJS\", \"Neuroscience\", \"Africana Studies\", \"American Studies\", \"Astrophysics\", \"Bioinformatics\", \"French Studies\", \"Latin\", \"WGST\", \"Jewish Studies\", \"Education\", \"Studio Art\", \"French Cultural Studies\", \"Classics\"], \"y\": [32, 15, 16, 3, 39, 10, 3, 4, 28, 2, 80, 10, 7, 7, 17, 1, 3, 4, 42, 8, 6, 2, 9, 22, 10, 3, 8, 2, 9, 26, 11, 6, 35, 4, 2, 17, 7, 5, 3, 8, 1, 6, 5, 1, 1, 1, 4, 1, 1, 4, 3, 4]}],                        {\"template\": {\"data\": {\"bar\": [{\"error_x\": {\"color\": \"#2a3f5f\"}, \"error_y\": {\"color\": \"#2a3f5f\"}, \"marker\": {\"line\": {\"color\": \"#E5ECF6\", \"width\": 0.5}}, \"type\": \"bar\"}], \"barpolar\": [{\"marker\": {\"line\": {\"color\": \"#E5ECF6\", \"width\": 0.5}}, \"type\": \"barpolar\"}], \"carpet\": [{\"aaxis\": {\"endlinecolor\": \"#2a3f5f\", \"gridcolor\": \"white\", \"linecolor\": \"white\", \"minorgridcolor\": \"white\", \"startlinecolor\": \"#2a3f5f\"}, \"baxis\": {\"endlinecolor\": \"#2a3f5f\", \"gridcolor\": \"white\", \"linecolor\": \"white\", \"minorgridcolor\": \"white\", \"startlinecolor\": \"#2a3f5f\"}, \"type\": \"carpet\"}], \"choropleth\": [{\"colorbar\": {\"outlinewidth\": 0, \"ticks\": \"\"}, \"type\": \"choropleth\"}], \"contour\": [{\"colorbar\": {\"outlinewidth\": 0, \"ticks\": \"\"}, \"colorscale\": [[0.0, \"#0d0887\"], [0.1111111111111111, \"#46039f\"], [0.2222222222222222, \"#7201a8\"], [0.3333333333333333, \"#9c179e\"], [0.4444444444444444, \"#bd3786\"], [0.5555555555555556, \"#d8576b\"], [0.6666666666666666, \"#ed7953\"], [0.7777777777777778, \"#fb9f3a\"], [0.8888888888888888, \"#fdca26\"], [1.0, \"#f0f921\"]], \"type\": \"contour\"}], \"contourcarpet\": [{\"colorbar\": {\"outlinewidth\": 0, \"ticks\": \"\"}, \"type\": \"contourcarpet\"}], \"heatmap\": [{\"colorbar\": {\"outlinewidth\": 0, \"ticks\": \"\"}, \"colorscale\": [[0.0, \"#0d0887\"], [0.1111111111111111, \"#46039f\"], [0.2222222222222222, \"#7201a8\"], [0.3333333333333333, \"#9c179e\"], [0.4444444444444444, \"#bd3786\"], [0.5555555555555556, \"#d8576b\"], [0.6666666666666666, \"#ed7953\"], [0.7777777777777778, \"#fb9f3a\"], [0.8888888888888888, \"#fdca26\"], [1.0, \"#f0f921\"]], \"type\": \"heatmap\"}], \"heatmapgl\": [{\"colorbar\": {\"outlinewidth\": 0, \"ticks\": \"\"}, \"colorscale\": [[0.0, \"#0d0887\"], [0.1111111111111111, \"#46039f\"], [0.2222222222222222, \"#7201a8\"], [0.3333333333333333, \"#9c179e\"], [0.4444444444444444, \"#bd3786\"], [0.5555555555555556, \"#d8576b\"], [0.6666666666666666, \"#ed7953\"], [0.7777777777777778, \"#fb9f3a\"], [0.8888888888888888, \"#fdca26\"], [1.0, \"#f0f921\"]], \"type\": \"heatmapgl\"}], \"histogram\": [{\"marker\": {\"colorbar\": {\"outlinewidth\": 0, \"ticks\": \"\"}}, \"type\": \"histogram\"}], \"histogram2d\": [{\"colorbar\": {\"outlinewidth\": 0, \"ticks\": \"\"}, \"colorscale\": [[0.0, \"#0d0887\"], [0.1111111111111111, \"#46039f\"], [0.2222222222222222, \"#7201a8\"], [0.3333333333333333, \"#9c179e\"], [0.4444444444444444, \"#bd3786\"], [0.5555555555555556, \"#d8576b\"], [0.6666666666666666, \"#ed7953\"], [0.7777777777777778, \"#fb9f3a\"], [0.8888888888888888, \"#fdca26\"], [1.0, \"#f0f921\"]], \"type\": \"histogram2d\"}], \"histogram2dcontour\": [{\"colorbar\": {\"outlinewidth\": 0, \"ticks\": \"\"}, \"colorscale\": [[0.0, \"#0d0887\"], [0.1111111111111111, \"#46039f\"], [0.2222222222222222, \"#7201a8\"], [0.3333333333333333, \"#9c179e\"], [0.4444444444444444, \"#bd3786\"], [0.5555555555555556, \"#d8576b\"], [0.6666666666666666, \"#ed7953\"], [0.7777777777777778, \"#fb9f3a\"], [0.8888888888888888, \"#fdca26\"], [1.0, \"#f0f921\"]], \"type\": \"histogram2dcontour\"}], \"mesh3d\": [{\"colorbar\": {\"outlinewidth\": 0, \"ticks\": \"\"}, \"type\": \"mesh3d\"}], \"parcoords\": [{\"line\": {\"colorbar\": {\"outlinewidth\": 0, \"ticks\": \"\"}}, \"type\": \"parcoords\"}], \"pie\": [{\"automargin\": true, \"type\": \"pie\"}], \"scatter\": [{\"marker\": {\"colorbar\": {\"outlinewidth\": 0, \"ticks\": \"\"}}, \"type\": \"scatter\"}], \"scatter3d\": [{\"line\": {\"colorbar\": {\"outlinewidth\": 0, \"ticks\": \"\"}}, \"marker\": {\"colorbar\": {\"outlinewidth\": 0, \"ticks\": \"\"}}, \"type\": \"scatter3d\"}], \"scattercarpet\": [{\"marker\": {\"colorbar\": {\"outlinewidth\": 0, \"ticks\": \"\"}}, \"type\": \"scattercarpet\"}], \"scattergeo\": [{\"marker\": {\"colorbar\": {\"outlinewidth\": 0, \"ticks\": \"\"}}, \"type\": \"scattergeo\"}], \"scattergl\": [{\"marker\": {\"colorbar\": {\"outlinewidth\": 0, \"ticks\": \"\"}}, \"type\": \"scattergl\"}], \"scattermapbox\": [{\"marker\": {\"colorbar\": {\"outlinewidth\": 0, \"ticks\": \"\"}}, \"type\": \"scattermapbox\"}], \"scatterpolar\": [{\"marker\": {\"colorbar\": {\"outlinewidth\": 0, \"ticks\": \"\"}}, \"type\": \"scatterpolar\"}], \"scatterpolargl\": [{\"marker\": {\"colorbar\": {\"outlinewidth\": 0, \"ticks\": \"\"}}, \"type\": \"scatterpolargl\"}], \"scatterternary\": [{\"marker\": {\"colorbar\": {\"outlinewidth\": 0, \"ticks\": \"\"}}, \"type\": \"scatterternary\"}], \"surface\": [{\"colorbar\": {\"outlinewidth\": 0, \"ticks\": \"\"}, \"colorscale\": [[0.0, \"#0d0887\"], [0.1111111111111111, \"#46039f\"], [0.2222222222222222, \"#7201a8\"], [0.3333333333333333, \"#9c179e\"], [0.4444444444444444, \"#bd3786\"], [0.5555555555555556, \"#d8576b\"], [0.6666666666666666, \"#ed7953\"], [0.7777777777777778, \"#fb9f3a\"], [0.8888888888888888, \"#fdca26\"], [1.0, \"#f0f921\"]], \"type\": \"surface\"}], \"table\": [{\"cells\": {\"fill\": {\"color\": \"#EBF0F8\"}, \"line\": {\"color\": \"white\"}}, \"header\": {\"fill\": {\"color\": \"#C8D4E3\"}, \"line\": {\"color\": \"white\"}}, \"type\": \"table\"}]}, \"layout\": {\"annotationdefaults\": {\"arrowcolor\": \"#2a3f5f\", \"arrowhead\": 0, \"arrowwidth\": 1}, \"coloraxis\": {\"colorbar\": {\"outlinewidth\": 0, \"ticks\": \"\"}}, \"colorscale\": {\"diverging\": [[0, \"#8e0152\"], [0.1, \"#c51b7d\"], [0.2, \"#de77ae\"], [0.3, \"#f1b6da\"], [0.4, \"#fde0ef\"], [0.5, \"#f7f7f7\"], [0.6, \"#e6f5d0\"], [0.7, \"#b8e186\"], [0.8, \"#7fbc41\"], [0.9, \"#4d9221\"], [1, \"#276419\"]], \"sequential\": [[0.0, \"#0d0887\"], [0.1111111111111111, \"#46039f\"], [0.2222222222222222, \"#7201a8\"], [0.3333333333333333, \"#9c179e\"], [0.4444444444444444, \"#bd3786\"], [0.5555555555555556, \"#d8576b\"], [0.6666666666666666, \"#ed7953\"], [0.7777777777777778, \"#fb9f3a\"], [0.8888888888888888, \"#fdca26\"], [1.0, \"#f0f921\"]], \"sequentialminus\": [[0.0, \"#0d0887\"], [0.1111111111111111, \"#46039f\"], [0.2222222222222222, \"#7201a8\"], [0.3333333333333333, \"#9c179e\"], [0.4444444444444444, \"#bd3786\"], [0.5555555555555556, \"#d8576b\"], [0.6666666666666666, \"#ed7953\"], [0.7777777777777778, \"#fb9f3a\"], [0.8888888888888888, \"#fdca26\"], [1.0, \"#f0f921\"]]}, \"colorway\": [\"#636efa\", \"#EF553B\", \"#00cc96\", \"#ab63fa\", \"#FFA15A\", \"#19d3f3\", \"#FF6692\", \"#B6E880\", \"#FF97FF\", \"#FECB52\"], \"font\": {\"color\": \"#2a3f5f\"}, \"geo\": {\"bgcolor\": \"white\", \"lakecolor\": \"white\", \"landcolor\": \"#E5ECF6\", \"showlakes\": true, \"showland\": true, \"subunitcolor\": \"white\"}, \"hoverlabel\": {\"align\": \"left\"}, \"hovermode\": \"closest\", \"mapbox\": {\"style\": \"light\"}, \"paper_bgcolor\": \"white\", \"plot_bgcolor\": \"#E5ECF6\", \"polar\": {\"angularaxis\": {\"gridcolor\": \"white\", \"linecolor\": \"white\", \"ticks\": \"\"}, \"bgcolor\": \"#E5ECF6\", \"radialaxis\": {\"gridcolor\": \"white\", \"linecolor\": \"white\", \"ticks\": \"\"}}, \"scene\": {\"xaxis\": {\"backgroundcolor\": \"#E5ECF6\", \"gridcolor\": \"white\", \"gridwidth\": 2, \"linecolor\": \"white\", \"showbackground\": true, \"ticks\": \"\", \"zerolinecolor\": \"white\"}, \"yaxis\": {\"backgroundcolor\": \"#E5ECF6\", \"gridcolor\": \"white\", \"gridwidth\": 2, \"linecolor\": \"white\", \"showbackground\": true, \"ticks\": \"\", \"zerolinecolor\": \"white\"}, \"zaxis\": {\"backgroundcolor\": \"#E5ECF6\", \"gridcolor\": \"white\", \"gridwidth\": 2, \"linecolor\": \"white\", \"showbackground\": true, \"ticks\": \"\", \"zerolinecolor\": \"white\"}}, \"shapedefaults\": {\"line\": {\"color\": \"#2a3f5f\"}}, \"ternary\": {\"aaxis\": {\"gridcolor\": \"white\", \"linecolor\": \"white\", \"ticks\": \"\"}, \"baxis\": {\"gridcolor\": \"white\", \"linecolor\": \"white\", \"ticks\": \"\"}, \"bgcolor\": \"#E5ECF6\", \"caxis\": {\"gridcolor\": \"white\", \"linecolor\": \"white\", \"ticks\": \"\"}}, \"title\": {\"x\": 0.05}, \"xaxis\": {\"automargin\": true, \"gridcolor\": \"white\", \"linecolor\": \"white\", \"ticks\": \"\", \"title\": {\"standoff\": 15}, \"zerolinecolor\": \"white\", \"zerolinewidth\": 2}, \"yaxis\": {\"automargin\": true, \"gridcolor\": \"white\", \"linecolor\": \"white\", \"ticks\": \"\", \"title\": {\"standoff\": 15}, \"zerolinecolor\": \"white\", \"zerolinewidth\": 2}}}, \"xaxis\": {\"tickmode\": \"linear\", \"title\": {\"text\": \"Major\"}}, \"yaxis\": {\"title\": {\"text\": \"Count\"}}},                        {\"responsive\": true}                    ).then(function(){\n",
       "                            \n",
       "var gd = document.getElementById('7e793e9f-e5d6-4f35-891e-73619cb285f5');\n",
       "var x = new MutationObserver(function (mutations, observer) {{\n",
       "        var display = window.getComputedStyle(gd).display;\n",
       "        if (!display || display === 'none') {{\n",
       "            console.log([gd, 'removed!']);\n",
       "            Plotly.purge(gd);\n",
       "            observer.disconnect();\n",
       "        }}\n",
       "}});\n",
       "\n",
       "// Listen for the removal of the full notebook cells\n",
       "var notebookContainer = gd.closest('#notebook-container');\n",
       "if (notebookContainer) {{\n",
       "    x.observe(notebookContainer, {childList: true});\n",
       "}}\n",
       "\n",
       "// Listen for the clearing of the current output cell\n",
       "var outputEl = gd.closest('.output');\n",
       "if (outputEl) {{\n",
       "    x.observe(outputEl, {childList: true});\n",
       "}}\n",
       "\n",
       "                        })                };                });            </script>        </div>"
      ]
     },
     "metadata": {
      "tags": []
     },
     "output_type": "display_data"
    }
   ],
   "source": [
    "major =[key for key in allMajorDict.keys()]\n",
    "amount = [amt for amt in allMajorDict.values()]\n",
    "\n",
    "fig = go.Figure([go.Bar(x=major, y=amount, marker_color='salmon')])\n",
    "fig.update_layout(xaxis=dict(title='Major', tickmode='linear'), yaxis = dict(title = 'Count'))\n",
    "fig.show()"
   ]
  },
  {
   "cell_type": "code",
   "execution_count": null,
   "metadata": {
    "id": "52RAIjwaDW2G"
   },
   "outputs": [],
   "source": []
  }
 ],
 "metadata": {
  "colab": {
   "name": "Cleaning_Wellesley_Hive.ipynb",
   "provenance": []
  },
  "kernelspec": {
   "display_name": "Python 3",
   "language": "python",
   "name": "python3"
  },
  "language_info": {
   "codemirror_mode": {
    "name": "ipython",
    "version": 3
   },
   "file_extension": ".py",
   "mimetype": "text/x-python",
   "name": "python",
   "nbconvert_exporter": "python",
   "pygments_lexer": "ipython3",
   "version": "3.7.6"
  }
 },
 "nbformat": 4,
 "nbformat_minor": 1
}
