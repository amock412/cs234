{
 "cells": [
  {
   "cell_type": "markdown",
   "metadata": {},
   "source": [
    "# Cleaning Education Data\n",
    "\n",
    "Author: Andrea Mock\n",
    "\n",
    "This notebook is dedicated to cleaning the data that is relevant to each alums education. \n",
    "Many alums have their degree and majors listed in different formats and thus we would like to clean the data to allow for an easy comparison between each person's majors."
   ]
  },
  {
   "cell_type": "code",
   "execution_count": 14,
   "metadata": {},
   "outputs": [],
   "source": [
    "# load necessary libraries\n",
    "import pandas as pd\n",
    "import json"
   ]
  },
  {
   "cell_type": "code",
   "execution_count": 19,
   "metadata": {},
   "outputs": [],
   "source": [
    "# import the csv file with data\n",
    "edu_df = pd.read_pickle('education')"
   ]
  },
  {
   "cell_type": "code",
   "execution_count": 62,
   "metadata": {},
   "outputs": [],
   "source": [
    "def findProfessors(person):\n",
    "    \"\"\"\n",
    "    identifies if someone states that they are a professor at Wellesley or not\n",
    "    \"\"\"\n",
    "    \n",
    "    if type(person) == str:\n",
    "        if ('Professor at Wellesley') in person:\n",
    "            return True\n",
    "    return False"
   ]
  },
  {
   "cell_type": "code",
   "execution_count": 64,
   "metadata": {},
   "outputs": [],
   "source": [
    "# indicator if someone is a professor at Welellesley\n",
    "isProfWellesley = edu_df['headline'].apply( lambda x: findProfessors(x))"
   ]
  },
  {
   "cell_type": "code",
   "execution_count": 66,
   "metadata": {},
   "outputs": [],
   "source": [
    "# remove all the professors from our dataset\n",
    "edu_df = edu_df[~isProfWellesley]"
   ]
  },
  {
   "cell_type": "code",
   "execution_count": 1,
   "metadata": {},
   "outputs": [],
   "source": [
    "#edu_df.head() # get a sense of how our data currently looks"
   ]
  },
  {
   "cell_type": "code",
   "execution_count": 81,
   "metadata": {},
   "outputs": [],
   "source": [
    "#sort dataset by names \n",
    "edu_sorted = edu_df.sort_values('name').reset_index(drop=True)"
   ]
  },
  {
   "cell_type": "code",
   "execution_count": null,
   "metadata": {},
   "outputs": [],
   "source": []
  },
  {
   "cell_type": "code",
   "execution_count": 28,
   "metadata": {},
   "outputs": [],
   "source": [
    "# read in dataset with cleaned job titles and companies\n",
    "jobs_df = pd.read_csv('job_info.csv', index_col = 0)"
   ]
  },
  {
   "cell_type": "code",
   "execution_count": 47,
   "metadata": {},
   "outputs": [],
   "source": [
    "def findGradStudents(student):\n",
    "    if type(student) == str:\n",
    "        if ('phd' or 'grad' or 'student') in student.lower():\n",
    "            return True\n",
    "    return False"
   ]
  },
  {
   "cell_type": "code",
   "execution_count": 48,
   "metadata": {},
   "outputs": [],
   "source": [
    "tf = jobs_df['title'].apply( lambda x: findGradStudents(x) )\n",
    "# create a column that is a true false indicator if someone is a grad student\n",
    "jobs_df['current_grad_student'] = tf"
   ]
  },
  {
   "cell_type": "code",
   "execution_count": 79,
   "metadata": {},
   "outputs": [],
   "source": [
    "# sort dataset by names\n",
    "jobs_sorted = jobs_df.sort_values('name').reset_index(drop=True)"
   ]
  },
  {
   "cell_type": "code",
   "execution_count": 83,
   "metadata": {},
   "outputs": [],
   "source": [
    "# merge the datasets \n",
    "merged_df = pd.concat([edu_sorted, jobs_sorted], axis=1, sort=False)"
   ]
  },
  {
   "cell_type": "code",
   "execution_count": 89,
   "metadata": {},
   "outputs": [],
   "source": [
    "def remove_dup_columns(frame):\n",
    "    \"\"\"\n",
    "    since both datasets are slightly different keep those colums that are unique and remove the duplicate ones\n",
    "    \"\"\"\n",
    "    keep_names = set()\n",
    "    keep_icols = list()\n",
    "    for icol, name in enumerate(frame.columns):\n",
    "        if name not in keep_names:\n",
    "            keep_names.add(name)\n",
    "            keep_icols.append(icol)\n",
    "    return frame.iloc[:, keep_icols]"
   ]
  },
  {
   "cell_type": "code",
   "execution_count": 92,
   "metadata": {},
   "outputs": [],
   "source": [
    "# create a dataframe that does not have duplicate columns \n",
    "no_dup_df = remove_dup_columns(merged_df)"
   ]
  },
  {
   "cell_type": "code",
   "execution_count": 94,
   "metadata": {},
   "outputs": [
    {
     "data": {
      "text/plain": [
       "Index(['name', 'headline', 'summary', 'location', 'current_company_link',\n",
       "       'skills', 'education', 'jobs', 'education_clean', 'degree',\n",
       "       'study_range', 'major', 'grad_year', 'grad_school', 'job_cleaned',\n",
       "       'title', 'company', 'years', 'description', 'url', 'end', 'start',\n",
       "       'current_grad_student'],\n",
       "      dtype='object')"
      ]
     },
     "execution_count": 94,
     "metadata": {},
     "output_type": "execute_result"
    }
   ],
   "source": [
    "# see if dropping columns was successful\n",
    "no_dup_df.columns"
   ]
  },
  {
   "cell_type": "code",
   "execution_count": 102,
   "metadata": {},
   "outputs": [],
   "source": [
    "# drop columns used for cleaning data\n",
    "no_dup_df = no_dup_df.drop(['education_clean', 'current_company_link', 'job_cleaned'], axis=1)"
   ]
  },
  {
   "cell_type": "code",
   "execution_count": 104,
   "metadata": {},
   "outputs": [],
   "source": [
    "def attendedGradSchool(person):\n",
    "    \"\"\"\n",
    "    return true if a person has attended or attends grad school, else false\n",
    "    \"\"\"\n",
    "    if ((person['grad_school'] == True) or (person['current_grad_student'] == True)):\n",
    "        return True\n",
    "    return False"
   ]
  },
  {
   "cell_type": "code",
   "execution_count": 107,
   "metadata": {},
   "outputs": [],
   "source": [
    "# yes no indicator if someone attended grad school\n",
    "gradSchool = no_dup_df.apply(attendedGradSchool, axis =1 )"
   ]
  },
  {
   "cell_type": "code",
   "execution_count": 108,
   "metadata": {},
   "outputs": [],
   "source": [
    "# add a column for if someone attended gradschool or is attending\n",
    "no_dup_df['attended_grad_school'] = gradSchool"
   ]
  },
  {
   "cell_type": "code",
   "execution_count": 122,
   "metadata": {},
   "outputs": [],
   "source": [
    "# drop columns used for determining if someone went to grad school\n",
    "no_dup_df = no_dup_df.drop(['grad_school', 'current_grad_student'], axis=1)"
   ]
  },
  {
   "cell_type": "code",
   "execution_count": 124,
   "metadata": {},
   "outputs": [],
   "source": [
    "# save alum data \n",
    "no_dup_df.to_pickle('alum_data')"
   ]
  },
  {
   "cell_type": "markdown",
   "metadata": {},
   "source": [
    "## Part 2: Cleaning majors at Wellesley\n",
    "\n",
    "After having cleaned and merged the data, we want to continue cleaning by determining a person's major(s) at Wellesley.\n",
    "First let's take a look at what majors people listed that they pursued. "
   ]
  },
  {
   "cell_type": "code",
   "execution_count": 128,
   "metadata": {},
   "outputs": [
    {
     "data": {
      "text/plain": [
       "array(['Media Arts and Sciences with Computer Science concentration',\n",
       "       'Media Arts and Sciences (Computer Science, Film, and Design) and Political Science',\n",
       "       None, 'Computer Science', 'Political Science',\n",
       "       'Physics, Computer Science',\n",
       "       'Computer Science, Minor in Economics',\n",
       "       'Computer Science, Mathematics', 'Psychology, Computer Science',\n",
       "       'Major in Computer Science; Minor in Astronomy',\n",
       "       'Computer Science and Spanish', 'Cultural Studies',\n",
       "       'American Studies',\n",
       "       'Cognitive and Linguistic Science and Computer Science',\n",
       "       'Biology/Biological Sciences, General',\n",
       "       'Computer Science, Biological Chemistry',\n",
       "       'BA, Media Arts and Sciences, Cum Laude', 'Biology and Sociology',\n",
       "       'Economics and Data Science (Mathematics, Statistics, Computer Science)',\n",
       "       'Computer Science; American Studies',\n",
       "       'Chemistry, Computer Science', 'Physics',\n",
       "       'Majoring in Media Arts and Sciences (Computer Science & Design), Minoring in Environmental Studies',\n",
       "       'Economics', 'Computer Science and English',\n",
       "       'Media Arts and Sciences (concentration in Computer Science) & Women’s and Gender Studies',\n",
       "       'Environmental Studies and Media Arts and Sciences, concentration in economics and computer science',\n",
       "       'Major: Economics, Minor: Computer Science',\n",
       "       'Classical Archaeology and Latin',\n",
       "       'Computer Science and Mathematics',\n",
       "       'Computer Science, Minors: English, Studio Art',\n",
       "       'Computer Science, Arabic', \"Women's and Gender Studies\",\n",
       "       'Major in Classics & Minor in Computer Science',\n",
       "       'Media Arts & Sciences (Computer Science and Fine Art) and Economics.',\n",
       "       'Computer Science, History minor',\n",
       "       'Computer Science and Economics', 'Economics, Mathematics',\n",
       "       'Mathematics, Philosophy, Computer Science',\n",
       "       'Computer Science, Cognitive Science',\n",
       "       'English and Computer Science', 'Computer Sci., Economics',\n",
       "       'Math, Computer Science',\n",
       "       'Media Arts and Sciences (Concentration: Computer Science)',\n",
       "       'Computer Science and Physics', 'Media Art & Computer Science',\n",
       "       'Cognitive and Linguistic Sciences with a concentration in Computer Science',\n",
       "       'Computer Science and Women & Gender Studies',\n",
       "       'Computer Science, Geoscience', 'Neuroscience',\n",
       "       'Computer Science & Psychology',\n",
       "       'Computer Science; significant coursework in Architecture',\n",
       "       'Computer Science, Studio Art', 'Physics and Computer Science',\n",
       "       'Computer Science, Cum laude', 'Geosciences and Computer Science',\n",
       "       'Computer Science, Medieval and Renaissance Studies',\n",
       "       'Computer Science and French', 'Mathematics',\n",
       "       'Economics, Studio Art',\n",
       "       'Cognitive and Linguistic Sciences With a Concentration in Computer Science',\n",
       "       'Mathematics, Biochemistry: pre-med/pre-law/graduate-school-bound',\n",
       "       'History, Computer Science - Magna Cum Laude',\n",
       "       'Computer Science (Engineering Concentration), Economics',\n",
       "       'Music, Computer Science', 'Computer Science, Teacher Education',\n",
       "       'Computer Science and American Studies',\n",
       "       'Computer Science and UIUX Design', 'Computer Science & English',\n",
       "       'Art History', 'Economics, Chinese, Computer Science',\n",
       "       'Language Studies (Computer Science + Linguistics)',\n",
       "       'Biology and Computer Science', 'Media Arts and Sciences',\n",
       "       'Computer Science and Biological Sciences',\n",
       "       'Media Arts and Sciences - Computer Science concentration',\n",
       "       'Computer Science and Cognitive Science',\n",
       "       'Neuroscience, Computer Science', 'French, Computer Science',\n",
       "       'Computer Science, Psychology',\n",
       "       'Neuroscience and Computer Science',\n",
       "       'Computer Science and Psychology', \"Women's Studies\",\n",
       "       'Chinese Studies major with Computer Science minor',\n",
       "       'Architecture and Computer Science',\n",
       "       'Economics and Political Science', 'Computer Science and Music',\n",
       "       'Classical Civilizations and Computer Science',\n",
       "       'Math and Computer Science',\n",
       "       'Computer Science, Neuroscience (Computational concentration)',\n",
       "       'Anthropology and French',\n",
       "       'Cognitive Science with Computer Science concentration',\n",
       "       'Neuroscience, Computer Science minor',\n",
       "       'Media Arts and Sciences (Computer Science + Studio Art)',\n",
       "       'Computer Science/ Cognitive Science',\n",
       "       'Mathematics and Computer Science',\n",
       "       'Linguistics and Cognitive Science',\n",
       "       'Computer Science, Classical Civilization',\n",
       "       'Cognitive Science & Linguistics, French, Russian',\n",
       "       'Philosophy, Computer Science',\n",
       "       'Major in Mathematics, Minor in Computer Science',\n",
       "       'English, Computer Science',\n",
       "       'Mathematics, minor in Computer Science',\n",
       "       'Neuroscience (cognitive concentration) major, Computer Science minor',\n",
       "       'Environmental Studies',\n",
       "       'Geological and Earth Sciences/Geosciences, Computer Science',\n",
       "       'Computer Science and Chinese Language & Culture',\n",
       "       'Political Science Major and Computer Science Minor',\n",
       "       'English Literature', 'Mathematics, Chemistry',\n",
       "       'Media Arts and Science',\n",
       "       'Biological Sciences, minor in Computer Science',\n",
       "       'Media Arts and Sciences, Computer Science',\n",
       "       'History and Religion, summa cum laude',\n",
       "       'Computer science, minor in music',\n",
       "       'Two years undergraduate study in computer science and Chinese',\n",
       "       'Computer Science, Italian Studies',\n",
       "       'Psychology and Computer Science',\n",
       "       'Computer Science and Political Science', 'Computer science',\n",
       "       'Computer Science & Pre-Med', 'Computer Science, English',\n",
       "       'Computer Science, Economics', 'Music and Computer Science',\n",
       "       'Human-computer interaction, computer vision',\n",
       "       'Computer Science & Cognitive and Linguistic Sciences',\n",
       "       'Computer Science, Education',\n",
       "       'Africana Studies and Computer Science',\n",
       "       'Computer Science, East Asian Studies',\n",
       "       'Teacher Education Program', 'Philosophy',\n",
       "       'Computer Science; Asian-American Studies (minor)',\n",
       "       'Computer Science and Cinema and Media Studies',\n",
       "       'Comparative Literature', 'Computer Science and History',\n",
       "       'Computer Science, Music (double major)',\n",
       "       'Computer Science and Chinese', 'Sociology',\n",
       "       'Economics; Minor in Computer Science',\n",
       "       'Media Arts / Computer Science',\n",
       "       'Media Arts and Sciences (HCI and Computer Science Concentration)',\n",
       "       'Art/Art Studies, General',\n",
       "       'Physics Major & Computer Science Minor',\n",
       "       'Environmental Studies and Computer Science',\n",
       "       'Media Arts & Sciences and Computer Science',\n",
       "       'Computer Science & Economics',\n",
       "       'Mathematics and Economics (with Honors), Summa Cum Laude',\n",
       "       'Geology', 'Sociology, Computer Science', 'Biological Sciences',\n",
       "       'Computer Science and Biology',\n",
       "       'Cognitive Science and Computer Science',\n",
       "       'Political Science Major and Comparative Race and Ethnicity Studies Minor',\n",
       "       'MAS (Studio Art + Computer Science) major, Philosophy minor',\n",
       "       'Computer Science and Sociology', 'Computer Science, Art',\n",
       "       'Political Science & German',\n",
       "       \"Computer Science and Women's and Gender Studies\",\n",
       "       'Chemistry, Psychology', 'Computer Science and Studio Art (MAS)',\n",
       "       'Computer Science and Astronomy', 'Physics, Economics',\n",
       "       'English - minor in Computer Science',\n",
       "       'Computer Science, Philosophy',\n",
       "       'Double Major: Computer Science and Psychology',\n",
       "       'Computer Science (with Honors), Mathematics',\n",
       "       'Computer Science / Mathematics Major', 'Psychology (pre-med)',\n",
       "       'Computer Science, History', 'Computer Science, French',\n",
       "       'Computer Science, Creative Writing, Economics',\n",
       "       'Cognitive and Linguistic Sciences- Computer Science track and French',\n",
       "       'Computer Science, Classical Civilizations',\n",
       "       'International Relations in Political Science; Classics',\n",
       "       'Double; Computer Science and Mathematics',\n",
       "       'Cognitive and Linguistic Sciences with Computer Science Concentration',\n",
       "       'Cognitive Science, Computer Science',\n",
       "       'Major in Psychology; Minor in Computer Science',\n",
       "       'Mathematics and Studio Art',\n",
       "       'Major in Computer Science, Minor in Mathematics',\n",
       "       'Comparative Literature, Cinema and Media Studies',\n",
       "       'Computer Science Major and Mathematics Minor',\n",
       "       'Classical Civilizations/Computer Science',\n",
       "       'Biology, Computer Science',\n",
       "       'Major: Media Arts and Sciences, Minor: Computer Science',\n",
       "       'Computer Science Major | Economics Minor',\n",
       "       'Mathematics (Philosophy, Computer Science)',\n",
       "       'Computer Science, Economics, Math',\n",
       "       'Liberal Arts and Computer Sciences',\n",
       "       'Computer Science with Honors',\n",
       "       'Cognitive & Linguistic Sciences and Music',\n",
       "       'Media Arts and Computer Science',\n",
       "       'Computer Science and Japanese Language and Culture',\n",
       "       'Mathematics & Computer Science', 'Computer Science & French',\n",
       "       'Biology; Computer Science', 'Computer Science, American Studies',\n",
       "       'Cognitive and Linguistic Science, minor in Computer Science',\n",
       "       'Political Science and Computer Science', 'Economics, French',\n",
       "       'Psychology; minor Computer Science',\n",
       "       'Computer Science, Chemistry',\n",
       "       'Media Arts & Sciences, with a Concentration in Computer Science',\n",
       "       'Computer Science and Music double major',\n",
       "       'Computer Science and Studio Art',\n",
       "       'Biochemistry major; Computer Science minor',\n",
       "       'East Asian Philosophy',\n",
       "       'Physics (Major), Computer Science (Minor)',\n",
       "       'English Language and Literature, General',\n",
       "       'Computer Science and Language Studies',\n",
       "       'Computer Science, Philosophy, Psychology',\n",
       "       'Computer Science and Middle Eastern Studies',\n",
       "       'Mathematics, English', 'Computer Science Major, Economics Minor',\n",
       "       'Psychology and Sociology',\n",
       "       'Computer Science, International Relations',\n",
       "       'Creative Writing, Jewish Studies, Computer Science',\n",
       "       'Architecture, Computer Science', 'Computer Science & Mathematics',\n",
       "       'Geoscience', 'Philosophy & Computer Science',\n",
       "       'Logic, Philosophy, Music Theory',\n",
       "       'Cognitive Science-Computer Science & Middle Eastern Studies',\n",
       "       'Cognitive Science/Computer Science',\n",
       "       \"Economics major, Women's and Gender Studies minor\",\n",
       "       'Media Arts & Sciences (Computer Science, Studio Art)',\n",
       "       'Psychology major, Computer Science minor',\n",
       "       'Political Science, Computer Science',\n",
       "       'Computer Science and English Double Major',\n",
       "       'Media Arts and Sciences, Computer Science, Italian Studies',\n",
       "       'Computer Science (with Honors) & Cognitive and Linguistic Sciences',\n",
       "       'Computer Science & English Literature',\n",
       "       'International Relations (Major) & Computer Science (Minor)',\n",
       "       'Computer Science, Philosophy (minor)',\n",
       "       'Computer Science, Cinematography and Film/Video Production',\n",
       "       'Major 1: Computer Science; Major 2: Cinema and Media Studies',\n",
       "       'Computer Science and Math', 'Art History and Computer Science',\n",
       "       'Major in Economics, Minor in Computer Science',\n",
       "       'Classical Studies, Computer Science',\n",
       "       'Media Arts & Sciences with an emphasis in Computer Science; Music',\n",
       "       'Major: Computer Science and Digital Arts, Minor: Psychology',\n",
       "       'Media Arts and Science (Art & Computer Science)',\n",
       "       'Computer Science and Art History',\n",
       "       'Economics and Media Arts & Sciences (Computer Science and Design)',\n",
       "       'Economics Major and Computer Science Minor',\n",
       "       'Computer Science, Anthropology',\n",
       "       'Computer Science and Economics (Double Major)',\n",
       "       'Major in Computer Science, Minor in Economics',\n",
       "       'Computer Science Major, Mathematics Minor',\n",
       "       'Philosophy with Minor in Computer Science',\n",
       "       'Cognitive Science, Economics', 'Computer Science; Fine Art',\n",
       "       'English Language and Literature/Letters, Computer Science',\n",
       "       'Psychology and Computer Science (minor)',\n",
       "       'International Relations - Political Science, Computer Science',\n",
       "       'Mathematics, Minor in Computer Science',\n",
       "       'Computer Science, Africana Studies',\n",
       "       'Cross-registered for Computer Science',\n",
       "       'Political Science / Sociology', 'Computer Science & Neuroscience',\n",
       "       'Media Arts & Sicences and Comparative Literature',\n",
       "       'Liberal Arts and Sciences, General Studies and Humanities',\n",
       "       'International Relations-Economics',\n",
       "       'Computer Science, Cinema and Media Studies',\n",
       "       'Physics; Computer Science',\n",
       "       'Geology with minor in Computer Science',\n",
       "       'Digital Media Arts and Computer Science',\n",
       "       \"Computer Science & Women's and Gender Studies\",\n",
       "       'Computer Science, Japanese', 'Computer Science, Economincs',\n",
       "       'Economics Major, Computer Science Minor',\n",
       "       'Economics, Media Arts & Sciences (CS + Art)',\n",
       "       'Computer Science + Economics (Double Major)',\n",
       "       'Media Arts and Sciences (Computer Science)', 'Music',\n",
       "       'Mathematics, Economics',\n",
       "       'Russian Language and Literature, Computer Science',\n",
       "       'Computer Science Major Africana Studies Minor',\n",
       "       'Computer Science (Multimedia) and Media Arts (Photography)'],\n",
       "      dtype=object)"
      ]
     },
     "execution_count": 128,
     "metadata": {},
     "output_type": "execute_result"
    }
   ],
   "source": [
    "no_dup_df.major.unique()"
   ]
  },
  {
   "cell_type": "markdown",
   "metadata": {},
   "source": [
    "As we can see although many people might have pursued the same major, they may have listed it differently. Our first step is to split the majors based on punctuation such as , or ; "
   ]
  },
  {
   "cell_type": "code",
   "execution_count": 190,
   "metadata": {},
   "outputs": [],
   "source": [
    "import re"
   ]
  },
  {
   "cell_type": "code",
   "execution_count": 559,
   "metadata": {},
   "outputs": [],
   "source": [
    "def removeWords(words):\n",
    "    \"\"\"\n",
    "    removes 'stopwords' ie words such as major or changes long major names to acronyms for better splitting \n",
    "    of majors and analysis\n",
    "    \"\"\"\n",
    "    \n",
    "    if type(words) == str:\n",
    "        words = re.sub(r'\\([^)]*\\)', '', words)\n",
    "        words = re.sub(\"\\d+\", \"\", words)\n",
    "        words = re.sub(\"major*\", \"\", words)\n",
    "        words = re.sub(\"minor\", \"\", words)\n",
    "        words = re.sub(\"Majoring\", \"\", words)\n",
    "        \n",
    "        words = re.sub(\"Major\", \"\", words)\n",
    "        words = re.sub(\"Minor\", \"\", words)\n",
    "        words = re.sub(\"Minoring\", \"\", words)\n",
    "        words = re.sub(\" in \", \" \", words)\n",
    "        words = re.sub(\"Cum Laude\", \"\",words)\n",
    "        words = re.sub(\"BA\", \"\",words)\n",
    "        words = re.sub(\"Women's and Gender Studies\", \"WGST\", words)\n",
    "        words = re.sub(\"Women & Gender Studies\", \"WGST\", words)\n",
    "        words = re.sub(\"Women’s and Gender Studies\", \"WGST\", words)\n",
    "        words = re.sub(\"Women's Studies\", \"WGST\", words)\n",
    "        words = re.sub(\"Media Arts and Sciences\", \"MAS\", words)\n",
    "        words = re.sub('Media Arts & Sciences', \"MAS\", words)\n",
    "        words = re.sub(\"Media Arts and Science\", \"MAS\", words)\n",
    "        words = re.sub(\"Media Arts & Sicences\", \"MAS\", words)\n",
    "        words = re.sub('Media Arts and Computer Science','MAS', words)\n",
    "        words = re.sub('Computer Science and Cinema and Media Studies','MAS', words)\n",
    "        words = re.sub('Media Art & Computer Science','MAS', words)\n",
    "        words = re.sub('Media Arts and Scienc','MAS', words)\n",
    "        words = re.sub('Computer Science  and Media Arts','MAS', words)\n",
    "        words = re.sub('Computer Science and Digital Arts','MAS', words)\n",
    "        words = re.sub('Computer Science and Digital Arts','MAS', words)\n",
    "        words = re.sub('Computer Science and Digital Arts','MAS', words)\n",
    "        words = re.sub('Double','', words)\n",
    "        words = re.sub('double','', words)\n",
    "        words = re.sub('summa cum laude','', words)\n",
    "        words = re.sub('Cum laude','', words)\n",
    "        words = re.sub('cum laude','', words)\n",
    "        words = re.sub(\":\", \"\", words)\n",
    "        #words = re.sub(\".\", \"\", words)\n",
    "        #sep = 'with'\n",
    "       # words = words.split(sep, 1)[0]\n",
    "        words = words.strip('.')\n",
    "        return words\n",
    "    return ''"
   ]
  },
  {
   "cell_type": "code",
   "execution_count": 560,
   "metadata": {},
   "outputs": [],
   "source": [
    "def splitMajor(majorList):\n",
    "    \"\"\"\n",
    "    split a major by different stoppers to determine double majors/major minor combos\n",
    "    \"\"\"\n",
    "    if type(majorList) == str:\n",
    "        if len(majorList.split('|')) != 1:\n",
    "            return majorList.split('|')\n",
    "        if len(majorList.split(',')) != 1:\n",
    "            return majorList.split(',')\n",
    "        elif len(majorList.split(';')) != 1:\n",
    "            return majorList.split(';')\n",
    "        elif len(majorList.split('&')) != 1:\n",
    "            return majorList.split('&')\n",
    "        elif len(majorList.split('+')) != 1:\n",
    "            return majorList.split('+')\n",
    "        elif len(majorList.split('and')) != 1:\n",
    "            return majorList.split('and')\n",
    "        elif len(majorList.split('with')) != 1:\n",
    "            return majorList.split('with')\n",
    "        elif len(majorList.split(' - ')) != 1:\n",
    "            return majorList.split(' - ')\n",
    "        elif len(majorList.split('/')) == 1:\n",
    "            return majorList.split('/')\n",
    "    return ['']"
   ]
  },
  {
   "cell_type": "code",
   "execution_count": 561,
   "metadata": {},
   "outputs": [],
   "source": [
    "# create a column to clean major\n",
    "clean1 = no_dup_df['major'].apply( lambda x: removeWords(x))\n",
    "no_dup_df['major_cleaning'] = clean1.apply(lambda x: splitMajor(x))"
   ]
  },
  {
   "cell_type": "code",
   "execution_count": 562,
   "metadata": {},
   "outputs": [
    {
     "data": {
      "text/plain": [
       "0                MAS with Computer Science concentration\n",
       "1                             MAS  and Political Science\n",
       "2                                                       \n",
       "3                                       Computer Science\n",
       "4                                       Computer Science\n",
       "                             ...                        \n",
       "603                               Mathematics, Economics\n",
       "604                                     Computer Science\n",
       "605    Russian Language and Literature, Computer Science\n",
       "606                  Computer Science  Africana Studies \n",
       "607                                                 MAS \n",
       "Name: major, Length: 608, dtype: object"
      ]
     },
     "execution_count": 562,
     "metadata": {},
     "output_type": "execute_result"
    }
   ],
   "source": [
    "clean1"
   ]
  },
  {
   "cell_type": "code",
   "execution_count": 563,
   "metadata": {},
   "outputs": [
    {
     "data": {
      "text/plain": [
       "1    312\n",
       "2    281\n",
       "3     15\n",
       "Name: major_cleaning, dtype: int64"
      ]
     },
     "execution_count": 563,
     "metadata": {},
     "output_type": "execute_result"
    }
   ],
   "source": [
    "# when splitting see that some have one major others have more than one thing listed\n",
    "no_dup_df['major_cleaning'].apply( lambda x: len(x)).value_counts()"
   ]
  },
  {
   "cell_type": "code",
   "execution_count": 564,
   "metadata": {},
   "outputs": [],
   "source": [
    "# get rid of white space \n",
    "no_dup_df['major1'] = no_dup_df['major_cleaning'].apply(lambda x: x[0].strip())"
   ]
  },
  {
   "cell_type": "code",
   "execution_count": 503,
   "metadata": {},
   "outputs": [],
   "source": [
    "def getSecondMajor(person):\n",
    "    \"\"\"\n",
    "    if someone has a second major then extract that major and return it \n",
    "    \"\"\"\n",
    "    if (len(person['major_cleaning']) > 1):\n",
    "        return person['major_cleaning'][1].strip()\n",
    "    return '' # return empty string if no second major "
   ]
  },
  {
   "cell_type": "code",
   "execution_count": 504,
   "metadata": {},
   "outputs": [],
   "source": [
    "def getThirdMajor(person):\n",
    "    \"\"\"\n",
    "    gather third major if existant and return it \n",
    "    \"\"\"\n",
    "    if (len(person['major_cleaning']) > 2):\n",
    "        return person['major_cleaning'][2].strip()\n",
    "    return '' # return empty string if no third major "
   ]
  },
  {
   "cell_type": "code",
   "execution_count": 567,
   "metadata": {},
   "outputs": [],
   "source": [
    "no_dup_df['major2'] = no_dup_df.apply(getSecondMajor, axis=1)"
   ]
  },
  {
   "cell_type": "code",
   "execution_count": 568,
   "metadata": {},
   "outputs": [],
   "source": [
    "no_dup_df['major3'] = no_dup_df.apply(getThirdMajor, axis=1)"
   ]
  },
  {
   "cell_type": "code",
   "execution_count": 507,
   "metadata": {},
   "outputs": [],
   "source": [
    "def cleanMAS(major):\n",
    "    \"\"\"\n",
    "    if someone is an MAS major, drop other unnecessary info in major description\n",
    "    \"\"\"\n",
    "    if 'MAS' in major:\n",
    "        return 'MAS'\n",
    "    else:\n",
    "        return major"
   ]
  },
  {
   "cell_type": "code",
   "execution_count": 508,
   "metadata": {},
   "outputs": [
    {
     "data": {
      "text/plain": [
       "Cognitive and Linguistic Science               1\n",
       "Chinese Studies                                1\n",
       "Cross-registered for Computer Science          1\n",
       "Russian Language and Literature                1\n",
       "International Relations - Political Science    1\n",
       "Computer Science and Chinese Language          1\n",
       "Digital MAS                                    1\n",
       "Computer Sci.                                  1\n",
       "Mathematics and Economics                      1\n",
       "Biology/Biological Sciences                    1\n",
       "Logic                                          1\n",
       "Africana Studies                               1\n",
       "Human-computer interaction                     1\n",
       "Cognitive Science-Computer Science             1\n",
       "MAS with an emphasis Computer Science          1\n",
       "International Relations                        1\n",
       "Teacher Education Program                      1\n",
       "Anthropology                                   1\n",
       "French                                         1\n",
       "Environmental Studies and MAS                  1\n",
       "Name: major1, dtype: int64"
      ]
     },
     "execution_count": 508,
     "metadata": {},
     "output_type": "execute_result"
    }
   ],
   "source": [
    "no_dup_df['major1'].value_counts(ascending = True)[:20]"
   ]
  },
  {
   "cell_type": "code",
   "execution_count": 509,
   "metadata": {},
   "outputs": [
    {
     "data": {
      "text/plain": [
       "['Environmental Studies and MAS',\n",
       " ' concentration economics and computer science']"
      ]
     },
     "execution_count": 509,
     "metadata": {},
     "output_type": "execute_result"
    }
   ],
   "source": [
    "# one of our current entries\n",
    "no_dup_df.iloc[46]['major_cleaning']"
   ]
  },
  {
   "cell_type": "code",
   "execution_count": 632,
   "metadata": {},
   "outputs": [],
   "source": [
    "# clean MAS major data (Remove any uncessary info)\n",
    "no_dup_df['major1'] = no_dup_df['major1'].apply(lambda x: cleanMAS(x))"
   ]
  },
  {
   "cell_type": "code",
   "execution_count": 635,
   "metadata": {},
   "outputs": [],
   "source": [
    "def cleaning2(major): \n",
    "    \"\"\"\n",
    "    cleans all the majors names to have a unified description of how each major is called \n",
    "    \"\"\"\n",
    "    \n",
    "    if ('Computer' in major or 'computer' in major):\n",
    "        return 'Computer Science'\n",
    "    elif ('Cognitive' in major or 'Linguistic' in major):\n",
    "        return 'Cognitive Science'\n",
    "    elif 'International Relations' in major:\n",
    "        return 'International Relations'\n",
    "    elif 'Biolo' in major:\n",
    "        return 'Biology'\n",
    "    elif 'Classic' in major:\n",
    "        return 'Classics'\n",
    "    elif ('English' in major or 'Writing' in major):\n",
    "        return 'English'\n",
    "    elif ('Geology' in major or 'Geoscience' in major):\n",
    "        return 'Geology'\n",
    "    elif ('Studio Art' in major or 'Art Studies' in major or 'Fine Art' in major or 'Art' == major):\n",
    "        return 'Studio Art'\n",
    "    elif ('Math' in major):\n",
    "        return 'Math'\n",
    "    elif ('Education' in major):\n",
    "        return 'Education'\n",
    "    elif ('Russian' in major):\n",
    "        return 'Russian'\n",
    "    elif ('Logic' in major or 'Philosophy' in major):\n",
    "        return 'Philosophy'\n",
    "    elif ('Cinema' in major):\n",
    "        return 'CAMS'\n",
    "    elif ('music' in major.lower()):\n",
    "        return 'Music'\n",
    "    elif ('Econom' in major):\n",
    "        return 'Economics'\n",
    "    elif 'Biochemistry' in major:\n",
    "        return 'Biochemistry'\n",
    "    elif 'Environment' in major:\n",
    "        return 'Environmental Studies'\n",
    "    elif 'Chinese' in major:\n",
    "        return 'Chinese'\n",
    "    elif 'Japanese' in major:\n",
    "        return 'Japanese'\n",
    "    return major"
   ]
  },
  {
   "cell_type": "code",
   "execution_count": 614,
   "metadata": {},
   "outputs": [
    {
     "data": {
      "text/plain": [
       "array(['MAS', '', 'Computer Science', 'Political Science', 'Physics',\n",
       "       'Psychology', 'Cultural Studies', 'American Studies',\n",
       "       'Cognitive Science', 'Biology', 'Economics', 'Chemistry',\n",
       "       'Classics', 'WGST', 'Math', 'English', 'Neuroscience', 'Geology',\n",
       "       'History', 'Music', 'Art History', 'Language Studies', 'French',\n",
       "       'Chinese Studies', 'Architecture', 'Anthropology', 'Philosophy',\n",
       "       'Environmental Studies', 'History and Religion',\n",
       "       'Africana Studies', 'Education', 'Comparative Literature',\n",
       "       'Sociology', 'Studio Art', 'International Relations',\n",
       "       'Liberal Arts', 'Biochemistry', 'Liberal Arts and Sciences',\n",
       "       'Russian'], dtype=object)"
      ]
     },
     "execution_count": 614,
     "metadata": {},
     "output_type": "execute_result"
    }
   ],
   "source": [
    "# see how many unique majors we have after first round of cleaning\n",
    "no_dup_df['major1'].apply(lambda x: cleaning2(x)).unique()"
   ]
  },
  {
   "cell_type": "code",
   "execution_count": null,
   "metadata": {},
   "outputs": [],
   "source": []
  },
  {
   "cell_type": "code",
   "execution_count": 636,
   "metadata": {},
   "outputs": [],
   "source": [
    "def cleaning3(major):\n",
    "    \"\"\"\n",
    "    checks if a major is in our listed majors, if yes returns that major else returns an empty strins\n",
    "    \"\"\"\n",
    "    \n",
    "    major_list = ['Africana Studies',\n",
    " 'American Studies',\n",
    " 'Anthropology',\n",
    " 'Arabic',\n",
    " 'Architecture',\n",
    " 'Art History',\n",
    " 'Asian-American Studies',\n",
    " 'Astronomy',\n",
    " 'Biochemistry',\n",
    " 'Biology',\n",
    " 'CAMS',\n",
    " 'Chemistry',\n",
    " 'Chinese',\n",
    " 'Classics',\n",
    " 'Cognitive Science',\n",
    " 'Comparative Literature',\n",
    " 'Computer Science',\n",
    " 'Data Science',\n",
    " 'East Asian Studies',\n",
    " 'Economics',\n",
    " 'Education',\n",
    " 'English',\n",
    " 'Environmental Studies',\n",
    " 'French',\n",
    " 'Geology',\n",
    " 'German',\n",
    " 'History',\n",
    " 'History and Religion',\n",
    " 'International Relations',\n",
    " 'Italian Studies',\n",
    " 'Japanese',\n",
    " 'Jewish Studies',\n",
    " 'Latin',\n",
    " 'MAS',\n",
    " 'Math',\n",
    " 'Medieval and Renaissance Studies',\n",
    " 'Middle Eastern Studies',\n",
    " 'Music',\n",
    " 'Neuroscience',\n",
    " 'Philosophy',\n",
    " 'Physics',\n",
    " 'Political Science',\n",
    " 'Psychology',\n",
    " 'Russian',\n",
    " 'Sociology',\n",
    " 'Spanish',\n",
    " 'Studio Art',\n",
    " 'WGST']\n",
    "    if type(major) == str:\n",
    "        if major in major_list:\n",
    "            return major\n",
    "    return ''"
   ]
  },
  {
   "cell_type": "code",
   "execution_count": 645,
   "metadata": {},
   "outputs": [
    {
     "data": {
      "text/plain": [
       "array(['Computer Science', 'Political Science', '', 'Economics', 'Math',\n",
       "       'Astronomy', 'Spanish', 'Cognitive Science', 'Biology', 'MAS',\n",
       "       'Sociology', 'Data Science', 'American Studies',\n",
       "       'Environmental Studies', 'English', 'WGST', 'Latin', 'Arabic',\n",
       "       'History', 'Philosophy', 'Physics', 'Geology', 'Psychology',\n",
       "       'Studio Art', 'Medieval and Renaissance Studies', 'French',\n",
       "       'Biochemistry', 'Education', 'Chinese', 'Music', 'Neuroscience',\n",
       "       'Classics', 'Chemistry', 'Italian Studies', 'East Asian Studies',\n",
       "       'Asian-American Studies', 'German', 'CAMS', 'Japanese',\n",
       "       'Middle Eastern Studies', 'International Relations',\n",
       "       'Jewish Studies', 'Art History', 'Anthropology',\n",
       "       'Africana Studies', 'Comparative Literature'], dtype=object)"
      ]
     },
     "execution_count": 645,
     "metadata": {},
     "output_type": "execute_result"
    }
   ],
   "source": [
    "no_dup_df['major2'].apply(lambda x: cleaning2(x)).unique()"
   ]
  },
  {
   "cell_type": "code",
   "execution_count": 617,
   "metadata": {},
   "outputs": [
    {
     "data": {
      "text/plain": [
       "array(['', 'Computer Science', 'Studio Art', 'Russian',\n",
       "       'Ethnicity Studies', 'Economics', 'French', 'Math', 'Culture',\n",
       "       'Psychology', 'Music Theory', 'Italian Studies'], dtype=object)"
      ]
     },
     "execution_count": 617,
     "metadata": {},
     "output_type": "execute_result"
    }
   ],
   "source": [
    "no_dup_df['major3'].unique()"
   ]
  },
  {
   "cell_type": "code",
   "execution_count": 640,
   "metadata": {},
   "outputs": [],
   "source": [
    "# create a list of all majors to use for later\n",
    "allMajors = list(no_dup_df['major3'].apply(lambda x: cleaning3(cleaning2(x))).unique()) + list(no_dup_df['major2'].apply(lambda x: cleaning3(cleaning2(x))).unique()) + list(no_dup_df['major1'].apply(lambda x: cleaning3(cleaning2(x))).unique())"
   ]
  },
  {
   "cell_type": "code",
   "execution_count": 641,
   "metadata": {},
   "outputs": [
    {
     "data": {
      "text/plain": [
       "{'',\n",
       " 'Africana Studies',\n",
       " 'American Studies',\n",
       " 'Anthropology',\n",
       " 'Arabic',\n",
       " 'Architecture',\n",
       " 'Art History',\n",
       " 'Asian-American Studies',\n",
       " 'Astronomy',\n",
       " 'Biochemistry',\n",
       " 'Biology',\n",
       " 'CAMS',\n",
       " 'Chemistry',\n",
       " 'Chinese',\n",
       " 'Classics',\n",
       " 'Cognitive Science',\n",
       " 'Comparative Literature',\n",
       " 'Computer Science',\n",
       " 'Data Science',\n",
       " 'East Asian Studies',\n",
       " 'Economics',\n",
       " 'Education',\n",
       " 'English',\n",
       " 'Environmental Studies',\n",
       " 'French',\n",
       " 'Geology',\n",
       " 'German',\n",
       " 'History',\n",
       " 'History and Religion',\n",
       " 'International Relations',\n",
       " 'Italian Studies',\n",
       " 'Japanese',\n",
       " 'Jewish Studies',\n",
       " 'Latin',\n",
       " 'MAS',\n",
       " 'Math',\n",
       " 'Medieval and Renaissance Studies',\n",
       " 'Middle Eastern Studies',\n",
       " 'Music',\n",
       " 'Neuroscience',\n",
       " 'Philosophy',\n",
       " 'Physics',\n",
       " 'Political Science',\n",
       " 'Psychology',\n",
       " 'Russian',\n",
       " 'Sociology',\n",
       " 'Spanish',\n",
       " 'Studio Art',\n",
       " 'WGST'}"
      ]
     },
     "execution_count": 641,
     "metadata": {},
     "output_type": "execute_result"
    }
   ],
   "source": [
    "# all unique majors in our dataset\n",
    "uniqueMajors = set(allMajors)\n",
    "uniqueMajors"
   ]
  },
  {
   "cell_type": "code",
   "execution_count": 642,
   "metadata": {},
   "outputs": [],
   "source": [
    "# clean the major listings \n",
    "no_dup_df['major1'] = no_dup_df['major1'].apply(lambda x: cleaning3(cleaning2(x)))\n",
    "no_dup_df['major2'] = no_dup_df['major2'].apply(lambda x: cleaning3(cleaning2(x)))\n",
    "no_dup_df['major3'] = no_dup_df['major3'].apply(lambda x: cleaning3(cleaning2(x)))"
   ]
  },
  {
   "cell_type": "code",
   "execution_count": 647,
   "metadata": {},
   "outputs": [],
   "source": [
    "no_dup_new = no_dup_df.copy()"
   ]
  },
  {
   "cell_type": "code",
   "execution_count": 650,
   "metadata": {},
   "outputs": [
    {
     "data": {
      "text/plain": [
       "Index(['name', 'headline', 'summary', 'location', 'skills', 'education',\n",
       "       'jobs', 'degree', 'study_range', 'major', 'grad_year', 'title',\n",
       "       'company', 'years', 'description', 'url', 'end', 'start',\n",
       "       'attended_grad_school', 'major_cleaning', 'major1', 'major2', 'major3'],\n",
       "      dtype='object')"
      ]
     },
     "execution_count": 650,
     "metadata": {},
     "output_type": "execute_result"
    }
   ],
   "source": [
    "no_dup_new.columns"
   ]
  },
  {
   "cell_type": "code",
   "execution_count": 652,
   "metadata": {},
   "outputs": [],
   "source": [
    "# drop columns used for cleaning\n",
    "no_dup_new = no_dup_new.drop(['major_cleaning', 'major', 'years'], axis=1)"
   ]
  },
  {
   "cell_type": "code",
   "execution_count": 654,
   "metadata": {},
   "outputs": [],
   "source": [
    "# save cleaned data in a csv file\n",
    "no_dup_new.to_csv('majors_v2.csv')"
   ]
  },
  {
   "cell_type": "code",
   "execution_count": null,
   "metadata": {},
   "outputs": [],
   "source": []
  }
 ],
 "metadata": {
  "kernelspec": {
   "display_name": "Python 3",
   "language": "python",
   "name": "python3"
  },
  "language_info": {
   "codemirror_mode": {
    "name": "ipython",
    "version": 3
   },
   "file_extension": ".py",
   "mimetype": "text/x-python",
   "name": "python",
   "nbconvert_exporter": "python",
   "pygments_lexer": "ipython3",
   "version": "3.7.6"
  }
 },
 "nbformat": 4,
 "nbformat_minor": 4
}
