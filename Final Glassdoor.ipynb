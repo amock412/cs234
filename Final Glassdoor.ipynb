{
 "cells": [
  {
   "cell_type": "markdown",
   "metadata": {},
   "source": [
    "## Scraping Glassdoor Data and Hypothesis Testing\n",
    "Author: Panya Tang\n",
    "Date: December 10, 2020"
   ]
  },
  {
   "cell_type": "markdown",
   "metadata": {},
   "source": [
    "### Scraping Glassdoor Data\n",
    "This notebook aims to scrape Glassdoor data on company salaries using the Top 50 companies that Wellesley alums work at. The scraping was completed through BeautifulSoup and the individual company salary data were saved into panda dataframes. "
   ]
  },
  {
   "cell_type": "code",
   "execution_count": 4,
   "metadata": {},
   "outputs": [],
   "source": [
    "import os\n",
    "import time\n",
    "\n",
    "import numpy as np\n",
    "import pandas as pd\n",
    "\n",
    "from bs4 import BeautifulSoup as BS\n",
    "from urllib.request import Request, urlopen\n",
    "\n",
    "import re\n",
    "from lxml.html.soupparser import fromstring\n",
    "\n",
    "import csv\n",
    "import re"
   ]
  },
  {
   "cell_type": "markdown",
   "metadata": {},
   "source": [
    "Create a function that scrapes the company name and salary data. The function returns a dataframe and a list with the name. Some of the lines are commented out, but still kept in the code, since they were not used in the final project. For example, the size, headquarters, and Glassdoor blurbs of each company were data we initially wanted to use, but did not at the end. Thus, in an effort to preserve code that could be saved for future use, a more efficient function was not written to only collect salary data and name of the company from the same page."
   ]
  },
  {
   "cell_type": "code",
   "execution_count": 6,
   "metadata": {},
   "outputs": [],
   "source": [
    "def companyscraper(url):\n",
    "    \"\"\"A function that scrapes salary data and relevant company information given the URL. \n",
    "       Returns dataframe with company salary and a list with company name.\"\"\"\n",
    "    #headquarters = []\n",
    "    #values  = []\n",
    "    hdr = {'User-Agent': 'Mozilla/5.0 (Windows NT 10.0; Win64; x64) AppleWebKit/537.36 (KHTML, like Gecko) Chrome/70.0.3538.102 Safari/537.36 Edge/18.19582'}\n",
    "    \n",
    "    #Parse the webpage with BeautifulSoup\n",
    "    req = Request(url,headers=hdr)\n",
    "    page = urlopen(req)\n",
    "    soup = BS(page, \"html.parser\")\n",
    "    \n",
    "    #Find the name of the company and clean title\n",
    "    namehtml = soup.find('h2', attrs = {'class': 'my-0'})\n",
    "    name = namehtml.get_text().split(\"Overview\")[0]\n",
    "    \n",
    "    #sizehtml = soup.find('li', attrs = {'class': \"d-flex align-items-center col-12 col-sm-6 p-0 m-0 pb-sm pr-sm-xxsm\"})\n",
    "    #size = sizehtml.get_text().split(\":\")[1]\n",
    "    \n",
    "    #headquarterhtml = soup.find('li', attrs = {'class': \"d-flex align-items-center col-12 col-sm-6 p-0 m-0 pb-sm pl-sm-xxsm\"})\n",
    "    #headquarter = headquarterhtml.get_text()\n",
    "    \n",
    "    #valueshtml = soup.find('span', attrs = {'data-test': \"employerDescription\"})\n",
    "    #values = valueshtml.get_text() \n",
    "    \n",
    "    #To find the unique employerID that is given to each Glassdoor company, look for html codes with <a> tags \n",
    "    # and append href attribute to list\n",
    "    #Then, look for employer ID in the list\n",
    "    links_with_text = []\n",
    "    for a in soup.find_all('a', href = True):\n",
    "        if a.text:\n",
    "            links_with_text.append(a['href'])\n",
    "    for link in links_with_text:\n",
    "        if 'employerId' in link:\n",
    "            digits = link.split('=')[1]\n",
    "            cleanedDigits = re.sub(\"\\D\", \"\", digits)\n",
    "            \n",
    "            \n",
    "    nameOnly = name.split()[0]\n",
    "   \n",
    "    # Using company name and employerID, generate link to salary page\n",
    "    JobTitle = []\n",
    "    AverageSalary = []\n",
    "    req = Request('https://www.glassdoor.com/Salary/'+nameOnly+'-Salaries-E'+cleanedDigits+'.htm',headers=hdr)\n",
    "    page = urlopen(req)\n",
    "    soup = BS(page, \"html.parser\")\n",
    "    Summary = soup.find_all('div', attrs = {'class':'dataTable__DataTableStyle__dataTableModal'})\n",
    "    removedTag  = re.sub(clean, '', str(Summary))\n",
    "    splitData = re.split('/',removedTag)\n",
    "    \n",
    "    #Create Dataframe that splits out string \"reported\"\n",
    "    cleanDataList = []\n",
    "    for job in splitData:\n",
    "        cleanDataList.append(job.split('reported'))\n",
    "      \n",
    "    #Replace \",\" and \"$\" in order to change salary string into integer\n",
    "    newDf = pd.DataFrame(cleanDataList, columns = ['Job Title', 'Salary'])\n",
    "    jobDf = newDf.dropna()\n",
    "    jobDf['Salary'] = jobDf['Salary'].str.replace(\",\", \"\", regex = False)\n",
    "    jobDf['Salary'] = jobDf['Salary'].str.replace(\"$\", \"\", regex = False)\n",
    "    jobDf['Salary'] = jobDf['Salary'].astype(int)\n",
    "            \n",
    "    return jobDf,[name]"
   ]
  },
  {
   "cell_type": "markdown",
   "metadata": {},
   "source": [
    "Load alum data and create a counter dictionary of companies that alums work at."
   ]
  },
  {
   "cell_type": "code",
   "execution_count": 7,
   "metadata": {
    "scrolled": true
   },
   "outputs": [],
   "source": [
    "allAlumDf = pd.read_csv('all_alum_data.csv')"
   ]
  },
  {
   "cell_type": "code",
   "execution_count": 8,
   "metadata": {},
   "outputs": [],
   "source": [
    "allAlumDf['current_employer'].value_counts()\n",
    "counts = allAlumDf['current_employer'].value_counts().to_dict()"
   ]
  },
  {
   "cell_type": "markdown",
   "metadata": {},
   "source": [
    "Create list to save all company information. Then, through manually generating the links for each of the top 50 companies, append data to list. "
   ]
  },
  {
   "cell_type": "code",
   "execution_count": 2,
   "metadata": {},
   "outputs": [],
   "source": [
    "compilation_list = []"
   ]
  },
  {
   "cell_type": "code",
   "execution_count": 11,
   "metadata": {},
   "outputs": [
    {
     "name": "stderr",
     "output_type": "stream",
     "text": [
      "<ipython-input-3-9c4a32b47c2c>:48: SettingWithCopyWarning: \n",
      "A value is trying to be set on a copy of a slice from a DataFrame.\n",
      "Try using .loc[row_indexer,col_indexer] = value instead\n",
      "\n",
      "See the caveats in the documentation: https://pandas.pydata.org/pandas-docs/stable/user_guide/indexing.html#returning-a-view-versus-a-copy\n",
      "  jobDf['Salary'] = jobDf['Salary'].str.replace(\",\", \"\", regex = False)\n",
      "<ipython-input-3-9c4a32b47c2c>:49: SettingWithCopyWarning: \n",
      "A value is trying to be set on a copy of a slice from a DataFrame.\n",
      "Try using .loc[row_indexer,col_indexer] = value instead\n",
      "\n",
      "See the caveats in the documentation: https://pandas.pydata.org/pandas-docs/stable/user_guide/indexing.html#returning-a-view-versus-a-copy\n",
      "  jobDf['Salary'] = jobDf['Salary'].str.replace(\"$\", \"\", regex = False)\n",
      "<ipython-input-3-9c4a32b47c2c>:50: SettingWithCopyWarning: \n",
      "A value is trying to be set on a copy of a slice from a DataFrame.\n",
      "Try using .loc[row_indexer,col_indexer] = value instead\n",
      "\n",
      "See the caveats in the documentation: https://pandas.pydata.org/pandas-docs/stable/user_guide/indexing.html#returning-a-view-versus-a-copy\n",
      "  jobDf['Salary'] = jobDf['Salary'].astype(int)\n"
     ]
    }
   ],
   "source": [
    "compilation_list.append(companyscraper('https://www.glassdoor.com/Overview/Working-at-Google-EI_IE9079.11,17.htm'))\n",
    "compilation_list.append(companyscraper('https://www.glassdoor.com/Overview/Working-at-Microsoft-EI_IE1651.11,20.htm'))\n",
    "compilation_list.append(companyscraper('https://www.glassdoor.com/facebook'))\n",
    "compilation_list.append(companyscraper('https://www.glassdoor.com/Overview/Working-at-Accenture-EI_IE4138.11,20.htm'))\n",
    "compilation_list.append(companyscraper('https://www.glassdoor.com/Overview/Working-at-IBM-EI_IE354.11,14.htm'))\n",
    "compilation_list.append(companyscraper('https://www.glassdoor.com/Overview/Working-at-Amazon-EI_IE6036.11,17.htm'))\n",
    "compilation_list.append(companyscraper('https://www.glassdoor.com/Overview/Working-at-Intuit-EI_IE2293.11,17.htm'))\n",
    "compilation_list.append(companyscraper('https://www.glassdoor.com/Overview/Working-at-Wayfair-EI_IE134525.11,18.htm'))\n",
    "compilation_list.append(companyscraper('https://www.glassdoor.com/Overview/Working-at-Oracle-EI_IE1737.11,17.htm'))\n",
    "compilation_list.append(companyscraper('https://www.glassdoor.com/Overview/Working-at-MIT-Lincoln-Laboratory-EI_IE347032.11,33.htm'))\n",
    "compilation_list.append(companyscraper('https://www.glassdoor.com/Overview/Working-at-Uber-EI_IE575263.11,15.htm'))\n",
    "compilation_list.append(companyscraper('https://www.glassdoor.com/Overview/Working-at-Square-EI_IE422050.11,17.htm'))\n",
    "compilation_list.append(companyscraper('https://www.glassdoor.com/Overview/Working-at-Cornell-University-EI_IE3732.11,29.htm'))\n",
    "compilation_list.append(companyscraper(\"https://www.glassdoor.com/Overview/Working-at-Apple-EI_IE1138.11,16.htm\"))\n",
    "compilation_list.append(companyscraper(\"https://www.glassdoor.com/Overview/Working-at-Adobe-EI_IE1090.11,16.htm\"))\n",
    "compilation_list.append(companyscraper(\"https://www.glassdoor.com/Overview/Working-at-Harvard-University-EI_IE2817.11,29.htm\"))\n",
    "compilation_list.append(companyscraper(\"https://www.glassdoor.com/Overview/Working-at-Workday-EI_IE197851.11,18.htm\"))\n",
    "compilation_list.append(companyscraper(\"https://www.glassdoor.com/Overview/Working-at-Northeastern-University-EI_IE23363.11,34.htm\"))\n",
    "compilation_list.append(companyscraper(\"https://www.glassdoor.com/Overview/Working-at-Booz-Allen-Hamilton-EI_IE2735.11,30.htm\"))\n",
    "compilation_list.append(companyscraper(\"https://www.glassdoor.com/Overview/Working-at-Goldman-Sachs-EI_IE2800.11,24.htm\"))\n",
    "compilation_list.append(companyscraper(\"https://www.glassdoor.com/Overview/Working-at-Stanford-University-EI_IE2989.11,30.htm\"))\n",
    "compilation_list.append(companyscraper(\"https://www.glassdoor.com/Overview/Working-at-Capital-One-EI_IE3736.11,22.htm\"))\n",
    "compilation_list.append(companyscraper(\"https://www.glassdoor.com/Overview/Working-at-LinkedIn-EI_IE34865.11,19.htm\"))\n",
    "compilation_list.append(companyscraper(\"https://www.glassdoor.com/Overview/Working-at-Grab-EI_IE958580.11,15.htm\"))\n",
    "compilation_list.append(companyscraper(\"https://www.glassdoor.com/Overview/Working-at-HubSpot-EI_IE227605.11,18.htm\"))\n",
    "compilation_list.append(companyscraper(\"https://www.glassdoor.com/Overview/Working-at-Tufts-University-EI_IE21675.11,27.htm\"))\n",
    "compilation_list.append(companyscraper(\"https://www.glassdoor.com/Overview/Working-at-edX-EI_IE664143.11,14.htm\"))\n",
    "compilation_list.append(companyscraper(\"https://www.glassdoor.com/Overview/Working-at-J-P-Morgan-EI_IE145.11,21.htm\"))\n",
    "compilation_list.append(companyscraper(\"https://www.glassdoor.com/Overview/Working-at-Palantir-Technologies-EI_IE236375.11,32.htm\"))\n",
    "compilation_list.append(companyscraper(\"https://www.glassdoor.com/Overview/Working-at-Dropbox-EI_IE415350.11,18.htm\"))\n",
    "compilation_list.append(companyscraper(\"https://www.glassdoor.com/Overview/Working-at-Salesforce-EI_IE11159.11,21.htm\"))\n",
    "compilation_list.append(companyscraper(\"https://www.glassdoor.com/Overview/Working-at-Alarm-com-EI_IE268820.11,20.htm\"))\n",
    "compilation_list.append(companyscraper(\"https://www.glassdoor.com/Overview/Working-at-Wellington-Management-EI_IE9606.11,32.htm\"))\n",
    "compilation_list.append(companyscraper(\"https://www.glassdoor.com/spotify\"))\n",
    "compilation_list.append(companyscraper(\"https://www.glassdoor.com/Overview/Working-at-Kayak-com-EI_IE37851.11,20.htm\"))\n",
    "compilation_list.append(companyscraper(\"https://www.glassdoor.com/Overview/Working-at-Sonos-EI_IE259049.11,16.htm\"))\n",
    "compilation_list.append(companyscraper(\"https://www.glassdoor.com/Overview/Working-at-New-Relic-EI_IE461657.11,20.htm\"))\n",
    "compilation_list.append(companyscraper('https://www.glassdoor.com/Overview/Working-at-Analysis-Group-EI_IE132526.11,25.htm'))\n",
    "compilation_list.append(companyscraper(\"https://www.glassdoor.com/Overview/Working-at-Lyft-EI_IE700614.11,15.htm\"))\n",
    "compilation_list.append(companyscraper(\"https://www.glassdoor.com/Overview/Working-at-UBS-EI_IE3419.11,14.htm\"))\n",
    "compilation_list.append(companyscraper(\"https://www.glassdoor.com/Overview/Working-at-PayPal-EI_IE9848.11,17.htm\"))\n",
    "compilation_list.append(companyscraper('https://www.glassdoor.com/Overview/Working-at-Etsy-EI_IE42751.11,15.htm'))\n",
    "compilation_list.append(companyscraper(\"https://www.glassdoor.com/Overview/Working-at-York-University-EI_IE141035.11,26.htm\"))\n",
    "compilation_list.append(companyscraper(\"https://www.glassdoor.com/Overview/Working-at-Chegg-EI_IE237819.11,16.htm\"))\n",
    "compilation_list.append(companyscraper(\"https://www.glassdoor.com/Overview/Working-at-athenahealth-EI_IE18207.11,23.htm\"))\n",
    "compilation_list.append(companyscraper(\"https://www.glassdoor.com/Overview/Working-at-Bloomberg-L-P-EI_IE3096.11,24.htm\"))\n",
    "compilation_list.append(companyscraper(\"https://www.glassdoor.com/Overview/Working-at-Walt-Disney-Company-EI_IE717.11,30.htm\"))\n",
    "compilation_list.append(companyscraper(\"https://www.glassdoor.com/Overview/Working-at-Indeed-EI_IE100561.11,17.htm\"))\n",
    "compilation_list.append(companyscraper(\"https://www.glassdoor.com/Overview/Working-at-Chewy-EI_IE815856.11,16.htm\"))"
   ]
  },
  {
   "cell_type": "markdown",
   "metadata": {},
   "source": [
    "With a for loop, calculate means for company salary across all positions. Then, append information into dictionary, with company name as the key."
   ]
  },
  {
   "cell_type": "code",
   "execution_count": 62,
   "metadata": {},
   "outputs": [],
   "source": [
    "averageSalary = {}"
   ]
  },
  {
   "cell_type": "code",
   "execution_count": 67,
   "metadata": {},
   "outputs": [
    {
     "data": {
      "text/plain": [
       "{'Google': 122219.35,\n",
       " 'Microsoft': 134386.45,\n",
       " 'Facebook': 132978.95,\n",
       " 'Accenture': 97194.55,\n",
       " 'IBM': 105195.2,\n",
       " 'Amazon': 80426.45,\n",
       " 'Intuit': 134264.55,\n",
       " 'Wayfair': 78501.55,\n",
       " 'Oracle': 125136.6,\n",
       " 'MIT Lincoln Laboratory': 60012.25,\n",
       " 'Uber': 54463.2,\n",
       " 'Square': 76243.9,\n",
       " 'Cornell University': 39820.75,\n",
       " 'Apple': 99812.65,\n",
       " 'Adobe': 130137.15,\n",
       " 'Harvard University': 56408.9,\n",
       " 'Workday': 156949.15,\n",
       " 'Northeastern University': 35673.55,\n",
       " 'Booz Allen Hamilton': 88118.85,\n",
       " 'Goldman Sachs': 112140.25,\n",
       " 'Stanford University': 60288.35,\n",
       " 'Capital One': 93175.95,\n",
       " 'LinkedIn': 121216.05,\n",
       " 'Grab': 72949.8,\n",
       " 'HubSpot': 70012.3,\n",
       " 'Tufts University': 40645.35,\n",
       " 'edX': 79292.75,\n",
       " 'J.P. Morgan': 80010.15,\n",
       " 'Palantir Technologies': 86153.25,\n",
       " 'Dropbox': 125660.6,\n",
       " 'Salesforce': 131052.8,\n",
       " 'Alarm.com': 45274.9,\n",
       " 'Wellington Management': 84845.95,\n",
       " 'Spotify': 133768.65,\n",
       " 'Kayak.com': 79708.2,\n",
       " 'Sonos': 92924.75,\n",
       " 'New Relic': 110215.5,\n",
       " 'Analysis Group': 96276.2,\n",
       " 'Lyft': 50163.4,\n",
       " 'UBS': 86030.4,\n",
       " 'PayPal': 124578.4,\n",
       " 'Etsy': 122516.4,\n",
       " 'York University': 10288.0,\n",
       " 'Chegg': 76746.25,\n",
       " 'athenahealth': 89991.25,\n",
       " 'Bloomberg L.P.': 97501.5,\n",
       " 'Walt Disney Company': 58007.95,\n",
       " 'Indeed': 78044.3,\n",
       " 'Chewy': 30921.7}"
      ]
     },
     "execution_count": 67,
     "metadata": {},
     "output_type": "execute_result"
    }
   ],
   "source": [
    "for company in compilation_list:\n",
    "    name = company[1][0].strip()\n",
    "    averageSalary[name] = company[0]['Salary'].mean()\n",
    "\n",
    "averageSalary"
   ]
  },
  {
   "cell_type": "markdown",
   "metadata": {},
   "source": [
    "Create barplot for the average salaries for the top 50 companies"
   ]
  },
  {
   "cell_type": "code",
   "execution_count": 68,
   "metadata": {},
   "outputs": [],
   "source": [
    "import matplotlib.pyplot as plt"
   ]
  },
  {
   "cell_type": "code",
   "execution_count": 69,
   "metadata": {},
   "outputs": [
    {
     "data": {
      "image/png": "[encoded data removed]",
      "text/plain": [
       "<Figure size 720x720 with 1 Axes>"
      ]
     },
     "metadata": {
      "needs_background": "light"
     },
     "output_type": "display_data"
    }
   ],
   "source": [
    "company = list(averageSalary.keys())\n",
    "salary = list(averageSalary.values())\n",
    "\n",
    "fig = plt.figure(figsize = (10, 10))\n",
    "\n",
    "plt.barh(company, salary)\n",
    "plt.xlabel('Salary')\n",
    "plt.ylabel('Company')\n",
    "plt.title(\"Bar Plot Popular Company Wages\")\n",
    "plt.savefig(\"companyaveragebarplot.png\")"
   ]
  },
  {
   "cell_type": "code",
   "execution_count": 76,
   "metadata": {},
   "outputs": [
    {
     "name": "stdout",
     "output_type": "stream",
     "text": [
      "Collecting fuzzywuzzy\n",
      "  Downloading fuzzywuzzy-0.18.0-py2.py3-none-any.whl (18 kB)\n",
      "Installing collected packages: fuzzywuzzy\n",
      "Successfully installed fuzzywuzzy-0.18.0\n"
     ]
    }
   ],
   "source": [
    "!pip install fuzzywuzzy"
   ]
  },
  {
   "cell_type": "markdown",
   "metadata": {},
   "source": [
    "### Hypothesis Testing"
   ]
  },
  {
   "cell_type": "markdown",
   "metadata": {},
   "source": [
    "Read CSV of S&P 500 companies. Using the fuzzywuzzy package, compare company names that are saved in the dictionary to the S&P official names. If fuzzy ratio is more than 55, the company is considered a S&P company. Save each group into a separate dictionary. "
   ]
  },
  {
   "cell_type": "code",
   "execution_count": 77,
   "metadata": {},
   "outputs": [
    {
     "name": "stderr",
     "output_type": "stream",
     "text": [
      "C:\\Users\\Panya\\anaconda3\\lib\\site-packages\\fuzzywuzzy\\fuzz.py:11: UserWarning: Using slow pure-python SequenceMatcher. Install python-Levenshtein to remove this warning\n",
      "  warnings.warn('Using slow pure-python SequenceMatcher. Install python-Levenshtein to remove this warning')\n"
     ]
    }
   ],
   "source": [
    "from fuzzywuzzy import fuzz"
   ]
  },
  {
   "cell_type": "code",
   "execution_count": 111,
   "metadata": {},
   "outputs": [
    {
     "data": {
      "text/plain": [
       "26"
      ]
     },
     "execution_count": 111,
     "metadata": {},
     "output_type": "execute_result"
    }
   ],
   "source": [
    "sp500Df = pd.read_csv('constituents.csv')\n",
    "sp500companies = sp500Df['Name'].tolist()\n",
    "sp500companies\n",
    "\n",
    "companyDf = pd.DataFrame(averageSalary.items(), columns = ['company', 'salary'])\n",
    "companyDf['isSP'] = ''\n",
    "\n",
    "inSP = {}\n",
    "notinSP = {}\n",
    "for company in averageSalary:\n",
    "    for spcompany in sp500companies: \n",
    "        ratio = fuzz.ratio(company, spcompany)\n",
    "        if ratio > 55:\n",
    "            inSP[company] = averageSalary[company]\n",
    "    if company not in inSP:\n",
    "        notinSP[company] = averageSalary[company]\n",
    "\n",
    "len(notinSP)"
   ]
  },
  {
   "cell_type": "markdown",
   "metadata": {},
   "source": [
    "Create a list of the average salaries for S&P and non-S&P companies"
   ]
  },
  {
   "cell_type": "code",
   "execution_count": 114,
   "metadata": {},
   "outputs": [],
   "source": [
    "import scipy.stats as stats\n",
    "from pandas import Series"
   ]
  },
  {
   "cell_type": "code",
   "execution_count": 118,
   "metadata": {},
   "outputs": [
    {
     "data": {
      "text/plain": [
       "[122219.35,\n",
       " 105195.2,\n",
       " 54463.2,\n",
       " 76243.9,\n",
       " 39820.75,\n",
       " 56408.9,\n",
       " 156949.15,\n",
       " 88118.85,\n",
       " 60288.35,\n",
       " 72949.8,\n",
       " 70012.3,\n",
       " 40645.35,\n",
       " 79292.75,\n",
       " 125660.6,\n",
       " 45274.9,\n",
       " 133768.65,\n",
       " 92924.75,\n",
       " 110215.5,\n",
       " 50163.4,\n",
       " 86030.4,\n",
       " 122516.4,\n",
       " 10288.0,\n",
       " 76746.25,\n",
       " 89991.25,\n",
       " 78044.3,\n",
       " 30921.7]"
      ]
     },
     "execution_count": 118,
     "metadata": {},
     "output_type": "execute_result"
    }
   ],
   "source": [
    "list(notinSP.values())"
   ]
  },
  {
   "cell_type": "markdown",
   "metadata": {},
   "source": [
    "Conduct a two-sample t-test. Samples have unequal variance and the significance level is 0.025."
   ]
  },
  {
   "cell_type": "code",
   "execution_count": 120,
   "metadata": {},
   "outputs": [
    {
     "data": {
      "text/plain": [
       "Ttest_indResult(statistic=-2.121469451491724, pvalue=0.039251577514936374)"
      ]
     },
     "execution_count": 120,
     "metadata": {},
     "output_type": "execute_result"
    }
   ],
   "source": [
    "twoSampleTest = stats.ttest_ind(list(notinSP.values()), list(inSP.values()), equal_var = False)\n",
    "twoSampleTest"
   ]
  },
  {
   "cell_type": "code",
   "execution_count": 124,
   "metadata": {},
   "outputs": [
    {
     "data": {
      "application/vnd.plotly.v1+json": {
       "config": {
        "plotlyServerURL": "https://plot.ly"
       },
       "data": [
        {
         "colorscale": [
          [
           0,
           "#00083e"
          ],
          [
           0.5,
           "#ededee"
          ],
          [
           1,
           "#ffffff"
          ]
         ],
         "hoverinfo": "none",
         "opacity": 0.75,
         "showscale": false,
         "type": "heatmap",
         "z": [
          [
           0,
           0,
           0
          ],
          [
           0,
           0.5,
           0.5
          ]
         ]
        }
       ],
       "layout": {
        "annotations": [
         {
          "align": "left",
          "font": {
           "color": "#ffffff"
          },
          "showarrow": false,
          "text": "<b></b>",
          "x": -0.45,
          "xanchor": "left",
          "xref": "x",
          "y": 0,
          "yref": "y"
         },
         {
          "align": "left",
          "font": {
           "color": "#ffffff"
          },
          "showarrow": false,
          "text": "<b>Test Statistic</b>",
          "x": 0.55,
          "xanchor": "left",
          "xref": "x",
          "y": 0,
          "yref": "y"
         },
         {
          "align": "left",
          "font": {
           "color": "#ffffff"
          },
          "showarrow": false,
          "text": "<b>p-value</b>",
          "x": 1.55,
          "xanchor": "left",
          "xref": "x",
          "y": 0,
          "yref": "y"
         },
         {
          "align": "left",
          "font": {
           "color": "#ffffff"
          },
          "showarrow": false,
          "text": "<b>Sample Data</b>",
          "x": -0.45,
          "xanchor": "left",
          "xref": "x",
          "y": 1,
          "yref": "y"
         },
         {
          "align": "left",
          "font": {
           "color": "#000000"
          },
          "showarrow": false,
          "text": "-2.121469451491724",
          "x": 0.55,
          "xanchor": "left",
          "xref": "x",
          "y": 1,
          "yref": "y"
         },
         {
          "align": "left",
          "font": {
           "color": "#000000"
          },
          "showarrow": false,
          "text": "0.019625788757468187",
          "x": 1.55,
          "xanchor": "left",
          "xref": "x",
          "y": 1,
          "yref": "y"
         }
        ],
        "height": 110,
        "margin": {
         "b": 0,
         "l": 0,
         "r": 0,
         "t": 0
        },
        "template": {
         "data": {
          "bar": [
           {
            "error_x": {
             "color": "#2a3f5f"
            },
            "error_y": {
             "color": "#2a3f5f"
            },
            "marker": {
             "line": {
              "color": "#E5ECF6",
              "width": 0.5
             }
            },
            "type": "bar"
           }
          ],
          "barpolar": [
           {
            "marker": {
             "line": {
              "color": "#E5ECF6",
              "width": 0.5
             }
            },
            "type": "barpolar"
           }
          ],
          "carpet": [
           {
            "aaxis": {
             "endlinecolor": "#2a3f5f",
             "gridcolor": "white",
             "linecolor": "white",
             "minorgridcolor": "white",
             "startlinecolor": "#2a3f5f"
            },
            "baxis": {
             "endlinecolor": "#2a3f5f",
             "gridcolor": "white",
             "linecolor": "white",
             "minorgridcolor": "white",
             "startlinecolor": "#2a3f5f"
            },
            "type": "carpet"
           }
          ],
          "choropleth": [
           {
            "colorbar": {
             "outlinewidth": 0,
             "ticks": ""
            },
            "type": "choropleth"
           }
          ],
          "contour": [
           {
            "colorbar": {
             "outlinewidth": 0,
             "ticks": ""
            },
            "colorscale": [
             [
              0,
              "#0d0887"
             ],
             [
              0.1111111111111111,
              "#46039f"
             ],
             [
              0.2222222222222222,
              "#7201a8"
             ],
             [
              0.3333333333333333,
              "#9c179e"
             ],
             [
              0.4444444444444444,
              "#bd3786"
             ],
             [
              0.5555555555555556,
              "#d8576b"
             ],
             [
              0.6666666666666666,
              "#ed7953"
             ],
             [
              0.7777777777777778,
              "#fb9f3a"
             ],
             [
              0.8888888888888888,
              "#fdca26"
             ],
             [
              1,
              "#f0f921"
             ]
            ],
            "type": "contour"
           }
          ],
          "contourcarpet": [
           {
            "colorbar": {
             "outlinewidth": 0,
             "ticks": ""
            },
            "type": "contourcarpet"
           }
          ],
          "heatmap": [
           {
            "colorbar": {
             "outlinewidth": 0,
             "ticks": ""
            },
            "colorscale": [
             [
              0,
              "#0d0887"
             ],
             [
              0.1111111111111111,
              "#46039f"
             ],
             [
              0.2222222222222222,
              "#7201a8"
             ],
             [
              0.3333333333333333,
              "#9c179e"
             ],
             [
              0.4444444444444444,
              "#bd3786"
             ],
             [
              0.5555555555555556,
              "#d8576b"
             ],
             [
              0.6666666666666666,
              "#ed7953"
             ],
             [
              0.7777777777777778,
              "#fb9f3a"
             ],
             [
              0.8888888888888888,
              "#fdca26"
             ],
             [
              1,
              "#f0f921"
             ]
            ],
            "type": "heatmap"
           }
          ],
          "heatmapgl": [
           {
            "colorbar": {
             "outlinewidth": 0,
             "ticks": ""
            },
            "colorscale": [
             [
              0,
              "#0d0887"
             ],
             [
              0.1111111111111111,
              "#46039f"
             ],
             [
              0.2222222222222222,
              "#7201a8"
             ],
             [
              0.3333333333333333,
              "#9c179e"
             ],
             [
              0.4444444444444444,
              "#bd3786"
             ],
             [
              0.5555555555555556,
              "#d8576b"
             ],
             [
              0.6666666666666666,
              "#ed7953"
             ],
             [
              0.7777777777777778,
              "#fb9f3a"
             ],
             [
              0.8888888888888888,
              "#fdca26"
             ],
             [
              1,
              "#f0f921"
             ]
            ],
            "type": "heatmapgl"
           }
          ],
          "histogram": [
           {
            "marker": {
             "colorbar": {
              "outlinewidth": 0,
              "ticks": ""
             }
            },
            "type": "histogram"
           }
          ],
          "histogram2d": [
           {
            "colorbar": {
             "outlinewidth": 0,
             "ticks": ""
            },
            "colorscale": [
             [
              0,
              "#0d0887"
             ],
             [
              0.1111111111111111,
              "#46039f"
             ],
             [
              0.2222222222222222,
              "#7201a8"
             ],
             [
              0.3333333333333333,
              "#9c179e"
             ],
             [
              0.4444444444444444,
              "#bd3786"
             ],
             [
              0.5555555555555556,
              "#d8576b"
             ],
             [
              0.6666666666666666,
              "#ed7953"
             ],
             [
              0.7777777777777778,
              "#fb9f3a"
             ],
             [
              0.8888888888888888,
              "#fdca26"
             ],
             [
              1,
              "#f0f921"
             ]
            ],
            "type": "histogram2d"
           }
          ],
          "histogram2dcontour": [
           {
            "colorbar": {
             "outlinewidth": 0,
             "ticks": ""
            },
            "colorscale": [
             [
              0,
              "#0d0887"
             ],
             [
              0.1111111111111111,
              "#46039f"
             ],
             [
              0.2222222222222222,
              "#7201a8"
             ],
             [
              0.3333333333333333,
              "#9c179e"
             ],
             [
              0.4444444444444444,
              "#bd3786"
             ],
             [
              0.5555555555555556,
              "#d8576b"
             ],
             [
              0.6666666666666666,
              "#ed7953"
             ],
             [
              0.7777777777777778,
              "#fb9f3a"
             ],
             [
              0.8888888888888888,
              "#fdca26"
             ],
             [
              1,
              "#f0f921"
             ]
            ],
            "type": "histogram2dcontour"
           }
          ],
          "mesh3d": [
           {
            "colorbar": {
             "outlinewidth": 0,
             "ticks": ""
            },
            "type": "mesh3d"
           }
          ],
          "parcoords": [
           {
            "line": {
             "colorbar": {
              "outlinewidth": 0,
              "ticks": ""
             }
            },
            "type": "parcoords"
           }
          ],
          "pie": [
           {
            "automargin": true,
            "type": "pie"
           }
          ],
          "scatter": [
           {
            "marker": {
             "colorbar": {
              "outlinewidth": 0,
              "ticks": ""
             }
            },
            "type": "scatter"
           }
          ],
          "scatter3d": [
           {
            "line": {
             "colorbar": {
              "outlinewidth": 0,
              "ticks": ""
             }
            },
            "marker": {
             "colorbar": {
              "outlinewidth": 0,
              "ticks": ""
             }
            },
            "type": "scatter3d"
           }
          ],
          "scattercarpet": [
           {
            "marker": {
             "colorbar": {
              "outlinewidth": 0,
              "ticks": ""
             }
            },
            "type": "scattercarpet"
           }
          ],
          "scattergeo": [
           {
            "marker": {
             "colorbar": {
              "outlinewidth": 0,
              "ticks": ""
             }
            },
            "type": "scattergeo"
           }
          ],
          "scattergl": [
           {
            "marker": {
             "colorbar": {
              "outlinewidth": 0,
              "ticks": ""
             }
            },
            "type": "scattergl"
           }
          ],
          "scattermapbox": [
           {
            "marker": {
             "colorbar": {
              "outlinewidth": 0,
              "ticks": ""
             }
            },
            "type": "scattermapbox"
           }
          ],
          "scatterpolar": [
           {
            "marker": {
             "colorbar": {
              "outlinewidth": 0,
              "ticks": ""
             }
            },
            "type": "scatterpolar"
           }
          ],
          "scatterpolargl": [
           {
            "marker": {
             "colorbar": {
              "outlinewidth": 0,
              "ticks": ""
             }
            },
            "type": "scatterpolargl"
           }
          ],
          "scatterternary": [
           {
            "marker": {
             "colorbar": {
              "outlinewidth": 0,
              "ticks": ""
             }
            },
            "type": "scatterternary"
           }
          ],
          "surface": [
           {
            "colorbar": {
             "outlinewidth": 0,
             "ticks": ""
            },
            "colorscale": [
             [
              0,
              "#0d0887"
             ],
             [
              0.1111111111111111,
              "#46039f"
             ],
             [
              0.2222222222222222,
              "#7201a8"
             ],
             [
              0.3333333333333333,
              "#9c179e"
             ],
             [
              0.4444444444444444,
              "#bd3786"
             ],
             [
              0.5555555555555556,
              "#d8576b"
             ],
             [
              0.6666666666666666,
              "#ed7953"
             ],
             [
              0.7777777777777778,
              "#fb9f3a"
             ],
             [
              0.8888888888888888,
              "#fdca26"
             ],
             [
              1,
              "#f0f921"
             ]
            ],
            "type": "surface"
           }
          ],
          "table": [
           {
            "cells": {
             "fill": {
              "color": "#EBF0F8"
             },
             "line": {
              "color": "white"
             }
            },
            "header": {
             "fill": {
              "color": "#C8D4E3"
             },
             "line": {
              "color": "white"
             }
            },
            "type": "table"
           }
          ]
         },
         "layout": {
          "annotationdefaults": {
           "arrowcolor": "#2a3f5f",
           "arrowhead": 0,
           "arrowwidth": 1
          },
          "coloraxis": {
           "colorbar": {
            "outlinewidth": 0,
            "ticks": ""
           }
          },
          "colorscale": {
           "diverging": [
            [
             0,
             "#8e0152"
            ],
            [
             0.1,
             "#c51b7d"
            ],
            [
             0.2,
             "#de77ae"
            ],
            [
             0.3,
             "#f1b6da"
            ],
            [
             0.4,
             "#fde0ef"
            ],
            [
             0.5,
             "#f7f7f7"
            ],
            [
             0.6,
             "#e6f5d0"
            ],
            [
             0.7,
             "#b8e186"
            ],
            [
             0.8,
             "#7fbc41"
            ],
            [
             0.9,
             "#4d9221"
            ],
            [
             1,
             "#276419"
            ]
           ],
           "sequential": [
            [
             0,
             "#0d0887"
            ],
            [
             0.1111111111111111,
             "#46039f"
            ],
            [
             0.2222222222222222,
             "#7201a8"
            ],
            [
             0.3333333333333333,
             "#9c179e"
            ],
            [
             0.4444444444444444,
             "#bd3786"
            ],
            [
             0.5555555555555556,
             "#d8576b"
            ],
            [
             0.6666666666666666,
             "#ed7953"
            ],
            [
             0.7777777777777778,
             "#fb9f3a"
            ],
            [
             0.8888888888888888,
             "#fdca26"
            ],
            [
             1,
             "#f0f921"
            ]
           ],
           "sequentialminus": [
            [
             0,
             "#0d0887"
            ],
            [
             0.1111111111111111,
             "#46039f"
            ],
            [
             0.2222222222222222,
             "#7201a8"
            ],
            [
             0.3333333333333333,
             "#9c179e"
            ],
            [
             0.4444444444444444,
             "#bd3786"
            ],
            [
             0.5555555555555556,
             "#d8576b"
            ],
            [
             0.6666666666666666,
             "#ed7953"
            ],
            [
             0.7777777777777778,
             "#fb9f3a"
            ],
            [
             0.8888888888888888,
             "#fdca26"
            ],
            [
             1,
             "#f0f921"
            ]
           ]
          },
          "colorway": [
           "#636efa",
           "#EF553B",
           "#00cc96",
           "#ab63fa",
           "#FFA15A",
           "#19d3f3",
           "#FF6692",
           "#B6E880",
           "#FF97FF",
           "#FECB52"
          ],
          "font": {
           "color": "#2a3f5f"
          },
          "geo": {
           "bgcolor": "white",
           "lakecolor": "white",
           "landcolor": "#E5ECF6",
           "showlakes": true,
           "showland": true,
           "subunitcolor": "white"
          },
          "hoverlabel": {
           "align": "left"
          },
          "hovermode": "closest",
          "mapbox": {
           "style": "light"
          },
          "paper_bgcolor": "white",
          "plot_bgcolor": "#E5ECF6",
          "polar": {
           "angularaxis": {
            "gridcolor": "white",
            "linecolor": "white",
            "ticks": ""
           },
           "bgcolor": "#E5ECF6",
           "radialaxis": {
            "gridcolor": "white",
            "linecolor": "white",
            "ticks": ""
           }
          },
          "scene": {
           "xaxis": {
            "backgroundcolor": "#E5ECF6",
            "gridcolor": "white",
            "gridwidth": 2,
            "linecolor": "white",
            "showbackground": true,
            "ticks": "",
            "zerolinecolor": "white"
           },
           "yaxis": {
            "backgroundcolor": "#E5ECF6",
            "gridcolor": "white",
            "gridwidth": 2,
            "linecolor": "white",
            "showbackground": true,
            "ticks": "",
            "zerolinecolor": "white"
           },
           "zaxis": {
            "backgroundcolor": "#E5ECF6",
            "gridcolor": "white",
            "gridwidth": 2,
            "linecolor": "white",
            "showbackground": true,
            "ticks": "",
            "zerolinecolor": "white"
           }
          },
          "shapedefaults": {
           "line": {
            "color": "#2a3f5f"
           }
          },
          "ternary": {
           "aaxis": {
            "gridcolor": "white",
            "linecolor": "white",
            "ticks": ""
           },
           "baxis": {
            "gridcolor": "white",
            "linecolor": "white",
            "ticks": ""
           },
           "bgcolor": "#E5ECF6",
           "caxis": {
            "gridcolor": "white",
            "linecolor": "white",
            "ticks": ""
           }
          },
          "title": {
           "x": 0.05
          },
          "xaxis": {
           "automargin": true,
           "gridcolor": "white",
           "linecolor": "white",
           "ticks": "",
           "title": {
            "standoff": 15
           },
           "zerolinecolor": "white",
           "zerolinewidth": 2
          },
          "yaxis": {
           "automargin": true,
           "gridcolor": "white",
           "linecolor": "white",
           "ticks": "",
           "title": {
            "standoff": 15
           },
           "zerolinecolor": "white",
           "zerolinewidth": 2
          }
         }
        },
        "xaxis": {
         "dtick": 1,
         "gridwidth": 2,
         "showticklabels": false,
         "tick0": -0.5,
         "ticks": "",
         "zeroline": false
        },
        "yaxis": {
         "autorange": "reversed",
         "dtick": 1,
         "gridwidth": 2,
         "showticklabels": false,
         "tick0": 0.5,
         "ticks": "",
         "zeroline": false
        }
       }
      },
      "text/html": [
       "<div>\n",
       "        \n",
       "        \n",
       "            <div id=\"f1320021-7477-4e2d-b5f2-2d34998fc477\" class=\"plotly-graph-div\" style=\"height:110px; width:100%;\"></div>\n",
       "            <script type=\"text/javascript\">\n",
       "                require([\"plotly\"], function(Plotly) {\n",
       "                    window.PLOTLYENV=window.PLOTLYENV || {};\n",
       "                    \n",
       "                if (document.getElementById(\"f1320021-7477-4e2d-b5f2-2d34998fc477\")) {\n",
       "                    Plotly.newPlot(\n",
       "                        'f1320021-7477-4e2d-b5f2-2d34998fc477',\n",
       "                        [{\"colorscale\": [[0, \"#00083e\"], [0.5, \"#ededee\"], [1, \"#ffffff\"]], \"hoverinfo\": \"none\", \"opacity\": 0.75, \"showscale\": false, \"type\": \"heatmap\", \"z\": [[0, 0, 0], [0, 0.5, 0.5]]}],\n",
       "                        {\"annotations\": [{\"align\": \"left\", \"font\": {\"color\": \"#ffffff\"}, \"showarrow\": false, \"text\": \"<b></b>\", \"x\": -0.45, \"xanchor\": \"left\", \"xref\": \"x\", \"y\": 0, \"yref\": \"y\"}, {\"align\": \"left\", \"font\": {\"color\": \"#ffffff\"}, \"showarrow\": false, \"text\": \"<b>Test Statistic</b>\", \"x\": 0.55, \"xanchor\": \"left\", \"xref\": \"x\", \"y\": 0, \"yref\": \"y\"}, {\"align\": \"left\", \"font\": {\"color\": \"#ffffff\"}, \"showarrow\": false, \"text\": \"<b>p-value</b>\", \"x\": 1.55, \"xanchor\": \"left\", \"xref\": \"x\", \"y\": 0, \"yref\": \"y\"}, {\"align\": \"left\", \"font\": {\"color\": \"#ffffff\"}, \"showarrow\": false, \"text\": \"<b>Sample Data</b>\", \"x\": -0.45, \"xanchor\": \"left\", \"xref\": \"x\", \"y\": 1, \"yref\": \"y\"}, {\"align\": \"left\", \"font\": {\"color\": \"#000000\"}, \"showarrow\": false, \"text\": \"-2.121469451491724\", \"x\": 0.55, \"xanchor\": \"left\", \"xref\": \"x\", \"y\": 1, \"yref\": \"y\"}, {\"align\": \"left\", \"font\": {\"color\": \"#000000\"}, \"showarrow\": false, \"text\": \"0.019625788757468187\", \"x\": 1.55, \"xanchor\": \"left\", \"xref\": \"x\", \"y\": 1, \"yref\": \"y\"}], \"height\": 110, \"margin\": {\"b\": 0, \"l\": 0, \"r\": 0, \"t\": 0}, \"template\": {\"data\": {\"bar\": [{\"error_x\": {\"color\": \"#2a3f5f\"}, \"error_y\": {\"color\": \"#2a3f5f\"}, \"marker\": {\"line\": {\"color\": \"#E5ECF6\", \"width\": 0.5}}, \"type\": \"bar\"}], \"barpolar\": [{\"marker\": {\"line\": {\"color\": \"#E5ECF6\", \"width\": 0.5}}, \"type\": \"barpolar\"}], \"carpet\": [{\"aaxis\": {\"endlinecolor\": \"#2a3f5f\", \"gridcolor\": \"white\", \"linecolor\": \"white\", \"minorgridcolor\": \"white\", \"startlinecolor\": \"#2a3f5f\"}, \"baxis\": {\"endlinecolor\": \"#2a3f5f\", \"gridcolor\": \"white\", \"linecolor\": \"white\", \"minorgridcolor\": \"white\", \"startlinecolor\": \"#2a3f5f\"}, \"type\": \"carpet\"}], \"choropleth\": [{\"colorbar\": {\"outlinewidth\": 0, \"ticks\": \"\"}, \"type\": \"choropleth\"}], \"contour\": [{\"colorbar\": {\"outlinewidth\": 0, \"ticks\": \"\"}, \"colorscale\": [[0.0, \"#0d0887\"], [0.1111111111111111, \"#46039f\"], [0.2222222222222222, \"#7201a8\"], [0.3333333333333333, \"#9c179e\"], [0.4444444444444444, \"#bd3786\"], [0.5555555555555556, \"#d8576b\"], [0.6666666666666666, \"#ed7953\"], [0.7777777777777778, \"#fb9f3a\"], [0.8888888888888888, \"#fdca26\"], [1.0, \"#f0f921\"]], \"type\": \"contour\"}], \"contourcarpet\": [{\"colorbar\": {\"outlinewidth\": 0, \"ticks\": \"\"}, \"type\": \"contourcarpet\"}], \"heatmap\": [{\"colorbar\": {\"outlinewidth\": 0, \"ticks\": \"\"}, \"colorscale\": [[0.0, \"#0d0887\"], [0.1111111111111111, \"#46039f\"], [0.2222222222222222, \"#7201a8\"], [0.3333333333333333, \"#9c179e\"], [0.4444444444444444, \"#bd3786\"], [0.5555555555555556, \"#d8576b\"], [0.6666666666666666, \"#ed7953\"], [0.7777777777777778, \"#fb9f3a\"], [0.8888888888888888, \"#fdca26\"], [1.0, \"#f0f921\"]], \"type\": \"heatmap\"}], \"heatmapgl\": [{\"colorbar\": {\"outlinewidth\": 0, \"ticks\": \"\"}, \"colorscale\": [[0.0, \"#0d0887\"], [0.1111111111111111, \"#46039f\"], [0.2222222222222222, \"#7201a8\"], [0.3333333333333333, \"#9c179e\"], [0.4444444444444444, \"#bd3786\"], [0.5555555555555556, \"#d8576b\"], [0.6666666666666666, \"#ed7953\"], [0.7777777777777778, \"#fb9f3a\"], [0.8888888888888888, \"#fdca26\"], [1.0, \"#f0f921\"]], \"type\": \"heatmapgl\"}], \"histogram\": [{\"marker\": {\"colorbar\": {\"outlinewidth\": 0, \"ticks\": \"\"}}, \"type\": \"histogram\"}], \"histogram2d\": [{\"colorbar\": {\"outlinewidth\": 0, \"ticks\": \"\"}, \"colorscale\": [[0.0, \"#0d0887\"], [0.1111111111111111, \"#46039f\"], [0.2222222222222222, \"#7201a8\"], [0.3333333333333333, \"#9c179e\"], [0.4444444444444444, \"#bd3786\"], [0.5555555555555556, \"#d8576b\"], [0.6666666666666666, \"#ed7953\"], [0.7777777777777778, \"#fb9f3a\"], [0.8888888888888888, \"#fdca26\"], [1.0, \"#f0f921\"]], \"type\": \"histogram2d\"}], \"histogram2dcontour\": [{\"colorbar\": {\"outlinewidth\": 0, \"ticks\": \"\"}, \"colorscale\": [[0.0, \"#0d0887\"], [0.1111111111111111, \"#46039f\"], [0.2222222222222222, \"#7201a8\"], [0.3333333333333333, \"#9c179e\"], [0.4444444444444444, \"#bd3786\"], [0.5555555555555556, \"#d8576b\"], [0.6666666666666666, \"#ed7953\"], [0.7777777777777778, \"#fb9f3a\"], [0.8888888888888888, \"#fdca26\"], [1.0, \"#f0f921\"]], \"type\": \"histogram2dcontour\"}], \"mesh3d\": [{\"colorbar\": {\"outlinewidth\": 0, \"ticks\": \"\"}, \"type\": \"mesh3d\"}], \"parcoords\": [{\"line\": {\"colorbar\": {\"outlinewidth\": 0, \"ticks\": \"\"}}, \"type\": \"parcoords\"}], \"pie\": [{\"automargin\": true, \"type\": \"pie\"}], \"scatter\": [{\"marker\": {\"colorbar\": {\"outlinewidth\": 0, \"ticks\": \"\"}}, \"type\": \"scatter\"}], \"scatter3d\": [{\"line\": {\"colorbar\": {\"outlinewidth\": 0, \"ticks\": \"\"}}, \"marker\": {\"colorbar\": {\"outlinewidth\": 0, \"ticks\": \"\"}}, \"type\": \"scatter3d\"}], \"scattercarpet\": [{\"marker\": {\"colorbar\": {\"outlinewidth\": 0, \"ticks\": \"\"}}, \"type\": \"scattercarpet\"}], \"scattergeo\": [{\"marker\": {\"colorbar\": {\"outlinewidth\": 0, \"ticks\": \"\"}}, \"type\": \"scattergeo\"}], \"scattergl\": [{\"marker\": {\"colorbar\": {\"outlinewidth\": 0, \"ticks\": \"\"}}, \"type\": \"scattergl\"}], \"scattermapbox\": [{\"marker\": {\"colorbar\": {\"outlinewidth\": 0, \"ticks\": \"\"}}, \"type\": \"scattermapbox\"}], \"scatterpolar\": [{\"marker\": {\"colorbar\": {\"outlinewidth\": 0, \"ticks\": \"\"}}, \"type\": \"scatterpolar\"}], \"scatterpolargl\": [{\"marker\": {\"colorbar\": {\"outlinewidth\": 0, \"ticks\": \"\"}}, \"type\": \"scatterpolargl\"}], \"scatterternary\": [{\"marker\": {\"colorbar\": {\"outlinewidth\": 0, \"ticks\": \"\"}}, \"type\": \"scatterternary\"}], \"surface\": [{\"colorbar\": {\"outlinewidth\": 0, \"ticks\": \"\"}, \"colorscale\": [[0.0, \"#0d0887\"], [0.1111111111111111, \"#46039f\"], [0.2222222222222222, \"#7201a8\"], [0.3333333333333333, \"#9c179e\"], [0.4444444444444444, \"#bd3786\"], [0.5555555555555556, \"#d8576b\"], [0.6666666666666666, \"#ed7953\"], [0.7777777777777778, \"#fb9f3a\"], [0.8888888888888888, \"#fdca26\"], [1.0, \"#f0f921\"]], \"type\": \"surface\"}], \"table\": [{\"cells\": {\"fill\": {\"color\": \"#EBF0F8\"}, \"line\": {\"color\": \"white\"}}, \"header\": {\"fill\": {\"color\": \"#C8D4E3\"}, \"line\": {\"color\": \"white\"}}, \"type\": \"table\"}]}, \"layout\": {\"annotationdefaults\": {\"arrowcolor\": \"#2a3f5f\", \"arrowhead\": 0, \"arrowwidth\": 1}, \"coloraxis\": {\"colorbar\": {\"outlinewidth\": 0, \"ticks\": \"\"}}, \"colorscale\": {\"diverging\": [[0, \"#8e0152\"], [0.1, \"#c51b7d\"], [0.2, \"#de77ae\"], [0.3, \"#f1b6da\"], [0.4, \"#fde0ef\"], [0.5, \"#f7f7f7\"], [0.6, \"#e6f5d0\"], [0.7, \"#b8e186\"], [0.8, \"#7fbc41\"], [0.9, \"#4d9221\"], [1, \"#276419\"]], \"sequential\": [[0.0, \"#0d0887\"], [0.1111111111111111, \"#46039f\"], [0.2222222222222222, \"#7201a8\"], [0.3333333333333333, \"#9c179e\"], [0.4444444444444444, \"#bd3786\"], [0.5555555555555556, \"#d8576b\"], [0.6666666666666666, \"#ed7953\"], [0.7777777777777778, \"#fb9f3a\"], [0.8888888888888888, \"#fdca26\"], [1.0, \"#f0f921\"]], \"sequentialminus\": [[0.0, \"#0d0887\"], [0.1111111111111111, \"#46039f\"], [0.2222222222222222, \"#7201a8\"], [0.3333333333333333, \"#9c179e\"], [0.4444444444444444, \"#bd3786\"], [0.5555555555555556, \"#d8576b\"], [0.6666666666666666, \"#ed7953\"], [0.7777777777777778, \"#fb9f3a\"], [0.8888888888888888, \"#fdca26\"], [1.0, \"#f0f921\"]]}, \"colorway\": [\"#636efa\", \"#EF553B\", \"#00cc96\", \"#ab63fa\", \"#FFA15A\", \"#19d3f3\", \"#FF6692\", \"#B6E880\", \"#FF97FF\", \"#FECB52\"], \"font\": {\"color\": \"#2a3f5f\"}, \"geo\": {\"bgcolor\": \"white\", \"lakecolor\": \"white\", \"landcolor\": \"#E5ECF6\", \"showlakes\": true, \"showland\": true, \"subunitcolor\": \"white\"}, \"hoverlabel\": {\"align\": \"left\"}, \"hovermode\": \"closest\", \"mapbox\": {\"style\": \"light\"}, \"paper_bgcolor\": \"white\", \"plot_bgcolor\": \"#E5ECF6\", \"polar\": {\"angularaxis\": {\"gridcolor\": \"white\", \"linecolor\": \"white\", \"ticks\": \"\"}, \"bgcolor\": \"#E5ECF6\", \"radialaxis\": {\"gridcolor\": \"white\", \"linecolor\": \"white\", \"ticks\": \"\"}}, \"scene\": {\"xaxis\": {\"backgroundcolor\": \"#E5ECF6\", \"gridcolor\": \"white\", \"gridwidth\": 2, \"linecolor\": \"white\", \"showbackground\": true, \"ticks\": \"\", \"zerolinecolor\": \"white\"}, \"yaxis\": {\"backgroundcolor\": \"#E5ECF6\", \"gridcolor\": \"white\", \"gridwidth\": 2, \"linecolor\": \"white\", \"showbackground\": true, \"ticks\": \"\", \"zerolinecolor\": \"white\"}, \"zaxis\": {\"backgroundcolor\": \"#E5ECF6\", \"gridcolor\": \"white\", \"gridwidth\": 2, \"linecolor\": \"white\", \"showbackground\": true, \"ticks\": \"\", \"zerolinecolor\": \"white\"}}, \"shapedefaults\": {\"line\": {\"color\": \"#2a3f5f\"}}, \"ternary\": {\"aaxis\": {\"gridcolor\": \"white\", \"linecolor\": \"white\", \"ticks\": \"\"}, \"baxis\": {\"gridcolor\": \"white\", \"linecolor\": \"white\", \"ticks\": \"\"}, \"bgcolor\": \"#E5ECF6\", \"caxis\": {\"gridcolor\": \"white\", \"linecolor\": \"white\", \"ticks\": \"\"}}, \"title\": {\"x\": 0.05}, \"xaxis\": {\"automargin\": true, \"gridcolor\": \"white\", \"linecolor\": \"white\", \"ticks\": \"\", \"title\": {\"standoff\": 15}, \"zerolinecolor\": \"white\", \"zerolinewidth\": 2}, \"yaxis\": {\"automargin\": true, \"gridcolor\": \"white\", \"linecolor\": \"white\", \"ticks\": \"\", \"title\": {\"standoff\": 15}, \"zerolinecolor\": \"white\", \"zerolinewidth\": 2}}}, \"xaxis\": {\"dtick\": 1, \"gridwidth\": 2, \"showticklabels\": false, \"tick0\": -0.5, \"ticks\": \"\", \"zeroline\": false}, \"yaxis\": {\"autorange\": \"reversed\", \"dtick\": 1, \"gridwidth\": 2, \"showticklabels\": false, \"tick0\": 0.5, \"ticks\": \"\", \"zeroline\": false}},\n",
       "                        {\"responsive\": true}\n",
       "                    ).then(function(){\n",
       "                            \n",
       "var gd = document.getElementById('f1320021-7477-4e2d-b5f2-2d34998fc477');\n",
       "var x = new MutationObserver(function (mutations, observer) {{\n",
       "        var display = window.getComputedStyle(gd).display;\n",
       "        if (!display || display === 'none') {{\n",
       "            console.log([gd, 'removed!']);\n",
       "            Plotly.purge(gd);\n",
       "            observer.disconnect();\n",
       "        }}\n",
       "}});\n",
       "\n",
       "// Listen for the removal of the full notebook cells\n",
       "var notebookContainer = gd.closest('#notebook-container');\n",
       "if (notebookContainer) {{\n",
       "    x.observe(notebookContainer, {childList: true});\n",
       "}}\n",
       "\n",
       "// Listen for the clearing of the current output cell\n",
       "var outputEl = gd.closest('.output');\n",
       "if (outputEl) {{\n",
       "    x.observe(outputEl, {childList: true});\n",
       "}}\n",
       "\n",
       "                        })\n",
       "                };\n",
       "                });\n",
       "            </script>\n",
       "        </div>"
      ]
     },
     "metadata": {},
     "output_type": "display_data"
    }
   ],
   "source": [
    "from plotly.figure_factory import create_table\n",
    "matrix_twosample = [\n",
    "    ['', 'Test Statistic', 'p-value'],\n",
    "    ['Sample Data', twoSampleTest[0], twoSampleTest[1]/2]\n",
    "]\n",
    "\n",
    "test_table = create_table(matrix_twosample, index=True)\n",
    "test_table.show()"
   ]
  }
 ],
 "metadata": {
  "kernelspec": {
   "display_name": "Python 3",
   "language": "python",
   "name": "python3"
  },
  "language_info": {
   "codemirror_mode": {
    "name": "ipython",
    "version": 3
   },
   "file_extension": ".py",
   "mimetype": "text/x-python",
   "name": "python",
   "nbconvert_exporter": "python",
   "pygments_lexer": "ipython3",
   "version": "3.8.3"
  }
 },
 "nbformat": 4,
 "nbformat_minor": 4
}
