{
 "cells": [
  {
   "cell_type": "markdown",
   "metadata": {},
   "source": [
    "# LinkedIn Scraper\n",
    "\n",
    "Author: Andrea Mock\n",
    "\n",
    "In the following notebook we will scrape data from the LinkedIn profiles of Wellesley alums to investigate their professional career paths.\n",
    "\n",
    "Our notebook has the following structure:\n",
    "1. Login and navigate to page\n",
    "2. Gather linkedIn URLS\n",
    "3. scraping individual pages"
   ]
  },
  {
   "cell_type": "markdown",
   "metadata": {},
   "source": [
    "## Part 1 - Login and navigating to correct page\n",
    "To start our scraping process we first need to open the LinkedIn website and login. Once logged in, we can navigate to the Wellesley page where we can access the profiles of all of the alums. "
   ]
  },
  {
   "cell_type": "code",
   "execution_count": 5,
   "metadata": {
    "collapsed": true
   },
   "outputs": [],
   "source": [
    "#import chrome webdriver\n",
    "from selenium import webdriver\n",
    "import time"
   ]
  },
  {
   "cell_type": "code",
   "execution_count": 170,
   "metadata": {
    "collapsed": true
   },
   "outputs": [],
   "source": [
    "browser = webdriver.Chrome()"
   ]
  },
  {
   "cell_type": "code",
   "execution_count": 171,
   "metadata": {
    "collapsed": true
   },
   "outputs": [],
   "source": [
    "def login(username,password, browser):\n",
    "\n",
    "    #Open login page\n",
    "    browser.get('https://www.linkedin.com/login?fromSignIn=true&trk=guest_homepage-basic_nav-header-signin')\n",
    "\n",
    "    #Enter login info:\n",
    "    elementID = browser.find_element_by_id('username')\n",
    "    elementID.send_keys(username)\n",
    "\n",
    "    elementID = browser.find_element_by_id('password')\n",
    "    elementID.send_keys(password) \n",
    "\n",
    "\n",
    "    elementID.submit()\n",
    "    # login in "
   ]
  },
  {
   "cell_type": "code",
   "execution_count": 172,
   "metadata": {
    "collapsed": true
   },
   "outputs": [],
   "source": [
    "login(\"andrea@mock-matienzo.org\",'dUscov-wypqiv-tyrga9', browser)"
   ]
  },
  {
   "cell_type": "code",
   "execution_count": 38,
   "metadata": {
    "collapsed": true
   },
   "outputs": [],
   "source": [
    "# navigate to wellesley's linkedin page for CS alums\n",
    "browser.get(\"https://www.linkedin.com/school/wellesley-college/people/?facetFieldOfStudy=100189\")"
   ]
  },
  {
   "cell_type": "code",
   "execution_count": 173,
   "metadata": {},
   "outputs": [],
   "source": [
    "# navigate to wellesley's linkedin page for Econ alums\n",
    "browser.get(\"https://www.linkedin.com/school/wellesley-college/people/?facetFieldOfStudy=100990\")"
   ]
  },
  {
   "cell_type": "markdown",
   "metadata": {},
   "source": [
    "Like many popular social media sites, LinkedIn allows for infinite scrolling. This means that you have to continuously scroll down to access all of the profiles. Thus we scroll down to the very bottom to gather all profiles."
   ]
  },
  {
   "cell_type": "code",
   "execution_count": 162,
   "metadata": {},
   "outputs": [],
   "source": [
    "def scroller(browser):\n",
    "    SCROLL_PAUSE_TIME = 1\n",
    "\n",
    "    # Get scroll height\n",
    "    last_height = browser.execute_script(\"return document.body.scrollHeight\")\n",
    "\n",
    "    while True:\n",
    "        # Scroll down to bottom\n",
    "        browser.execute_script(\"window.scrollTo(0, document.body.scrollHeight);\")\n",
    "\n",
    "        # Wait to load page\n",
    "        time.sleep(SCROLL_PAUSE_TIME)\n",
    "\n",
    "        # Calculate new scroll height and compare with last scroll height\n",
    "        new_height = browser.execute_script(\"return document.body.scrollHeight\")\n",
    "        if new_height == last_height:\n",
    "            break\n",
    "        last_height = new_height"
   ]
  },
  {
   "cell_type": "code",
   "execution_count": 174,
   "metadata": {},
   "outputs": [],
   "source": [
    "scroller(browser)"
   ]
  },
  {
   "cell_type": "markdown",
   "metadata": {},
   "source": [
    "## Part 2 - Gather alum urls\n",
    "After having scrolled down we can acces the links of each alum that is contained in the small profile shown for each individual. Using the inspector in the browser we found the class name ofthe items we were looking for and using that we can then access and save all of the urls in a list."
   ]
  },
  {
   "cell_type": "code",
   "execution_count": 164,
   "metadata": {
    "collapsed": true
   },
   "outputs": [],
   "source": [
    "def gatherUrls(browser):\n",
    "    list_of_hrefs = []\n",
    "\n",
    "    content_blocks = browser.find_elements_by_class_name(\"artdeco-entity-lockup__title\")\n",
    "\n",
    "    for block in content_blocks:\n",
    "        elements = block.find_elements_by_tag_name(\"a\")\n",
    "        for el in elements:\n",
    "            list_of_hrefs.append(el.get_attribute(\"href\"))\n",
    "    return list_of_hrefs"
   ]
  },
  {
   "cell_type": "code",
   "execution_count": 181,
   "metadata": {},
   "outputs": [],
   "source": [
    "def saveUrlsToFile(fileName):\n",
    "    with open(fileName,'w') as outfile:\n",
    "    #outfile.writelines(list_of_hrefs) \n",
    "        outfile.write('\\n'.join(econUrls))"
   ]
  },
  {
   "cell_type": "code",
   "execution_count": 1,
   "metadata": {},
   "outputs": [],
   "source": [
    "# save. the urls for alums who were econ majors\n",
    "econUrls = gatherUrls(browser)\n",
    "#econUrls[:10]"
   ]
  },
  {
   "cell_type": "code",
   "execution_count": 176,
   "metadata": {},
   "outputs": [],
   "source": [
    "list_of_hrefs = gatherUrls(browser)"
   ]
  },
  {
   "cell_type": "code",
   "execution_count": 12,
   "metadata": {},
   "outputs": [
    {
     "data": {
      "text/plain": [
       "773"
      ]
     },
     "execution_count": 12,
     "metadata": {},
     "output_type": "execute_result"
    }
   ],
   "source": [
    "# total of 773 CS alum profiles\n",
    "len(list_of_hrefs)"
   ]
  },
  {
   "cell_type": "code",
   "execution_count": 2,
   "metadata": {},
   "outputs": [],
   "source": [
    "# some of linkedin urls for cs majors\n",
    "#list_of_hrefs[:10]"
   ]
  },
  {
   "cell_type": "code",
   "execution_count": 183,
   "metadata": {},
   "outputs": [],
   "source": [
    "def gatherNames(browser):\n",
    "    # gathering all alum names \n",
    "    alum_names = browser.find_elements_by_xpath('//a[@class=\"ember-view link-without-visited-state\"]')\n",
    "    return [alum_names[a].text for a in range(len(alum_names)) ]"
   ]
  },
  {
   "cell_type": "markdown",
   "metadata": {},
   "source": [
    "## Part 3 - Gathering invidual page data\n",
    "After having obtained all of the urls we can use the library scrape_linkedin that allows us to scrape the information from a persons linkedIn page. The exact documentation on scrape_linkedin can be found on Github at https://github.com/austinoboyle/scrape-linkedin-selenium "
   ]
  },
  {
   "cell_type": "code",
   "execution_count": 19,
   "metadata": {
    "collapsed": true
   },
   "outputs": [],
   "source": [
    "from scrape_linkedin import ProfileScraper"
   ]
  },
  {
   "cell_type": "code",
   "execution_count": 99,
   "metadata": {
    "collapsed": true
   },
   "outputs": [],
   "source": [
    "def createProfileDict(profileLink):\n",
    "    \"\"\"\n",
    "    given a link to a LinkedIn page we use the profileScraper to scrape the profile and save it to a dictionary\n",
    "    \"\"\"\n",
    "    with ProfileScraper(cookie='your_cookie_here') as scraper:\n",
    "        profile = scraper.scrape(url=profileLink)\n",
    "        profileDict = profile.to_dict()\n",
    "    return profileDict"
   ]
  },
  {
   "cell_type": "code",
   "execution_count": 3,
   "metadata": {},
   "outputs": [],
   "source": [
    "# showing how our profile scraping works\n",
    "profile_example = createProfileDict(\"example profile link here\")\n",
    "#profile_example"
   ]
  },
  {
   "cell_type": "code",
   "execution_count": 27,
   "metadata": {},
   "outputs": [],
   "source": [
    "def profileList(url_list):\n",
    "    \"\"\"\n",
    "    for all of the urls we collected we gather their profile information as a dictionary and \n",
    "    store the information in a list\n",
    "    \"\"\"\n",
    "    return [createProfileDict(url) for url in url_list ]"
   ]
  },
  {
   "cell_type": "markdown",
   "metadata": {},
   "source": [
    "In the following we gather the data in chunks to avoid detection by Linkedin or for the browser to stop responding."
   ]
  },
  {
   "cell_type": "code",
   "execution_count": null,
   "metadata": {},
   "outputs": [],
   "source": [
    "allProfiles = profileList(list_of_hrefs)"
   ]
  },
  {
   "cell_type": "code",
   "execution_count": 53,
   "metadata": {},
   "outputs": [
    {
     "name": "stdout",
     "output_type": "stream",
     "text": [
      "Unable to determine current company...continuing\n",
      "Unable to determine current company...continuing\n",
      "Unable to determine current company...continuing\n",
      "Unable to determine current company...continuing\n",
      "Unable to determine current company...continuing\n",
      "Unable to determine current company...continuing\n",
      "Unable to determine current company...continuing\n",
      "Unable to determine current company...continuing\n",
      "Unable to determine current company...continuing\n",
      "Unable to determine current company...continuing\n",
      "Unable to determine current company...continuing\n",
      "Unable to determine current company...continuing\n",
      "Unable to determine current company...continuing\n",
      "Unable to determine current company...continuing\n",
      "Unable to determine current company...continuing\n",
      "Unable to determine current company...continuing\n",
      "Unable to determine current company...continuing\n",
      "Unable to determine current company...continuing\n",
      "Unable to determine current company...continuing\n",
      "Unable to determine current company...continuing\n",
      "Unable to determine current company...continuing\n"
     ]
    }
   ],
   "source": [
    "allProfiles_100 = profileList(list_of_hrefs[:99])"
   ]
  },
  {
   "cell_type": "code",
   "execution_count": 57,
   "metadata": {},
   "outputs": [
    {
     "name": "stdout",
     "output_type": "stream",
     "text": [
      "Unable to determine current company...continuing\n",
      "Unable to determine current company...continuing\n",
      "Unable to determine current company...continuing\n",
      "Unable to determine current company...continuing\n",
      "Unable to determine current company...continuing\n",
      "Unable to determine current company...continuing\n",
      "Unable to determine current company...continuing\n",
      "Unable to determine current company...continuing\n",
      "Unable to determine current company...continuing\n",
      "Unable to determine current company...continuing\n",
      "Unable to determine current company...continuing\n",
      "Unable to determine current company...continuing\n",
      "Unable to determine current company...continuing\n"
     ]
    }
   ],
   "source": [
    "allProfiles_150 = profileList(list_of_hrefs[100:150])"
   ]
  },
  {
   "cell_type": "code",
   "execution_count": 59,
   "metadata": {},
   "outputs": [
    {
     "name": "stdout",
     "output_type": "stream",
     "text": [
      "Unable to determine current company...continuing\n",
      "Unable to determine current company...continuing\n",
      "Unable to determine current company...continuing\n",
      "Unable to determine current company...continuing\n",
      "Unable to determine current company...continuing\n",
      "Unable to determine current company...continuing\n",
      "Unable to determine current company...continuing\n",
      "Unable to determine current company...continuing\n",
      "Unable to determine current company...continuing\n",
      "Unable to determine current company...continuing\n"
     ]
    }
   ],
   "source": [
    "allProfiles_200 = profileList(list_of_hrefs[151:200])"
   ]
  },
  {
   "cell_type": "code",
   "execution_count": 64,
   "metadata": {},
   "outputs": [
    {
     "name": "stdout",
     "output_type": "stream",
     "text": [
      "Unable to determine current company...continuing\n",
      "Unable to determine current company...continuing\n",
      "Unable to determine current company...continuing\n",
      "Unable to determine current company...continuing\n",
      "Unable to determine current company...continuing\n",
      "Unable to determine current company...continuing\n",
      "Unable to determine current company...continuing\n",
      "Unable to determine current company...continuing\n",
      "Unable to determine current company...continuing\n"
     ]
    }
   ],
   "source": [
    "allProfiles_250 = profileList(list_of_hrefs[201:250])"
   ]
  },
  {
   "cell_type": "code",
   "execution_count": 65,
   "metadata": {},
   "outputs": [
    {
     "name": "stdout",
     "output_type": "stream",
     "text": [
      "Unable to determine current company...continuing\n",
      "Unable to determine current company...continuing\n",
      "Unable to determine current company...continuing\n",
      "Unable to determine current company...continuing\n",
      "Unable to determine current company...continuing\n",
      "Unable to determine current company...continuing\n",
      "Unable to determine current company...continuing\n",
      "Unable to determine current company...continuing\n",
      "Unable to determine current company...continuing\n"
     ]
    }
   ],
   "source": [
    "allProfiles_300 = profileList(list_of_hrefs[251:300])"
   ]
  },
  {
   "cell_type": "code",
   "execution_count": 68,
   "metadata": {},
   "outputs": [
    {
     "name": "stdout",
     "output_type": "stream",
     "text": [
      "Unable to determine current company...continuing\n",
      "Unable to determine current company...continuing\n",
      "Unable to determine current company...continuing\n",
      "Unable to determine current company...continuing\n"
     ]
    }
   ],
   "source": [
    "allProfiles_350 = profileList(list_of_hrefs[301:350])"
   ]
  },
  {
   "cell_type": "code",
   "execution_count": 69,
   "metadata": {},
   "outputs": [
    {
     "name": "stdout",
     "output_type": "stream",
     "text": [
      "Unable to determine current company...continuing\n",
      "Unable to determine current company...continuing\n",
      "Unable to determine current company...continuing\n",
      "Unable to determine current company...continuing\n",
      "Unable to determine current company...continuing\n",
      "Unable to determine current company...continuing\n",
      "Unable to determine current company...continuing\n",
      "Unable to determine current company...continuing\n",
      "Message: element click intercepted: Element <a data-control-name=\"contact_see_more\" href=\"/in/anna-m-pfoertsch/detail/contact-info/\" id=\"ember96\" class=\"ember-view\">...</a> is not clickable at point (786, 161). Other element would receive the click: <section id=\"ember160\" class=\"pv-highlights-section pv-profile-section artdeco-container-card artdeco-card ember-view\">...</section>\n",
      "  (Session info: chrome=86.0.4240.198)\n",
      "\n",
      "Unable to determine current company...continuing\n",
      "Unable to determine current company...continuing\n",
      "Unable to determine current company...continuing\n",
      "Unable to determine current company...continuing\n",
      "Unable to determine current company...continuing\n"
     ]
    }
   ],
   "source": [
    "allProfiles_400 = profileList(list_of_hrefs[351:400])"
   ]
  },
  {
   "cell_type": "code",
   "execution_count": null,
   "metadata": {},
   "outputs": [],
   "source": []
  },
  {
   "cell_type": "code",
   "execution_count": 100,
   "metadata": {},
   "outputs": [],
   "source": [
    "allProfiles_450_1 = profileList(list_of_hrefs[411:415])"
   ]
  },
  {
   "cell_type": "code",
   "execution_count": 101,
   "metadata": {},
   "outputs": [
    {
     "name": "stdout",
     "output_type": "stream",
     "text": [
      "Unable to determine current company...continuing\n"
     ]
    }
   ],
   "source": [
    "allProfiles_450_2 = profileList(list_of_hrefs[416:450])"
   ]
  },
  {
   "cell_type": "code",
   "execution_count": 104,
   "metadata": {},
   "outputs": [
    {
     "name": "stdout",
     "output_type": "stream",
     "text": [
      "Unable to determine current company...continuing\n",
      "Unable to determine current company...continuing\n"
     ]
    }
   ],
   "source": [
    "allProfiles_500 = profileList(list_of_hrefs[451:500])"
   ]
  },
  {
   "cell_type": "code",
   "execution_count": 105,
   "metadata": {},
   "outputs": [
    {
     "name": "stdout",
     "output_type": "stream",
     "text": [
      "Unable to determine current company...continuing\n",
      "Unable to determine current company...continuing\n",
      "Unable to determine current company...continuing\n",
      "Unable to determine current company...continuing\n",
      "Unable to determine current company...continuing\n",
      "Unable to determine current company...continuing\n",
      "Unable to determine current company...continuing\n",
      "Unable to determine current company...continuing\n",
      "Unable to determine current company...continuing\n",
      "Unable to determine current company...continuing\n",
      "Unable to determine current company...continuing\n",
      "Unable to determine current company...continuing\n",
      "Unable to determine current company...continuing\n"
     ]
    }
   ],
   "source": [
    "allProfiles_550 = profileList(list_of_hrefs[501:550])"
   ]
  },
  {
   "cell_type": "code",
   "execution_count": null,
   "metadata": {},
   "outputs": [],
   "source": []
  },
  {
   "cell_type": "code",
   "execution_count": 112,
   "metadata": {},
   "outputs": [],
   "source": [
    "allProfiles_600_1 = profileList(list_of_hrefs[551:560])"
   ]
  },
  {
   "cell_type": "code",
   "execution_count": 126,
   "metadata": {},
   "outputs": [
    {
     "name": "stdout",
     "output_type": "stream",
     "text": [
      "Unable to determine current company...continuing\n",
      "Unable to determine current company...continuing\n"
     ]
    }
   ],
   "source": [
    "allProfiles_600_2 = profileList(list_of_hrefs[561:580])"
   ]
  },
  {
   "cell_type": "code",
   "execution_count": 127,
   "metadata": {},
   "outputs": [
    {
     "name": "stdout",
     "output_type": "stream",
     "text": [
      "Unable to determine current company...continuing\n"
     ]
    }
   ],
   "source": [
    "allProfiles_600_3 = profileList(list_of_hrefs[581:600])"
   ]
  },
  {
   "cell_type": "code",
   "execution_count": 131,
   "metadata": {},
   "outputs": [
    {
     "name": "stdout",
     "output_type": "stream",
     "text": [
      "Message: \n",
      "\n",
      "Unable to determine current company...continuing\n",
      "Unable to determine current company...continuing\n"
     ]
    }
   ],
   "source": [
    "allProfiles_650_1 = profileList(list_of_hrefs[601:625])"
   ]
  },
  {
   "cell_type": "code",
   "execution_count": 132,
   "metadata": {
    "scrolled": true
   },
   "outputs": [
    {
     "name": "stdout",
     "output_type": "stream",
     "text": [
      "Unable to determine current company...continuing\n"
     ]
    }
   ],
   "source": [
    "allProfiles_650_2 = profileList(list_of_hrefs[626:650])"
   ]
  },
  {
   "cell_type": "code",
   "execution_count": 137,
   "metadata": {},
   "outputs": [
    {
     "name": "stdout",
     "output_type": "stream",
     "text": [
      "Unable to determine current company...continuing\n",
      "Unable to determine current company...continuing\n",
      "Unable to determine current company...continuing\n",
      "Unable to determine current company...continuing\n"
     ]
    }
   ],
   "source": [
    "allProfiles_700_1 = profileList(list_of_hrefs[651:675])"
   ]
  },
  {
   "cell_type": "code",
   "execution_count": 138,
   "metadata": {},
   "outputs": [
    {
     "name": "stdout",
     "output_type": "stream",
     "text": [
      "Unable to determine current company...continuing\n",
      "Unable to determine current company...continuing\n",
      "Unable to determine current company...continuing\n",
      "Unable to determine current company...continuing\n",
      "Unable to determine current company...continuing\n",
      "Unable to determine current company...continuing\n"
     ]
    }
   ],
   "source": [
    "allProfiles_700 = profileList(list_of_hrefs[676:700])"
   ]
  },
  {
   "cell_type": "code",
   "execution_count": 4,
   "metadata": {},
   "outputs": [],
   "source": [
    "#allProfiles_800"
   ]
  },
  {
   "cell_type": "code",
   "execution_count": 147,
   "metadata": {},
   "outputs": [
    {
     "name": "stdout",
     "output_type": "stream",
     "text": [
      "Unable to determine current company...continuing\n",
      "Unable to determine current company...continuing\n"
     ]
    }
   ],
   "source": [
    "allProfiles_750 = profileList(list_of_hrefs[701:750])"
   ]
  },
  {
   "cell_type": "code",
   "execution_count": null,
   "metadata": {},
   "outputs": [
    {
     "name": "stdout",
     "output_type": "stream",
     "text": [
      "Unable to determine current company...continuing\n",
      "Unable to determine current company...continuing\n",
      "Unable to determine current company...continuing\n"
     ]
    }
   ],
   "source": [
    "allProfiles_800 = profileList(list_of_hrefs[751:])"
   ]
  },
  {
   "cell_type": "code",
   "execution_count": 142,
   "metadata": {
    "collapsed": true
   },
   "outputs": [],
   "source": [
    "merged700 = allProfiles_700 + allProfiles_700_1 + allProfiles_800"
   ]
  },
  {
   "cell_type": "code",
   "execution_count": 184,
   "metadata": {},
   "outputs": [],
   "source": [
    "# save data to a json file\n",
    "def saveDictFile(fileName,data):\n",
    "    with open(fileName, 'w') as outfile:\n",
    "        json.dump(data,outfile)"
   ]
  },
  {
   "cell_type": "code",
   "execution_count": null,
   "metadata": {},
   "outputs": [],
   "source": []
  }
 ],
 "metadata": {
  "kernelspec": {
   "display_name": "Python 3",
   "language": "python",
   "name": "python3"
  },
  "language_info": {
   "codemirror_mode": {
    "name": "ipython",
    "version": 3
   },
   "file_extension": ".py",
   "mimetype": "text/x-python",
   "name": "python",
   "nbconvert_exporter": "python",
   "pygments_lexer": "ipython3",
   "version": "3.7.6"
  }
 },
 "nbformat": 4,
 "nbformat_minor": 4
}
