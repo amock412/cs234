{
 "cells": [
  {
   "cell_type": "markdown",
   "metadata": {},
   "source": [
    "# Data exploration and cleaning \n",
    "\n",
    "Author: Andrea Mock\n",
    "\n",
    "The first step after having collected data from Linkedin is to get familiar with the dataset and clean it to extract futher data. "
   ]
  },
  {
   "cell_type": "code",
   "execution_count": 2,
   "metadata": {},
   "outputs": [],
   "source": [
    "import json\n",
    "import pandas as pd"
   ]
  },
  {
   "cell_type": "markdown",
   "metadata": {},
   "source": [
    "## Part 1: Reading in data and exploring\n",
    "The first step is to read it into a dataframe and extracting information such as location, name, graduation year, and educational information. We also check out some entries to see what information might be useful to examine later on."
   ]
  },
  {
   "cell_type": "code",
   "execution_count": 3,
   "metadata": {},
   "outputs": [],
   "source": [
    "# import json file that contains all of the linkedin profiles\n",
    "with open('mergedData.json') as inFile:\n",
    "    csJson = json.load(inFile)"
   ]
  },
  {
   "cell_type": "code",
   "execution_count": 4,
   "metadata": {},
   "outputs": [
    {
     "data": {
      "text/plain": [
       "753"
      ]
     },
     "execution_count": 4,
     "metadata": {},
     "output_type": "execute_result"
    }
   ],
   "source": [
    "# number of entries\n",
    "len(csJson)"
   ]
  },
  {
   "cell_type": "code",
   "execution_count": 7,
   "metadata": {},
   "outputs": [],
   "source": [
    "#csJson[0] # sample entry - lot's of information!"
   ]
  },
  {
   "cell_type": "code",
   "execution_count": 8,
   "metadata": {},
   "outputs": [],
   "source": [
    "# convert json file to a dataframe\n",
    "df = pd.DataFrame(csJson)\n",
    "#df"
   ]
  },
  {
   "cell_type": "markdown",
   "metadata": {},
   "source": [
    "Since all of the entries are dictionaries we want to get a better sense of what each dictionary contains. \n",
    "We are interested in the company, school, location, headline, summary, job experience, educational information, and skills a person has."
   ]
  },
  {
   "cell_type": "code",
   "execution_count": 9,
   "metadata": {},
   "outputs": [
    {
     "data": {
      "text/plain": [
       "dict_keys(['personal_info', 'experiences', 'skills', 'accomplishments', 'interests', 'recommendations'])"
      ]
     },
     "execution_count": 9,
     "metadata": {},
     "output_type": "execute_result"
    }
   ],
   "source": [
    "csJson[1].keys() # keys in our json dictionary "
   ]
  },
  {
   "cell_type": "code",
   "execution_count": 10,
   "metadata": {},
   "outputs": [
    {
     "data": {
      "text/plain": [
       "{'name': 'Python', 'endorsements': '7'}"
      ]
     },
     "execution_count": 10,
     "metadata": {},
     "output_type": "execute_result"
    }
   ],
   "source": [
    "csJson[1]['skills'][0] # example of a skills entry"
   ]
  },
  {
   "cell_type": "code",
   "execution_count": 11,
   "metadata": {},
   "outputs": [],
   "source": [
    "#csJson[0]['personal_info'] # explore what is in the personal-info section"
   ]
  },
  {
   "cell_type": "code",
   "execution_count": 12,
   "metadata": {},
   "outputs": [
    {
     "data": {
      "text/plain": [
       "{'name': 'Python', 'endorsements': '7'}"
      ]
     },
     "execution_count": 12,
     "metadata": {},
     "output_type": "execute_result"
    }
   ],
   "source": [
    "csJson[1]['skills'][0] # skills "
   ]
  },
  {
   "cell_type": "markdown",
   "metadata": {},
   "source": [
    "As we can see alums have multiple skills therefore we want to extract the skills for each alum as well asa their educational information."
   ]
  },
  {
   "cell_type": "code",
   "execution_count": 13,
   "metadata": {},
   "outputs": [],
   "source": [
    "def getSkills(jsonData):\n",
    "    \"\"\"\n",
    "    extracts the skills for each alum and saves it as a list of a list for the skiulls of all alums\n",
    "    \"\"\"\n",
    "    all_skills = []\n",
    "    for i in range(len(jsonData)):\n",
    "        skill_list = []\n",
    "        for skill in jsonData[i]:\n",
    "            skill_list.append(skill['name'])\n",
    "        all_skills.append(skill_list)\n",
    "    return all_skills"
   ]
  },
  {
   "cell_type": "code",
   "execution_count": 14,
   "metadata": {},
   "outputs": [
    {
     "data": {
      "text/plain": [
       "['Java',\n",
       " 'Python (Programming Language)',\n",
       " 'Customer Service',\n",
       " 'Mandarin',\n",
       " 'Microsoft Office',\n",
       " 'Communication',\n",
       " 'Programming Languages',\n",
       " 'Calculus']"
      ]
     },
     "execution_count": 14,
     "metadata": {},
     "output_type": "execute_result"
    }
   ],
   "source": [
    "getSkills(df['skills'])[0] # sample skills entry for one alum"
   ]
  },
  {
   "cell_type": "code",
   "execution_count": 15,
   "metadata": {},
   "outputs": [],
   "source": [
    "def getEducation(data):\n",
    "    \"\"\"\n",
    "    extracts the educational information from all of the alums data\n",
    "    \"\"\"\n",
    "    \n",
    "    education_all = []\n",
    "    for i in range(len(data)):\n",
    "        education_all.append( data[i]['education'])\n",
    "    return education_all"
   ]
  },
  {
   "cell_type": "code",
   "execution_count": 16,
   "metadata": {},
   "outputs": [
    {
     "data": {
      "text/plain": [
       "[{'name': 'Wellesley College',\n",
       "  'degree': \"Bachelor's degree\",\n",
       "  'grades': None,\n",
       "  'field_of_study': 'Computer Science',\n",
       "  'date_range': '2018 – 2022',\n",
       "  'activities': 'Computer Science Club, Asian Student Union, Wellesley Democrats'},\n",
       " {'name': \"St. Andrew's School\",\n",
       "  'degree': 'High School Diploma',\n",
       "  'grades': 'Magna Cum Laude',\n",
       "  'field_of_study': None,\n",
       "  'date_range': '2014 – 2018',\n",
       "  'activities': 'Co-Head of Student Weekend Activity Group, Founder of Multi-Racial Affinity Group, Writer for Cardinal School Newspaper, Varsity Cross-Country, Varsity Track, Varsity Soccer'}]"
      ]
     },
     "execution_count": 16,
     "metadata": {},
     "output_type": "execute_result"
    }
   ],
   "source": [
    "getEducation(df['experiences'])[0] # output of our getEducation function"
   ]
  },
  {
   "cell_type": "code",
   "execution_count": 17,
   "metadata": {},
   "outputs": [],
   "source": [
    "def createDataFrame(df):\n",
    "    \"\"\"\n",
    "    creates a dataframe that contains relevant information about wellesley alums including\n",
    "    name, headline, summary and location\n",
    "    \"\"\"\n",
    "    \n",
    "    new_df = pd.DataFrame()\n",
    "    new_df['name'] = df['personal_info'].apply(lambda x: x['name'])\n",
    "    new_df['headline'] = df['personal_info'].apply(lambda x: x['headline'])\n",
    "    new_df['summary'] = df['personal_info'].apply(lambda x: x['summary'])\n",
    "    new_df['location'] = df['personal_info'].apply(lambda x: x['location'])\n",
    "    new_df['current_company_link'] = df['personal_info'].apply(lambda x: x['current_company_link'])\n",
    "    new_df['skills'] = getSkills(df['skills'])\n",
    "    new_df['education'] = df['experiences'].apply(lambda x: x['education'])\n",
    "    new_df['jobs'] = df['experiences'].apply(lambda x: x['jobs'])\n",
    "    return new_df"
   ]
  },
  {
   "cell_type": "code",
   "execution_count": 18,
   "metadata": {},
   "outputs": [],
   "source": [
    "new = createDataFrame(df) # create a new dataframe with only relevant info"
   ]
  },
  {
   "cell_type": "code",
   "execution_count": 20,
   "metadata": {},
   "outputs": [],
   "source": [
    "#new.head()"
   ]
  },
  {
   "cell_type": "markdown",
   "metadata": {},
   "source": [
    "## Part 2: Cleaning dataframe\n",
    "After having gathered the most important information from the original JSON file, we want to clean the new dataframe as certain data entries are still dictionary or hard to read. \n",
    "The first step is thus to gather information on their Wellesley education, when they graduated and what major/s they pursued."
   ]
  },
  {
   "cell_type": "code",
   "execution_count": null,
   "metadata": {},
   "outputs": [],
   "source": []
  },
  {
   "cell_type": "code",
   "execution_count": 21,
   "metadata": {},
   "outputs": [],
   "source": [
    "def getWellesleyInfo(edu_data):\n",
    "    \"\"\" \n",
    "    gathers the information about a persons educational info and returns the dictionary entry \n",
    "    \"\"\"\n",
    "    edu_list = []\n",
    "    for i in range(len(edu_data)):\n",
    "        edu_df = pd.DataFrame(edu_data['education'][i]) \n",
    "        onlyWell = edu_df[edu_df['name'].apply( lambda x: (\"wellesley\" in x.lower()))].to_dict('r')\n",
    "        edu_list.append(onlyWell)\n",
    "    return edu_list"
   ]
  },
  {
   "cell_type": "code",
   "execution_count": 22,
   "metadata": {},
   "outputs": [
    {
     "data": {
      "text/plain": [
       "[{'name': 'Wellesley College',\n",
       "  'degree': \"Bachelor's degree\",\n",
       "  'grades': None,\n",
       "  'field_of_study': 'Computer Science',\n",
       "  'date_range': '2018 – 2022',\n",
       "  'activities': 'Computer Science Club, Asian Student Union, Wellesley Democrats'}]"
      ]
     },
     "execution_count": 22,
     "metadata": {},
     "output_type": "execute_result"
    }
   ],
   "source": [
    "getWellesleyInfo(new)[0]"
   ]
  },
  {
   "cell_type": "code",
   "execution_count": 23,
   "metadata": {},
   "outputs": [],
   "source": [
    "new['education_clean'] = getWellesleyInfo(new) # new column with wellesley education info"
   ]
  },
  {
   "cell_type": "code",
   "execution_count": 24,
   "metadata": {},
   "outputs": [],
   "source": [
    "# columsn with other major data including degree major etc. \n",
    "new['degree'] = new['education_clean'].apply(lambda x: x[0]['degree'])\n",
    "new['study_range'] = new['education_clean'].apply(lambda x: x[0]['date_range'])\n",
    "new['major'] = new['education_clean'].apply(lambda x: x[0]['field_of_study'])"
   ]
  },
  {
   "cell_type": "code",
   "execution_count": 25,
   "metadata": {},
   "outputs": [],
   "source": [
    "def split(x):\n",
    "    \"\"\" \n",
    "    splits a string if existant otherwise returns empty string \n",
    "    \"\"\"\n",
    "    if x == None:\n",
    "        return \"\"\n",
    "    return x.split()"
   ]
  },
  {
   "cell_type": "code",
   "execution_count": 26,
   "metadata": {},
   "outputs": [],
   "source": [
    "def gradYear(data):\n",
    "    \"\"\"\n",
    "    given the range of years of study extracts graduation year\n",
    "    \"\"\"\n",
    "    years = split(data)\n",
    "    if len(years) > 0:\n",
    "        return years[-1]\n",
    "    else:\n",
    "        return \"\""
   ]
  },
  {
   "cell_type": "code",
   "execution_count": 27,
   "metadata": {},
   "outputs": [],
   "source": [
    "# new column that contains graduation year \n",
    "new['grad_year'] = new['study_range'].apply(lambda x: gradYear(x)) "
   ]
  },
  {
   "cell_type": "code",
   "execution_count": 28,
   "metadata": {},
   "outputs": [],
   "source": [
    "from dateutil import parser"
   ]
  },
  {
   "cell_type": "code",
   "execution_count": 29,
   "metadata": {},
   "outputs": [],
   "source": [
    "def convertGradYear(yearData):\n",
    "    \"\"\" \n",
    "    converts a graduation year to a dateobject year if existant otherwise returns -1\n",
    "    \"\"\"\n",
    "    if yearData == \"\":\n",
    "        return -1 # if there is no data\n",
    "    else:\n",
    "        return parser.parse(yearData).year"
   ]
  },
  {
   "cell_type": "code",
   "execution_count": 30,
   "metadata": {},
   "outputs": [],
   "source": [
    "# converting the type of graduation year to int from string\n",
    "new['grad_year'] = new['grad_year'].apply(lambda x: convertGradYear(x))"
   ]
  },
  {
   "cell_type": "code",
   "execution_count": 31,
   "metadata": {},
   "outputs": [],
   "source": [
    "# filtering out current students\n",
    "alums = new[new['grad_year'] < 2021]"
   ]
  },
  {
   "cell_type": "code",
   "execution_count": 32,
   "metadata": {},
   "outputs": [],
   "source": [
    "alums = alums.reset_index(drop=True)"
   ]
  },
  {
   "cell_type": "code",
   "execution_count": 34,
   "metadata": {},
   "outputs": [],
   "source": [
    "#alums"
   ]
  },
  {
   "cell_type": "markdown",
   "metadata": {},
   "source": [
    "## Part 3: Removing non-Wellesley graduates.\n",
    "Within our current dataset there are still entries that contain individuals who might have cross-registered at Wellesley, taken an online or summer course and thus should not be included in our Wellesley alums dataset. \n",
    "Thus we first filter out the degree description that indicate someone is not a Wellesley graduate and remove them."
   ]
  },
  {
   "cell_type": "code",
   "execution_count": 35,
   "metadata": {},
   "outputs": [
    {
     "data": {
      "text/plain": [
       "array([\"Bachelor's degree\", 'Bachelor of Arts - BA',\n",
       "       'Bachelor of Arts - BA, Magna Cum Laude',\n",
       "       'Bachelor of Science - BS', None, 'Media Arts and Sciences',\n",
       "       'Bachelor’s Degree', 'Bachelor of Arts (B.A.)',\n",
       "       'Cross-registered Student', 'Bachelors', \"Bachelor's Degree\",\n",
       "       \"Bachelor's degree (Transferred after first year)\",\n",
       "       \"Pursing a Bachelor's Degree\", 'Bachelor of Arts (BA)',\n",
       "       'Comparative Literature', 'Bachelor of Science (B.S.)',\n",
       "       'Bachelor of Arts', 'Undergraduate', 'BA', 'Post Bac', 'B.A.',\n",
       "       'Summa Cum Laude, Phi Beta Kappa',\n",
       "       'Bachelor of Arts (B.A.) with Honors',\n",
       "       'Candidate for Bachelor of Arts, May 2019', 'B. A.',\n",
       "       'Bachelor of Science (B.S.) University of Dayton',\n",
       "       \"Bachelor's Degree, Summa Cum Laude (Durant Scholar)\",\n",
       "       'Computer Science', 'Bachelor of Arts Degree',\n",
       "       'Post-Baccalaureate', 'Summer School', 'BA, Computer Science',\n",
       "       'B.A', \"Bachelor's\", 'Post-Baccalaureate Student',\n",
       "       'Bachelor of Arts (B.A.) with Latin Honors', 'Economics', 'AB',\n",
       "       'BS', 'Cognitive & Linguistic Sciences', 'Bachelor of Science',\n",
       "       'B.S.', 'Bachelor of Applied Science (B.A.Sc.)',\n",
       "       '3 years (no degree)', 'Initial Teacher Certification',\n",
       "       'Cross Registration', 'B.A. with Cum Laude', 'Visiting Student',\n",
       "       'B.A; of', 'Bachelor of Arts (B.A., cum laude)',\n",
       "       'Bachelor of Arts (B.A.), Departmental Honors',\n",
       "       'Various Management Certifications', \"Bachelor's of Science\",\n",
       "       'Honors BA', 'Exchange student', 'Cross-Registering',\n",
       "       'Master’s Degree', 'Edx Certificate', 'BA candidate'], dtype=object)"
      ]
     },
     "execution_count": 35,
     "metadata": {},
     "output_type": "execute_result"
    }
   ],
   "source": [
    "# look at degrees and use that to identify students who really are not students at wellesley\n",
    "alums['degree'].unique()"
   ]
  },
  {
   "cell_type": "code",
   "execution_count": 36,
   "metadata": {},
   "outputs": [],
   "source": [
    "# these should be filtered out\n",
    "filters = ['Post Bac', 'Post-Baccalaureate',\n",
    "           'Cross-registered Student', 'Summer School',\n",
    "          'Cross Registration', 'Exchange student','Edx Certificate',\n",
    "           'Various Management Certifications',\n",
    "           'Cross-Registering']"
   ]
  },
  {
   "cell_type": "code",
   "execution_count": 37,
   "metadata": {},
   "outputs": [],
   "source": [
    "# creating a bool series from isin() \n",
    "is_filter = alums[\"degree\"].isin(filters) "
   ]
  },
  {
   "cell_type": "code",
   "execution_count": 39,
   "metadata": {},
   "outputs": [],
   "source": [
    "# alums data set without people who are not actual graduates\n",
    "alums_cleaned = alums[is_filter == False]\n",
    "#alums_cleaned.head()"
   ]
  },
  {
   "cell_type": "markdown",
   "metadata": {},
   "source": [
    "## Part 4: Extracting grad school information\n",
    "Some alums attend grad school after graduating from Wellesley. We want to identify the individuals who go to graduate school and find out where they went to graduate school. Thus the first step is to check if someone has wellesley listed ast their most recent education, but also take into account that some may have listed their educational stations in non-chronological order. "
   ]
  },
  {
   "cell_type": "code",
   "execution_count": 40,
   "metadata": {},
   "outputs": [],
   "source": [
    "# break down the data to those who listed wellesley as their first edu entry and those who did not \n",
    "edu1 = alums_cleaned['education'].apply(lambda x: x[0]['name'] != \"Wellesley College\")"
   ]
  },
  {
   "cell_type": "code",
   "execution_count": 41,
   "metadata": {},
   "outputs": [
    {
     "data": {
      "text/plain": [
       "0      False\n",
       "1      False\n",
       "2      False\n",
       "3      False\n",
       "4      False\n",
       "       ...  \n",
       "615     True\n",
       "616     True\n",
       "617     True\n",
       "618     True\n",
       "619     True\n",
       "Name: education, Length: 610, dtype: bool"
      ]
     },
     "execution_count": 41,
     "metadata": {},
     "output_type": "execute_result"
    }
   ],
   "source": [
    "edu1"
   ]
  },
  {
   "cell_type": "code",
   "execution_count": 42,
   "metadata": {},
   "outputs": [],
   "source": [
    "# subdata set with only alums that attended Wellesley and no other institution\n",
    "edu2 = alums_cleaned['education'].apply(lambda x: len(x) == 1)"
   ]
  },
  {
   "cell_type": "code",
   "execution_count": 43,
   "metadata": {},
   "outputs": [],
   "source": [
    "a1 = alums_cleaned[edu2 == False] # gather all potential alums who might have attended graduate school"
   ]
  },
  {
   "cell_type": "code",
   "execution_count": 65,
   "metadata": {},
   "outputs": [],
   "source": [
    "# create new dataframt that explores graduate education\n",
    "alums_c2 = alums_cleaned.copy()"
   ]
  },
  {
   "cell_type": "code",
   "execution_count": 66,
   "metadata": {},
   "outputs": [
    {
     "data": {
      "text/plain": [
       "False"
      ]
     },
     "execution_count": 66,
     "metadata": {},
     "output_type": "execute_result"
    }
   ],
   "source": [
    "alums_c2['education'][0][0]['name']!= \"Wellesley College\""
   ]
  },
  {
   "cell_type": "code",
   "execution_count": 67,
   "metadata": {},
   "outputs": [],
   "source": [
    "# add colum with indicator if someone might have attended graduate school or not\n",
    "alums_c2['grad_edu'] = edu1"
   ]
  },
  {
   "cell_type": "markdown",
   "metadata": {},
   "source": [
    "Since some individuals might have included their cross-registration status as an additional educational entry, we do not want to include these students as graduate students as they cross-registered during their undergrad. Thus we filter these students out of our dataset."
   ]
  },
  {
   "cell_type": "code",
   "execution_count": 68,
   "metadata": {},
   "outputs": [],
   "source": [
    "filter2 = ['Cross-Registered', 'Cross-Registered Undergraduate']"
   ]
  },
  {
   "cell_type": "code",
   "execution_count": 69,
   "metadata": {},
   "outputs": [],
   "source": [
    "f2 = alums_c2['education'].apply(lambda x: x[0]['degree'] in filter2)"
   ]
  },
  {
   "cell_type": "code",
   "execution_count": 70,
   "metadata": {},
   "outputs": [
    {
     "data": {
      "text/plain": [
       "0      False\n",
       "1      False\n",
       "2      False\n",
       "3      False\n",
       "4      False\n",
       "       ...  \n",
       "615    False\n",
       "616    False\n",
       "617    False\n",
       "618    False\n",
       "619    False\n",
       "Name: education, Length: 610, dtype: bool"
      ]
     },
     "execution_count": 70,
     "metadata": {},
     "output_type": "execute_result"
    }
   ],
   "source": [
    "f2"
   ]
  },
  {
   "cell_type": "code",
   "execution_count": 71,
   "metadata": {},
   "outputs": [],
   "source": [
    "alums_c2['filter_grad'] = ~f2"
   ]
  },
  {
   "cell_type": "code",
   "execution_count": 72,
   "metadata": {},
   "outputs": [],
   "source": [
    "# adds true false indicator column that indicates if someone was cross-registered or not \n",
    "alums_c2.loc[~alums_c2['filter_grad'], 'result'] = False\n",
    "alums_c2.loc[alums_c2['grad_edu'] & alums_c2['filter_grad'], 'result'] = True\n",
    "alums_c2['result'].fillna(False, inplace = True)"
   ]
  },
  {
   "cell_type": "code",
   "execution_count": 73,
   "metadata": {},
   "outputs": [
    {
     "data": {
      "text/plain": [
       "248"
      ]
     },
     "execution_count": 73,
     "metadata": {},
     "output_type": "execute_result"
    }
   ],
   "source": [
    "alums_c2[alums_c2['result'] == True]['result'].count()"
   ]
  },
  {
   "cell_type": "code",
   "execution_count": 74,
   "metadata": {},
   "outputs": [],
   "source": [
    "# rename our result column to grad_school\n",
    "alums_c2.columns = ['grad_school' if x=='result' else x for x in alums_c2.columns]"
   ]
  },
  {
   "cell_type": "code",
   "execution_count": 75,
   "metadata": {},
   "outputs": [],
   "source": [
    "def filterProfessors(row):\n",
    "    \"\"\"\n",
    "    returns false if someone has professor as their title otherwise true\n",
    "    \"\"\"\n",
    "    if 'Professor' in row['title']:\n",
    "        return False\n",
    "    return True"
   ]
  },
  {
   "cell_type": "code",
   "execution_count": 76,
   "metadata": {},
   "outputs": [
    {
     "data": {
      "text/plain": [
       "9      {'name': 'MIT Sloan School of Management', 'de...\n",
       "16     {'name': 'Massachusetts Institute of Technolog...\n",
       "22     {'name': 'General Assembly', 'degree': 'User E...\n",
       "25     {'name': 'Yale School of Management', 'degree'...\n",
       "29     {'name': 'Babson College', 'degree': 'Cross-Re...\n",
       "                             ...                        \n",
       "615    {'name': 'Georgia State University', 'degree':...\n",
       "616    {'name': 'University of Tulsa', 'degree': 'Doc...\n",
       "617    {'name': 'Imperial College London', 'degree': ...\n",
       "618    {'name': 'The University of Texas at Austin', ...\n",
       "619    {'name': 'Stanford University', 'degree': 'Ph....\n",
       "Name: education, Length: 250, dtype: object"
      ]
     },
     "execution_count": 76,
     "metadata": {},
     "output_type": "execute_result"
    }
   ],
   "source": [
    "alums_c2[alums_c2[\"grad_edu\"] == True]['education'].apply(lambda x: x[0])"
   ]
  },
  {
   "cell_type": "code",
   "execution_count": 77,
   "metadata": {},
   "outputs": [],
   "source": [
    "# if mit is in education want to check if they attended grad school or just cross-registered etc.\n",
    "tf = alums_cleaned['education'].apply(lambda x: x[0]['name'] == \"Massachusetts Institute of Technology\")"
   ]
  },
  {
   "cell_type": "code",
   "execution_count": 154,
   "metadata": {},
   "outputs": [
    {
     "data": {
      "text/plain": [
       "16      True\n",
       "43     False\n",
       "79      True\n",
       "82     False\n",
       "117    False\n",
       "126    False\n",
       "178    False\n",
       "202    False\n",
       "330    False\n",
       "338    False\n",
       "341    False\n",
       "347    False\n",
       "353    False\n",
       "370    False\n",
       "437    False\n",
       "449    False\n",
       "462    False\n",
       "510    False\n",
       "521    False\n",
       "548    False\n",
       "560    False\n",
       "603    False\n",
       "Name: education, dtype: bool"
      ]
     },
     "execution_count": 154,
     "metadata": {},
     "output_type": "execute_result"
    }
   ],
   "source": [
    "alums_cleaned[tf]['education'].apply(lambda x: x[0]['degree'] in filter2)"
   ]
  },
  {
   "cell_type": "code",
   "execution_count": 78,
   "metadata": {},
   "outputs": [
    {
     "data": {
      "text/plain": [
       "True"
      ]
     },
     "execution_count": 78,
     "metadata": {},
     "output_type": "execute_result"
    }
   ],
   "source": [
    "alums_c2[tf]['grad_edu'][16]"
   ]
  },
  {
   "cell_type": "code",
   "execution_count": 56,
   "metadata": {},
   "outputs": [],
   "source": [
    "# drop unnecessary columms \n",
    "alums_c2 = alums_c2.drop(['grad_edu', 'filter_grad'], axis=1)"
   ]
  },
  {
   "cell_type": "code",
   "execution_count": 500,
   "metadata": {},
   "outputs": [],
   "source": [
    "#save data\n",
    "alums_c2.to_pickle(\"education\")"
   ]
  },
  {
   "cell_type": "markdown",
   "metadata": {},
   "source": [
    "## Part 5: Extract job data\n",
    "To further examine the jobs that alumnae hold after graduation we want to extract the information that is pertinent to jobs and thus should be examined seperatly. "
   ]
  },
  {
   "cell_type": "code",
   "execution_count": 388,
   "metadata": {},
   "outputs": [],
   "source": [
    "def getJob(person):\n",
    "    \"\"\"\n",
    "    extracts the current job of an individual \n",
    "    \"\"\"\n",
    "    if len(person) > 0:\n",
    "        return person[0]\n",
    "    else:\n",
    "        return None"
   ]
  },
  {
   "cell_type": "code",
   "execution_count": 396,
   "metadata": {},
   "outputs": [],
   "source": [
    "# save current job \n",
    "alums_c2['job_cleaned'] = alums_c2['jobs'].apply(lambda x:getJob(x))"
   ]
  },
  {
   "cell_type": "code",
   "execution_count": 415,
   "metadata": {},
   "outputs": [],
   "source": [
    "def getJobInfo(info,text):\n",
    "    \"\"\"\n",
    "    if a person has provided information to a particular job return it otherwise return nothing\n",
    "    \"\"\"\n",
    "    if info != None:\n",
    "        return info[text]\n",
    "    return None"
   ]
  },
  {
   "cell_type": "code",
   "execution_count": 489,
   "metadata": {},
   "outputs": [],
   "source": [
    "def jobDf(data):\n",
    "    \"\"\"\n",
    "    creates a dataframe that contains relevant job and employment information of alums\n",
    "    \"\"\"\n",
    "    new_df = pd.DataFrame(data['headline'])\n",
    "    new_df['name'] = data['name']\n",
    "    new_df['title'] = data['job_cleaned'].apply(lambda x:  getJobInfo(x, 'title'))\n",
    "    new_df['company'] = data['job_cleaned'].apply(lambda x:  getJobInfo(x, 'company'))\n",
    "    new_df['company'] = cleanJobs(new_df['company'])\n",
    "    new_df['location'] = data['job_cleaned'].apply(lambda x:  getJobInfo(x, 'location'))\n",
    "    new_df['years'] = data['job_cleaned'].apply(lambda x:  getJobInfo(x, 'date_range'))\n",
    "    new_df['description'] = data['job_cleaned'].apply(lambda x:  getJobInfo(x, 'description'))\n",
    "    new_df['url'] = data['job_cleaned'].apply(lambda x:  getJobInfo(x, 'li_company_url'))\n",
    "    new_df = new_df.reset_index(drop=True)\n",
    "    return new_df"
   ]
  },
  {
   "cell_type": "code",
   "execution_count": 490,
   "metadata": {},
   "outputs": [],
   "source": [
    "# create a datafrmae only with job information \n",
    "company_df = jobDf(alums_c2)"
   ]
  },
  {
   "cell_type": "code",
   "execution_count": 492,
   "metadata": {},
   "outputs": [],
   "source": [
    "company_df.to_csv('jobs.csv') # save job infromation in additional csv file"
   ]
  },
  {
   "cell_type": "code",
   "execution_count": 1,
   "metadata": {},
   "outputs": [],
   "source": [
    "#company_df[company_df['company'] == 'Wellesley College']['headline'].apply(lambda x: x.split('at'))"
   ]
  },
  {
   "cell_type": "code",
   "execution_count": 427,
   "metadata": {},
   "outputs": [],
   "source": [
    "# look a the unique cmpanies and save them \n",
    "jobs = company_df['company'].unique()"
   ]
  },
  {
   "cell_type": "code",
   "execution_count": 433,
   "metadata": {},
   "outputs": [
    {
     "data": {
      "text/plain": [
       "array(['MIT Media Lab', 'Gusto', 'CarGurus\\n        Full-time',\n",
       "       'Massachusetts Institute of Technology', 'Wellesley College',\n",
       "       'Peloton Interactive\\n        Full-time',\n",
       "       'Facebook\\n        Full-time', 'Intuit\\n        Full-time',\n",
       "       'Cornerstone Research\\n        Full-time',\n",
       "       'TrueNorth\\n        Internship', 'InterSystems\\n        Full-time',\n",
       "       'Gaiascope, Inc.\\n        Internship', 'Google\\n        Full-time',\n",
       "       'Indeed.com', 'University of Houston CS REU Program'], dtype=object)"
      ]
     },
     "execution_count": 433,
     "metadata": {},
     "output_type": "execute_result"
    }
   ],
   "source": [
    "jobs[:15] # some jobs currently held "
   ]
  },
  {
   "cell_type": "code",
   "execution_count": 458,
   "metadata": {},
   "outputs": [],
   "source": [
    "def cleanJobs(jobs):\n",
    "    job_list = []\n",
    "    for job in jobs:\n",
    "        if job != None:\n",
    "            split_string = job.split(\"\\n\", 1)\n",
    "            substring = split_string[0]\n",
    "            job_list.append(substring)\n",
    "        else:\n",
    "            job_list.append('')\n",
    "    return job_list"
   ]
  },
  {
   "cell_type": "code",
   "execution_count": 446,
   "metadata": {},
   "outputs": [],
   "source": [
    "jobs_df = pd.DataFrame(job_list)"
   ]
  },
  {
   "cell_type": "code",
   "execution_count": 450,
   "metadata": {},
   "outputs": [],
   "source": [
    "# gather the unique companies\n",
    "unique_comps=jobs_df[0].value_counts()"
   ]
  },
  {
   "cell_type": "code",
   "execution_count": null,
   "metadata": {},
   "outputs": [],
   "source": []
  }
 ],
 "metadata": {
  "kernelspec": {
   "display_name": "Python 3",
   "language": "python",
   "name": "python3"
  },
  "language_info": {
   "codemirror_mode": {
    "name": "ipython",
    "version": 3
   },
   "file_extension": ".py",
   "mimetype": "text/x-python",
   "name": "python",
   "nbconvert_exporter": "python",
   "pygments_lexer": "ipython3",
   "version": "3.7.6"
  }
 },
 "nbformat": 4,
 "nbformat_minor": 2
}
