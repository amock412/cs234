{
 "cells": [
  {
   "cell_type": "markdown",
   "metadata": {},
   "source": [
    "# Parse Wellesley Hive\n",
    "\n",
    "November 20, 2020\n",
    "\n",
    "This is a short exploration of an HTML file that was downloaded from the Wellesley Hive. It contains information about 821 users who were \"active\" when the file was saved.\n",
    "\n",
    "I filtered the profiles to include alums who work in Computer Science, Cyber Security, Data Science, Design/Visual Arts, Engineering, and Technology/IT \n",
    "\n",
    "We might need to download the file that contains all results."
   ]
  },
  {
   "cell_type": "code",
   "execution_count": 3,
   "metadata": {},
   "outputs": [],
   "source": [
    "from bs4 import BeautifulSoup as BS"
   ]
  },
  {
   "cell_type": "markdown",
   "metadata": {},
   "source": [
    "Read the content of the file, make sure that it has content:"
   ]
  },
  {
   "cell_type": "code",
   "execution_count": 4,
   "metadata": {},
   "outputs": [
    {
     "data": {
      "text/plain": [
       "2726319"
      ]
     },
     "execution_count": 4,
     "metadata": {},
     "output_type": "execute_result"
    }
   ],
   "source": [
    "with open('The_Wellesley_Hive_Data.htm') as inputF:\n",
    "    htmlRaw = inputF.read()\n",
    "    \n",
    "len(htmlRaw)"
   ]
  },
  {
   "cell_type": "markdown",
   "metadata": {},
   "source": [
    "Create a DOM tree representation for the HTML code:"
   ]
  },
  {
   "cell_type": "code",
   "execution_count": 5,
   "metadata": {},
   "outputs": [],
   "source": [
    "domTree = BS(htmlRaw, 'html.parser')"
   ]
  },
  {
   "cell_type": "markdown",
   "metadata": {},
   "source": [
    "From inspecting the DOM in the browser I have identified one class name, let me look for it:"
   ]
  },
  {
   "cell_type": "code",
   "execution_count": 6,
   "metadata": {},
   "outputs": [
    {
     "data": {
      "text/plain": [
       "821"
      ]
     },
     "execution_count": 6,
     "metadata": {},
     "output_type": "execute_result"
    }
   ],
   "source": [
    "allCards = domTree.findAll(attrs={'class': 'person-card__name-block'})\n",
    "len(allCards)"
   ]
  },
  {
   "cell_type": "markdown",
   "metadata": {},
   "source": [
    "It found all 821 cards! Let's check one card:"
   ]
  },
  {
   "cell_type": "code",
   "execution_count": 7,
   "metadata": {},
   "outputs": [
    {
     "data": {
      "text/plain": [
       "<div class=\"person-card__name-block\"><div aria-label=\"Cabelle Ahn ’12 - View Profile\" class=\"person-card__identity person-card__identity__hover person-card__identity__hover-inactive\" role=\"link\" tabindex=\"0\">Cabelle Ahn ’12</div></div>"
      ]
     },
     "execution_count": 7,
     "metadata": {},
     "output_type": "execute_result"
    }
   ],
   "source": [
    "allCards[0]"
   ]
  },
  {
   "cell_type": "markdown",
   "metadata": {},
   "source": [
    "Okay, this card doesn't have enough information, so let me look for another class name in the HTML file on the brwoser."
   ]
  },
  {
   "cell_type": "code",
   "execution_count": 8,
   "metadata": {},
   "outputs": [
    {
     "data": {
      "text/plain": [
       "821"
      ]
     },
     "execution_count": 8,
     "metadata": {},
     "output_type": "execute_result"
    }
   ],
   "source": [
    "biggerCards = domTree.findAll(attrs={'class': 'ant-card-body'})\n",
    "len(biggerCards)"
   ]
  },
  {
   "cell_type": "code",
   "execution_count": 9,
   "metadata": {},
   "outputs": [
    {
     "data": {
      "text/plain": [
       "<div class=\"ant-card-body\"><div tabindex=\"-1\"><div class=\"person-card__card-header\"><div aria-label=\" Bookmark Cabelle Ahn's profile\" class=\"bookmark-icon bookmark-icon__grid\" role=\"button\" tabindex=\"0\"><div tabindex=\"-1\"><svg class=\"\" height=\"30px\" version=\"1.1\" viewbox=\"0 0 18 30\" width=\"18px\" xlink=\"http://www.w3.org/1999/xlink\" xmlns=\"http://www.w3.org/2000/svg\"><g fill=\"none\" fill-rule=\"evenodd\" stroke=\"none\" stroke-width=\"1\"><g class=\"\" fill=\"#e4e6eb\" transform=\"translate(-1149.000000, -316.000000)\"><g transform=\"translate(250.000000, 249.000000)\"><g transform=\"translate(893.000000, 65.000000)\"><g><text font-family=\"mentor-icons\" font-size=\"30\" font-weight=\"normal\"></text><path d=\"M23.75 1.937V31.37c0 .25-.122.438-.367.563-.184.125-.49.062-.673-.063L15 24.31l-7.71 7.56c-.183.125-.49.188-.673.063-.245-.125-.367-.313-.367-.563V1.937C6.25.875 7.045 0 8.086 0h13.828c1.04 0 1.836.875 1.836 1.937z\"></path></g></g></g></g></g></svg></div></div><div class=\"person-card__image person-card__image__lazy-avatar__hover person-card__image__lazy-avatar__hover-inactive\"><span class=\"presence--indicator presence--indicator__large presence--indicator__offline ant-badge ant-badge-status\"><div class=\"lazy-avatar lazy-avatar__shape-circle bg-info-xlight false false lazy-avatar__img lazy-avatar-default\" style='background-image: url(\"https://d1ctk4ronrg3qz.cloudfront.net/profile-pictures/bX9c3y60SkGu4807RTNn2776132EA53D491B9AB5B98842DBAB59.jpeg\");'></div><sup class=\"ant-scroll-number ant-badge-dot ant-badge-status-default\" data-show=\"true\" title=\"offline\"></sup></span></div><div class=\"person-card__name-block\"><div aria-label=\"Cabelle Ahn ’12 - View Profile\" class=\"person-card__identity person-card__identity__hover person-card__identity__hover-inactive\" role=\"link\" tabindex=\"0\">Cabelle Ahn ’12</div></div><div class=\"person-card__details\">PhD Candidate in History of Art</div><div class=\"person-card__details person-card__details--location\">Amsterdam, Netherlands</div></div><div class=\"person-details-container\"><div class=\"person-details-container__info-line\"><em class=\"campuskudos-academic-cap icon-style\"></em><span class=\"overflow-ellipses\">Wellesley College, Bachelor's Degree, 2012, Art History, Courtauld Institute of Art, Master's Degree, 2013, History of Art &amp; Architecture, Bard Graduate Center, Master's Degree, 2015, Decorative Arts &amp; Design History, Harvard University, PhD - Doctor of Philosophy, History of Art &amp; Architecture</span></div><div class=\"person-details-container__info-line\"><em class=\"campuskudos-briefcase icon-style\"></em><span class=\"overflow-ellipses\">Harvard University</span></div><div class=\"person-details-container__info-line\"><em class=\"campuskudos-favorite-marker-2 icon-style\"></em><span class=\"overflow-ellipses\">Amsterdam, Netherlands</span></div></div></div><div class=\"ant-row person-card__footer_btn\"><div class=\"\"><button arial-label=\"Cabelle Ahn ’12 - Let's Connect\" class=\"ant-btn person-card__footer_btn-button\" type=\"button\"><span>Let's Connect</span></button></div></div></div>"
      ]
     },
     "execution_count": 9,
     "metadata": {},
     "output_type": "execute_result"
    }
   ],
   "source": [
    "biggerCards[0]"
   ]
  },
  {
   "cell_type": "markdown",
   "metadata": {},
   "source": [
    "This class name looks exactly what we want. Can I extract the text directly?"
   ]
  },
  {
   "cell_type": "code",
   "execution_count": 1,
   "metadata": {},
   "outputs": [],
   "source": [
    "#biggerCards[0].text"
   ]
  },
  {
   "cell_type": "markdown",
   "metadata": {},
   "source": [
    "I can, but the structure of the text is gone and many fields are concateaned into a single string, that's not a good idea. It's better to searhc for the children of the node:"
   ]
  },
  {
   "cell_type": "code",
   "execution_count": 11,
   "metadata": {},
   "outputs": [
    {
     "name": "stdout",
     "output_type": "stream",
     "text": [
      "Cabelle Ahn ’12PhD Candidate in History of ArtAmsterdam, NetherlandsWellesley College, Bachelor's Degree, 2012, Art History, Courtauld Institute of Art, Master's Degree, 2013, History of Art & Architecture, Bard Graduate Center, Master's Degree, 2015, Decorative Arts & Design History, Harvard University, PhD - Doctor of Philosophy, History of Art & ArchitectureHarvard UniversityAmsterdam, Netherlands\n",
      "\n",
      "Let's Connect\n",
      "\n"
     ]
    }
   ],
   "source": [
    "for child in biggerCards[0].children:\n",
    "    print(child.text)\n",
    "    print()"
   ]
  },
  {
   "cell_type": "markdown",
   "metadata": {},
   "source": [
    "That didn't help either, the text is still jumbled all together. We need to find the fine-grained structure of the DOM portion for this card. I'll use a function that prints out the nested HTML:"
   ]
  },
  {
   "cell_type": "code",
   "execution_count": 12,
   "metadata": {},
   "outputs": [
    {
     "name": "stdout",
     "output_type": "stream",
     "text": [
      "<div class=\"ant-card-body\">\n",
      " <div tabindex=\"-1\">\n",
      "  <div class=\"person-card__card-header\">\n",
      "   <div aria-label=\" Bookmark Cabelle Ahn's profile\" class=\"bookmark-icon bookmark-icon__grid\" role=\"button\" tabindex=\"0\">\n",
      "    <div tabindex=\"-1\">\n",
      "     <svg class=\"\" height=\"30px\" version=\"1.1\" viewbox=\"0 0 18 30\" width=\"18px\" xlink=\"http://www.w3.org/1999/xlink\" xmlns=\"http://www.w3.org/2000/svg\">\n",
      "      <g fill=\"none\" fill-rule=\"evenodd\" stroke=\"none\" stroke-width=\"1\">\n",
      "       <g class=\"\" fill=\"#e4e6eb\" transform=\"translate(-1149.000000, -316.000000)\">\n",
      "        <g transform=\"translate(250.000000, 249.000000)\">\n",
      "         <g transform=\"translate(893.000000, 65.000000)\">\n",
      "          <g>\n",
      "           <text font-family=\"mentor-icons\" font-size=\"30\" font-weight=\"normal\">\n",
      "           </text>\n",
      "           <path d=\"M23.75 1.937V31.37c0 .25-.122.438-.367.563-.184.125-.49.062-.673-.063L15 24.31l-7.71 7.56c-.183.125-.49.188-.673.063-.245-.125-.367-.313-.367-.563V1.937C6.25.875 7.045 0 8.086 0h13.828c1.04 0 1.836.875 1.836 1.937z\">\n",
      "           </path>\n",
      "          </g>\n",
      "         </g>\n",
      "        </g>\n",
      "       </g>\n",
      "      </g>\n",
      "     </svg>\n",
      "    </div>\n",
      "   </div>\n",
      "   <div class=\"person-card__image person-card__image__lazy-avatar__hover person-card__image__lazy-avatar__hover-inactive\">\n",
      "    <span class=\"presence--indicator presence--indicator__large presence--indicator__offline ant-badge ant-badge-status\">\n",
      "     <div class=\"lazy-avatar lazy-avatar__shape-circle bg-info-xlight false false lazy-avatar__img lazy-avatar-default\" style='background-image: url(\"https://d1ctk4ronrg3qz.cloudfront.net/profile-pictures/bX9c3y60SkGu4807RTNn2776132EA53D491B9AB5B98842DBAB59.jpeg\");'>\n",
      "     </div>\n",
      "     <sup class=\"ant-scroll-number ant-badge-dot ant-badge-status-default\" data-show=\"true\" title=\"offline\">\n",
      "     </sup>\n",
      "    </span>\n",
      "   </div>\n",
      "   <div class=\"person-card__name-block\">\n",
      "    <div aria-label=\"Cabelle Ahn ’12 - View Profile\" class=\"person-card__identity person-card__identity__hover person-card__identity__hover-inactive\" role=\"link\" tabindex=\"0\">\n",
      "     Cabelle Ahn ’12\n",
      "    </div>\n",
      "   </div>\n",
      "   <div class=\"person-card__details\">\n",
      "    PhD Candidate in History of Art\n",
      "   </div>\n",
      "   <div class=\"person-card__details person-card__details--location\">\n",
      "    Amsterdam, Netherlands\n",
      "   </div>\n",
      "  </div>\n",
      "  <div class=\"person-details-container\">\n",
      "   <div class=\"person-details-container__info-line\">\n",
      "    <em class=\"campuskudos-academic-cap icon-style\">\n",
      "    </em>\n",
      "    <span class=\"overflow-ellipses\">\n",
      "     Wellesley College, Bachelor's Degree, 2012, Art History, Courtauld Institute of Art, Master's Degree, 2013, History of Art &amp; Architecture, Bard Graduate Center, Master's Degree, 2015, Decorative Arts &amp; Design History, Harvard University, PhD - Doctor of Philosophy, History of Art &amp; Architecture\n",
      "    </span>\n",
      "   </div>\n",
      "   <div class=\"person-details-container__info-line\">\n",
      "    <em class=\"campuskudos-briefcase icon-style\">\n",
      "    </em>\n",
      "    <span class=\"overflow-ellipses\">\n",
      "     Harvard University\n",
      "    </span>\n",
      "   </div>\n",
      "   <div class=\"person-details-container__info-line\">\n",
      "    <em class=\"campuskudos-favorite-marker-2 icon-style\">\n",
      "    </em>\n",
      "    <span class=\"overflow-ellipses\">\n",
      "     Amsterdam, Netherlands\n",
      "    </span>\n",
      "   </div>\n",
      "  </div>\n",
      " </div>\n",
      " <div class=\"ant-row person-card__footer_btn\">\n",
      "  <div class=\"\">\n",
      "   <button arial-label=\"Cabelle Ahn ’12 - Let's Connect\" class=\"ant-btn person-card__footer_btn-button\" type=\"button\">\n",
      "    <span>\n",
      "     Let's Connect\n",
      "    </span>\n",
      "   </button>\n",
      "  </div>\n",
      " </div>\n",
      "</div>\n"
     ]
    }
   ],
   "source": [
    "print(biggerCards[0].prettify())"
   ]
  },
  {
   "cell_type": "markdown",
   "metadata": {},
   "source": [
    "I identified a few more class names that might be useful. Some of these class names are repeated multiple times:"
   ]
  },
  {
   "cell_type": "code",
   "execution_count": null,
   "metadata": {},
   "outputs": [],
   "source": [
    "firstCard = biggerCards[0]\n",
    "\n",
    "for className in ['person-card__name-block',  \n",
    "                  'person-card__details', \n",
    "                  'person-details-container__info-line']:\n",
    "    divs = firstCard.findAll(attrs={'class': className})\n",
    "    for div in divs:\n",
    "        print(className, div.text)\n"
   ]
  },
  {
   "cell_type": "markdown",
   "metadata": {},
   "source": [
    "This worked good. Let's try it with another card:"
   ]
  },
  {
   "cell_type": "code",
   "execution_count": null,
   "metadata": {},
   "outputs": [],
   "source": [
    "anotherCard = biggerCards[2]\n",
    "\n",
    "for className in ['person-card__name-block',  \n",
    "                  'person-card__details', \n",
    "                  'person-details-container__info-line']:\n",
    "    divs = anotherCard.findAll(attrs={'class': className})\n",
    "    for div in divs:\n",
    "        print(className, div.text)\n"
   ]
  },
  {
   "cell_type": "markdown",
   "metadata": {},
   "source": [
    "Let's try it out with more cards:"
   ]
  },
  {
   "cell_type": "code",
   "execution_count": null,
   "metadata": {},
   "outputs": [],
   "source": [
    "for i in range(10):\n",
    "    card = biggerCards[i]\n",
    "    for className in ['person-card__name-block',  \n",
    "                  'person-card__details', \n",
    "                  'person-details-container__info-line']:\n",
    "        divs = card.findAll(attrs={'class': className})\n",
    "        for div in divs:\n",
    "            print(className, div.text)\n",
    "        \n",
    "    print(40*'-')\n"
   ]
  },
  {
   "cell_type": "markdown",
   "metadata": {},
   "source": [
    "**To do**\n",
    "\n",
    "- figure out the meaning of each field in the card. There is some consistency, but occasionally things are confusing. Also, the line of the education has multiple institutions all together.\n",
    "- write a function that returns the data for one card\n",
    "- write code that stores each card as a dictionary\n",
    "- download the file that contains all Wellesley Hive members.\n",
    "- make sure to now share the data that have the names with other people outside your team"
   ]
  },
  {
   "cell_type": "code",
   "execution_count": null,
   "metadata": {},
   "outputs": [],
   "source": []
  }
 ],
 "metadata": {
  "kernelspec": {
   "display_name": "Python 3",
   "language": "python",
   "name": "python3"
  },
  "language_info": {
   "codemirror_mode": {
    "name": "ipython",
    "version": 3
   },
   "file_extension": ".py",
   "mimetype": "text/x-python",
   "name": "python",
   "nbconvert_exporter": "python",
   "pygments_lexer": "ipython3",
   "version": "3.7.6"
  }
 },
 "nbformat": 4,
 "nbformat_minor": 4
}
