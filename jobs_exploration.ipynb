{
 "cells": [
  {
   "cell_type": "markdown",
   "metadata": {},
   "source": [
    "# Exploring the jobs of Wellesley CS alums on Linkedin\n",
    "\n",
    "Author: Andrea Mock\n",
    "\n",
    "The following notebook details the distribution of start dates of Wellesley CS alums and when they first joined their current employer. In the first step the start year is cleaned and extracted and then subsequently plotted using matplotlib."
   ]
  },
  {
   "cell_type": "code",
   "execution_count": 1,
   "metadata": {},
   "outputs": [],
   "source": [
    "import pandas as pd"
   ]
  },
  {
   "cell_type": "code",
   "execution_count": 2,
   "metadata": {},
   "outputs": [],
   "source": [
    "# read in the data\n",
    "df = pd.read_csv(\"jobs.csv\", index_col = 0)"
   ]
  },
  {
   "cell_type": "markdown",
   "metadata": {},
   "source": [
    "## Part 1: Extracting start and end date \n",
    "Our dataset contains a column (years) that details the start and end date of the current employement of a Wellesley alumna. However, since the start and end date is in string format, we first split it to extract both the start and end date and convert it to a datetime object for further processing."
   ]
  },
  {
   "cell_type": "code",
   "execution_count": 4,
   "metadata": {},
   "outputs": [
    {
     "data": {
      "text/plain": [
       "'Aug 2020 – Present'"
      ]
     },
     "execution_count": 4,
     "metadata": {},
     "output_type": "execute_result"
    }
   ],
   "source": [
    "# example of one of the date entries\n",
    "df['years'][2]"
   ]
  },
  {
   "cell_type": "code",
   "execution_count": 5,
   "metadata": {},
   "outputs": [],
   "source": [
    "def splitDate(dateString):\n",
    "    \"\"\"\n",
    "    splits a date that is in string format into start and end date\n",
    "    \"\"\"\n",
    "    if type(dateString) == str:\n",
    "        return dateString.split('–') # split element is - \n",
    "    return ['','']"
   ]
  },
  {
   "cell_type": "code",
   "execution_count": 6,
   "metadata": {},
   "outputs": [],
   "source": [
    "# extract start dates\n",
    "df['start'] = df['years'].apply(lambda x: splitDate(x)[0])"
   ]
  },
  {
   "cell_type": "code",
   "execution_count": 7,
   "metadata": {},
   "outputs": [],
   "source": [
    "# extract end dates\n",
    "df['end'] = df['years'].apply(lambda x: splitDate(x)[-1])"
   ]
  },
  {
   "cell_type": "code",
   "execution_count": 85,
   "metadata": {},
   "outputs": [],
   "source": [
    "#df.head()"
   ]
  },
  {
   "cell_type": "markdown",
   "metadata": {},
   "source": [
    "After having created two columns, one for the start dates and another for the end dates we want to convert these dates to actual datetime object to allow for comparison."
   ]
  },
  {
   "cell_type": "code",
   "execution_count": 9,
   "metadata": {},
   "outputs": [
    {
     "name": "stdout",
     "output_type": "stream",
     "text": [
      "2013-12-10 00:00:00\n",
      "12/2013\n"
     ]
    }
   ],
   "source": [
    "from dateutil.parser import parse\n",
    "\n",
    "# example of how to parse a string to extract the date\n",
    "dt = parse('2013')\n",
    "print(dt)\n",
    "# datetime.datetime(2010, 2, 15, 0, 0)\n",
    "print(dt.strftime('%m/%Y'))"
   ]
  },
  {
   "cell_type": "code",
   "execution_count": 10,
   "metadata": {},
   "outputs": [],
   "source": [
    "from datetime import date\n",
    "\n",
    "today = date.today()\n",
    "\n",
    "# dd/mm/YY\n",
    "d1 = today.strftime(\"%d/%m/%Y\")\n"
   ]
  },
  {
   "cell_type": "code",
   "execution_count": 11,
   "metadata": {},
   "outputs": [],
   "source": [
    "def parseDate(dateStr):\n",
    "    \"\"\"\n",
    "    parses a date in string format and converts it to a datetime object\n",
    "    \"\"\"\n",
    "    date_clean = dateStr.strip()\n",
    "    if date_clean == \"Present\":\n",
    "        today = date.today()\n",
    "        day = today.strftime('%m/%Y')\n",
    "        return day\n",
    "    elif len(date_clean) == 0:\n",
    "        return ''\n",
    "    else: \n",
    "        dt = parse(date_clean)\n",
    "        return dt.strftime('%m/%Y')"
   ]
  },
  {
   "cell_type": "code",
   "execution_count": 12,
   "metadata": {},
   "outputs": [],
   "source": [
    "# convert end dates to datetime \n",
    "df['end_clean'] = df['end'].apply(lambda x: parseDate(x))"
   ]
  },
  {
   "cell_type": "code",
   "execution_count": 13,
   "metadata": {},
   "outputs": [],
   "source": [
    "# convert start dates to datetime \n",
    "df['start_clean'] = df['start'].apply(lambda x: parseDate(x))"
   ]
  },
  {
   "cell_type": "code",
   "execution_count": 14,
   "metadata": {},
   "outputs": [
    {
     "data": {
      "text/plain": [
       "'06/2020'"
      ]
     },
     "execution_count": 14,
     "metadata": {},
     "output_type": "execute_result"
    }
   ],
   "source": [
    "df['end_clean'][0] # example of a cleaned date"
   ]
  },
  {
   "cell_type": "markdown",
   "metadata": {},
   "source": [
    "## Part 2: Cleaning the current jobs \n",
    "Our current dataset includes alums who might have just recently graduated or might have failed to update their employer, thus still stating that they work at Wellesley as a tutor for example. To avoid skewing the results of our employer analysis we will first filter and clean the alum entries that have listed Wellesley as their current employer."
   ]
  },
  {
   "cell_type": "code",
   "execution_count": 15,
   "metadata": {},
   "outputs": [],
   "source": [
    "# create a column that has a true false indicator of current company is Wellesley\n",
    "df['company_1'] = df['company'].apply(lambda x: x == 'Wellesley College') "
   ]
  },
  {
   "cell_type": "code",
   "execution_count": 86,
   "metadata": {},
   "outputs": [],
   "source": [
    "#df"
   ]
  },
  {
   "cell_type": "code",
   "execution_count": 17,
   "metadata": {},
   "outputs": [],
   "source": [
    "def splitHeadline(headline):\n",
    "    if type(headline) == str:\n",
    "        if len(headline.split('@')) == 1:\n",
    "               return headline.split(' at')\n",
    "        elif len(headline.split('@')) == 2 :\n",
    "            return headline.split('@')\n",
    "    return ['','']"
   ]
  },
  {
   "cell_type": "code",
   "execution_count": 18,
   "metadata": {},
   "outputs": [],
   "source": [
    "df['comp_clean1'] = df['headline'].apply(lambda x: splitHeadline(x)[0])\n",
    "df['comp_clean2'] = df['headline'].apply(lambda x: splitHeadline(x)[-1])"
   ]
  },
  {
   "cell_type": "code",
   "execution_count": 20,
   "metadata": {},
   "outputs": [],
   "source": [
    "subdata = df[df['company_1'] == True]"
   ]
  },
  {
   "cell_type": "code",
   "execution_count": 87,
   "metadata": {},
   "outputs": [],
   "source": [
    "#subdata.head() # extracting all alums that have Wellesley listed as their current company"
   ]
  },
  {
   "cell_type": "code",
   "execution_count": 88,
   "metadata": {},
   "outputs": [],
   "source": [
    "# filter data where current company is Wellesley but headline includes a different company name\n",
    "#s1 = subdata[~(subdata['comp_clean2'].apply(lambda x:x.strip()) == subdata['company'])]\n",
    "#s1.head()"
   ]
  },
  {
   "cell_type": "code",
   "execution_count": 58,
   "metadata": {},
   "outputs": [],
   "source": [
    "s1 = s1.drop(['title','company'], axis = 1)\n",
    "s1.rename(columns={'comp_clean1': 'title', 'comp_clean2': 'company'}, inplace=True)"
   ]
  },
  {
   "cell_type": "code",
   "execution_count": 61,
   "metadata": {},
   "outputs": [],
   "source": [
    "s1 = s1.reindex(columns=['headline', 'name', 'title', 'company','location', 'years', 'description', 'url', 'start',\n",
    "       'end', 'end_clean', 'start_clean', 'company_1'])"
   ]
  },
  {
   "cell_type": "code",
   "execution_count": 89,
   "metadata": {},
   "outputs": [],
   "source": [
    "#s1.head()"
   ]
  },
  {
   "cell_type": "code",
   "execution_count": 90,
   "metadata": {},
   "outputs": [],
   "source": [
    "s2 = subdata[(subdata['comp_clean2'].apply(lambda x:x.strip()) == subdata['company'])]\n",
    "#s2.head()"
   ]
  },
  {
   "cell_type": "code",
   "execution_count": 45,
   "metadata": {},
   "outputs": [],
   "source": [
    "def filterProfessors(row):\n",
    "    \"\"\"\n",
    "    returns false if the word professor is mentioned in a particular alums title\n",
    "    \"\"\"\n",
    "    if 'Professor' in row['title']:\n",
    "        return False\n",
    "    return True"
   ]
  },
  {
   "cell_type": "code",
   "execution_count": 46,
   "metadata": {},
   "outputs": [],
   "source": [
    "# only keep the alums that are actual alums (not professors at wellesley who mistakenly appear in our dataset)\n",
    "s2 = s2[s2.apply(filterProfessors, axis = 1)]"
   ]
  },
  {
   "cell_type": "code",
   "execution_count": 91,
   "metadata": {},
   "outputs": [],
   "source": [
    "# merge datasets that were cleaned individually\n",
    "merged_sub = pd.concat([s1, s2])\n",
    "#merged_sub.head()"
   ]
  },
  {
   "cell_type": "code",
   "execution_count": 65,
   "metadata": {},
   "outputs": [],
   "source": [
    "# other part of dataset where Wellesley was not current employer\n",
    "part1 = df[df['company_1'] == False]"
   ]
  },
  {
   "cell_type": "code",
   "execution_count": 66,
   "metadata": {},
   "outputs": [],
   "source": [
    "# merge back together dataset that had individuals first listing wellesley as current employers and other alums\n",
    "df_clean = pd.concat([merged_sub, part1])"
   ]
  },
  {
   "cell_type": "code",
   "execution_count": 67,
   "metadata": {},
   "outputs": [],
   "source": [
    "# get rid of unnecessary columns created solely for cleaning purposes\n",
    "df_clean = df_clean.reset_index(drop=True)\n",
    "df_clean = df_clean.drop(['start','end','company_1', 'comp_clean1','comp_clean2'], axis=1)\n",
    "df_clean"
   ]
  },
  {
   "cell_type": "code",
   "execution_count": 70,
   "metadata": {},
   "outputs": [],
   "source": [
    "# save cleaned dataframe to a csv file\n",
    "df_clean.to_csv('job_info.csv')"
   ]
  },
  {
   "cell_type": "markdown",
   "metadata": {},
   "source": [
    "## Part 3: Visualizing graduation years\n",
    "After having cleaned the data, we can now move on to visualizing the date. We are interested in exploring when alums first joined their current employer. The first step is to create a dataframe that only includes the start dates and the number of times that particular start date occurs. Sort the dataframe and then using matplotlib create a plot. "
   ]
  },
  {
   "cell_type": "code",
   "execution_count": null,
   "metadata": {},
   "outputs": [],
   "source": [
    "from dateutil import parser\n",
    "import matplotlib.pyplot as plt\n",
    "%matplotlib inline"
   ]
  },
  {
   "cell_type": "code",
   "execution_count": 76,
   "metadata": {},
   "outputs": [],
   "source": [
    "start_df = pd.DataFrame([df['start_clean'].value_counts().index, df['start_clean'].value_counts()]).T\n",
    "start_df.columns = ['start_date', 'counts']"
   ]
  },
  {
   "cell_type": "code",
   "execution_count": 77,
   "metadata": {},
   "outputs": [],
   "source": [
    "# create dataframe that has start date sorted for a nicer visualization\n",
    "sorted_starts = start_df.sort_values('start_date')\n",
    "sorted_starts = sorted_starts.reset_index(drop=True)"
   ]
  },
  {
   "cell_type": "code",
   "execution_count": 84,
   "metadata": {},
   "outputs": [
    {
     "data": {
      "text/html": [
       "<div>\n",
       "<style scoped>\n",
       "    .dataframe tbody tr th:only-of-type {\n",
       "        vertical-align: middle;\n",
       "    }\n",
       "\n",
       "    .dataframe tbody tr th {\n",
       "        vertical-align: top;\n",
       "    }\n",
       "\n",
       "    .dataframe thead th {\n",
       "        text-align: right;\n",
       "    }\n",
       "</style>\n",
       "<table border=\"1\" class=\"dataframe\">\n",
       "  <thead>\n",
       "    <tr style=\"text-align: right;\">\n",
       "      <th></th>\n",
       "      <th>start_date</th>\n",
       "      <th>counts</th>\n",
       "    </tr>\n",
       "  </thead>\n",
       "  <tbody>\n",
       "    <tr>\n",
       "      <th>0</th>\n",
       "      <td></td>\n",
       "      <td>6</td>\n",
       "    </tr>\n",
       "    <tr>\n",
       "      <th>1</th>\n",
       "      <td>01/1995</td>\n",
       "      <td>1</td>\n",
       "    </tr>\n",
       "    <tr>\n",
       "      <th>2</th>\n",
       "      <td>01/1999</td>\n",
       "      <td>1</td>\n",
       "    </tr>\n",
       "    <tr>\n",
       "      <th>3</th>\n",
       "      <td>01/2012</td>\n",
       "      <td>1</td>\n",
       "    </tr>\n",
       "    <tr>\n",
       "      <th>4</th>\n",
       "      <td>01/2013</td>\n",
       "      <td>4</td>\n",
       "    </tr>\n",
       "    <tr>\n",
       "      <th>...</th>\n",
       "      <td>...</td>\n",
       "      <td>...</td>\n",
       "    </tr>\n",
       "    <tr>\n",
       "      <th>112</th>\n",
       "      <td>12/2016</td>\n",
       "      <td>2</td>\n",
       "    </tr>\n",
       "    <tr>\n",
       "      <th>113</th>\n",
       "      <td>12/2017</td>\n",
       "      <td>3</td>\n",
       "    </tr>\n",
       "    <tr>\n",
       "      <th>114</th>\n",
       "      <td>12/2018</td>\n",
       "      <td>8</td>\n",
       "    </tr>\n",
       "    <tr>\n",
       "      <th>115</th>\n",
       "      <td>12/2019</td>\n",
       "      <td>12</td>\n",
       "    </tr>\n",
       "    <tr>\n",
       "      <th>116</th>\n",
       "      <td>12/2020</td>\n",
       "      <td>4</td>\n",
       "    </tr>\n",
       "  </tbody>\n",
       "</table>\n",
       "<p>117 rows × 2 columns</p>\n",
       "</div>"
      ],
      "text/plain": [
       "    start_date counts\n",
       "0                   6\n",
       "1      01/1995      1\n",
       "2      01/1999      1\n",
       "3      01/2012      1\n",
       "4      01/2013      4\n",
       "..         ...    ...\n",
       "112    12/2016      2\n",
       "113    12/2017      3\n",
       "114    12/2018      8\n",
       "115    12/2019     12\n",
       "116    12/2020      4\n",
       "\n",
       "[117 rows x 2 columns]"
      ]
     },
     "execution_count": 84,
     "metadata": {},
     "output_type": "execute_result"
    }
   ],
   "source": [
    "sorted_starts"
   ]
  },
  {
   "cell_type": "code",
   "execution_count": null,
   "metadata": {},
   "outputs": [],
   "source": [
    "# drop counts for those alums with no start date\n",
    "sorted_noNA = sorted_starts.drop([sorted_starts.index[0]])"
   ]
  },
  {
   "cell_type": "code",
   "execution_count": 81,
   "metadata": {},
   "outputs": [],
   "source": [
    "# convert dates to years only for easier visualization\n",
    "sorted_noNA['start_date'] = sorted_noNA['start_date'].apply(lambda x: parser.parse(x).year)"
   ]
  },
  {
   "cell_type": "code",
   "execution_count": 82,
   "metadata": {},
   "outputs": [
    {
     "data": {
      "text/plain": [
       "Text(0, 0.5, 'count')"
      ]
     },
     "execution_count": 82,
     "metadata": {},
     "output_type": "execute_result"
    },
    {
     "data": {
      "image/png": "[encoded data removed]",
      "text/plain": [
       "<Figure size 432x288 with 1 Axes>"
      ]
     },
     "metadata": {
      "needs_background": "light"
     },
     "output_type": "display_data"
    }
   ],
   "source": [
    "# plotting number of alums and when they started at their current position\n",
    "sorted_noNA.hist()\n",
    "plt.title('Distribution of start date of current positions')\n",
    "plt.xlabel('start year')\n",
    "plt.ylabel('count')"
   ]
  },
  {
   "cell_type": "code",
   "execution_count": null,
   "metadata": {},
   "outputs": [],
   "source": []
  }
 ],
 "metadata": {
  "kernelspec": {
   "display_name": "Python 3",
   "language": "python",
   "name": "python3"
  },
  "language_info": {
   "codemirror_mode": {
    "name": "ipython",
    "version": 3
   },
   "file_extension": ".py",
   "mimetype": "text/x-python",
   "name": "python",
   "nbconvert_exporter": "python",
   "pygments_lexer": "ipython3",
   "version": "3.7.6"
  }
 },
 "nbformat": 4,
 "nbformat_minor": 4
}
