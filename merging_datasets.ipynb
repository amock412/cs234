{
 "cells": [
  {
   "cell_type": "markdown",
   "metadata": {},
   "source": [
    "# Merging datasets\n",
    "\n",
    "Author: Andrea Mock\n",
    "\n",
    "After having obtained data from the Hive and Linkedin, we have to merge the datasets. Since each dataset contains different information, we have to be cognizant of the differences when merging, eventually dropping, renaming and creating new columns.  "
   ]
  },
  {
   "cell_type": "code",
   "execution_count": 2,
   "metadata": {},
   "outputs": [],
   "source": [
    "# loading necessary libraries\n",
    "import pandas as pd\n",
    "import json"
   ]
  },
  {
   "cell_type": "markdown",
   "metadata": {},
   "source": [
    "## Part 1: Read in the data\n",
    "In the first step we read in the datasets. The linkedin data is saved in the CSV file titled 'majors_v2.csv' and the hive data is saved as a JSON file titled 'alums_hive.json'. "
   ]
  },
  {
   "cell_type": "code",
   "execution_count": 3,
   "metadata": {},
   "outputs": [],
   "source": [
    "# load in linkedin data\n",
    "df1 = pd.read_csv('majors_v2.csv', index_col = 0)"
   ]
  },
  {
   "cell_type": "code",
   "execution_count": 99,
   "metadata": {},
   "outputs": [],
   "source": [
    "#df1.head()"
   ]
  },
  {
   "cell_type": "code",
   "execution_count": 5,
   "metadata": {},
   "outputs": [],
   "source": [
    "# Opening JSON file with Hive data\n",
    "with open('alums_hive.json', 'r') as openfile: \n",
    "    # Reading from json file \n",
    "    json_object = json.load(openfile) "
   ]
  },
  {
   "cell_type": "code",
   "execution_count": 6,
   "metadata": {},
   "outputs": [],
   "source": [
    "df2 = pd.DataFrame(json_object)"
   ]
  },
  {
   "cell_type": "markdown",
   "metadata": {},
   "source": [
    "## Part 2: Cleaning the Hive data\n",
    "Unlike the Linkedin data, which was mostly already cleaned beforehand, the Hive data still requires cleaning. We thus extract information including graduation year, location, and current occupation."
   ]
  },
  {
   "cell_type": "code",
   "execution_count": 7,
   "metadata": {},
   "outputs": [],
   "source": [
    "# extract an alumna's name and save it in a new column\n",
    "df2['name'] = df2['person-card__name-block'].apply( lambda x: x[0].split('’')[0].strip())"
   ]
  },
  {
   "cell_type": "code",
   "execution_count": 8,
   "metadata": {},
   "outputs": [],
   "source": [
    "def extractGradYear(person): \n",
    "    \"\"\"\n",
    "    extracts the grad year of an alum, an adds either 20 or 19 at the beginning to create full graduation years \n",
    "    ie. 2004 or 1998, if no grad year available return -1\n",
    "    \"\"\"\n",
    "    info = person[0].split('’')\n",
    "    if len(info) > 1:\n",
    "        if (int(info[1]) >= 0 and int(info[1]) <= 20):\n",
    "            return '20' + info[1]\n",
    "        else:\n",
    "            return '19' +  info[1]\n",
    "    else:\n",
    "        return -1"
   ]
  },
  {
   "cell_type": "code",
   "execution_count": 9,
   "metadata": {},
   "outputs": [],
   "source": [
    "# extract grad year and save it in a new column\n",
    "df2['grad_year'] = df2['person-card__name-block'].apply( lambda x: extractGradYear(x))"
   ]
  },
  {
   "cell_type": "code",
   "execution_count": 10,
   "metadata": {},
   "outputs": [],
   "source": [
    "# extract location and save it into a new column\n",
    "df2['location'] = df2['person-card__details'].apply( lambda x: x[1])"
   ]
  },
  {
   "cell_type": "code",
   "execution_count": 11,
   "metadata": {},
   "outputs": [],
   "source": [
    "# extract occupation and save it into a new column\n",
    "df2['current_occupation'] = df2['person-card__details'].apply( lambda x: x[0])"
   ]
  },
  {
   "cell_type": "markdown",
   "metadata": {},
   "source": [
    "Our data asides from occupation, location and graduation year, includes more information including education. These are just a few examples of types of information our dataset contains."
   ]
  },
  {
   "cell_type": "code",
   "execution_count": 12,
   "metadata": {},
   "outputs": [
    {
     "data": {
      "text/plain": [
       "'Unemployed and Actively Looking, University of Delaware, Gamehelper, DATASTAR, INC, STS MARKET RESEARCH, Massachusetts Institute of Technology, Boston College, Wellesley College Art Department, University of Florida'"
      ]
     },
     "execution_count": 12,
     "metadata": {},
     "output_type": "execute_result"
    }
   ],
   "source": [
    "# showing what all occupations string includes \n",
    "df2['person-details-container__info-line'].apply(lambda x: x[1])[815]"
   ]
  },
  {
   "cell_type": "code",
   "execution_count": 13,
   "metadata": {},
   "outputs": [
    {
     "data": {
      "text/plain": [
       "'Writer, Editor, Database/Query Writer, Web Developer'"
      ]
     },
     "execution_count": 13,
     "metadata": {},
     "output_type": "execute_result"
    }
   ],
   "source": [
    "# only occupation example\n",
    "df2.iloc[815]['current_occupation']"
   ]
  },
  {
   "cell_type": "code",
   "execution_count": 14,
   "metadata": {},
   "outputs": [
    {
     "data": {
      "text/plain": [
       "\"Wellesley College, Bachelor's Degree, 2012, Art History, Courtauld Institute of Art, Master's Degree, 2013, History of Art & Architecture, Bard Graduate Center, Master's Degree, 2015, Decorative Arts & Design History, Harvard University, PhD - Doctor of Philosophy, History of Art & Architecture\""
      ]
     },
     "execution_count": 14,
     "metadata": {},
     "output_type": "execute_result"
    }
   ],
   "source": [
    "# all of education listed\n",
    "df2['person-details-container__info-line'].apply(lambda x: x[0])[0]"
   ]
  },
  {
   "cell_type": "markdown",
   "metadata": {},
   "source": [
    "## Part 3: Checking for duplicates\n",
    "After having extracted information such as name and graduation year, we can make a comparison with the data extracted from linkedin and see if there is any overlap. to do so we create subdata frames that only include name and graduation year, two identifiers that can help us identify overlaps between teh datasets."
   ]
  },
  {
   "cell_type": "code",
   "execution_count": 15,
   "metadata": {},
   "outputs": [],
   "source": [
    "# data from dataset from linkedin \n",
    "df1_names = df1[['name', 'grad_year']]"
   ]
  },
  {
   "cell_type": "code",
   "execution_count": 98,
   "metadata": {},
   "outputs": [],
   "source": [
    "#df1_names"
   ]
  },
  {
   "cell_type": "code",
   "execution_count": 17,
   "metadata": {},
   "outputs": [],
   "source": [
    "# names and graduation year from the hive\n",
    "df2_names = df2[['name', 'grad_year']]"
   ]
  },
  {
   "cell_type": "code",
   "execution_count": 97,
   "metadata": {},
   "outputs": [],
   "source": [
    "df2_names"
   ]
  },
  {
   "cell_type": "code",
   "execution_count": 19,
   "metadata": {},
   "outputs": [],
   "source": [
    "# merge both datasets \n",
    "all_names = pd.concat([df1_names, df2_names], ignore_index=True)"
   ]
  },
  {
   "cell_type": "code",
   "execution_count": 20,
   "metadata": {},
   "outputs": [
    {
     "data": {
      "text/plain": [
       "False    1334\n",
       "True       95\n",
       "Name: name, dtype: int64"
      ]
     },
     "execution_count": 20,
     "metadata": {},
     "output_type": "execute_result"
    }
   ],
   "source": [
    "# see how many duplicates exist\n",
    "all_names['name'].duplicated().value_counts()"
   ]
  },
  {
   "cell_type": "code",
   "execution_count": 21,
   "metadata": {},
   "outputs": [],
   "source": [
    "# create a true false indicator vector that has a value true if the value appears more than once, false otherwise\n",
    "duplicates = all_names['name'].duplicated()"
   ]
  },
  {
   "cell_type": "code",
   "execution_count": 96,
   "metadata": {},
   "outputs": [],
   "source": [
    "all_names[duplicates] # in total their are 95 duplicated values"
   ]
  },
  {
   "cell_type": "markdown",
   "metadata": {},
   "source": [
    "## Part 4: Continue cleaning data from the Hive\n",
    "In a first step, after having extracted some information and added columns to the dataset containing the Hive data is to drop the unnecessary colums to avoid confusion and allow for easier cleaning of the rest of the data."
   ]
  },
  {
   "cell_type": "code",
   "execution_count": 23,
   "metadata": {},
   "outputs": [],
   "source": [
    "# drop column\n",
    "df2 = df2.drop(['person-card__name-block'], axis=1)"
   ]
  },
  {
   "cell_type": "code",
   "execution_count": 24,
   "metadata": {},
   "outputs": [
    {
     "data": {
      "text/plain": [
       "Index(['person-card__details', 'person-details-container__info-line', 'name',\n",
       "       'grad_year', 'location', 'current_occupation'],\n",
       "      dtype='object')"
      ]
     },
     "execution_count": 24,
     "metadata": {},
     "output_type": "execute_result"
    }
   ],
   "source": [
    "df2.columns"
   ]
  },
  {
   "cell_type": "code",
   "execution_count": 25,
   "metadata": {},
   "outputs": [],
   "source": [
    "# reindesx dataframe\n",
    "df2 = df2.reindex(columns=['name', 'grad_year', 'location', 'current_occupation', 'person-card__details', 'person-details-container__info-line'])"
   ]
  },
  {
   "cell_type": "code",
   "execution_count": 655,
   "metadata": {},
   "outputs": [],
   "source": [
    "# save first version of data\n",
    "df2.to_pickle('hive_alums')"
   ]
  },
  {
   "cell_type": "code",
   "execution_count": 26,
   "metadata": {},
   "outputs": [],
   "source": [
    "# extract the employer from hive data\n",
    "df2['current_employer'] = df2['person-details-container__info-line'].apply(lambda x : x[1].split(',')[0])"
   ]
  },
  {
   "cell_type": "code",
   "execution_count": 27,
   "metadata": {},
   "outputs": [],
   "source": [
    "# extract education info from hive data\n",
    "df2['education'] = df2['person-details-container__info-line'].apply(lambda x : x[0])"
   ]
  },
  {
   "cell_type": "code",
   "execution_count": 28,
   "metadata": {},
   "outputs": [
    {
     "data": {
      "text/plain": [
       "name                                                                        Breslin Bell\n",
       "grad_year                                                                           2018\n",
       "location                                                                   Wellesley, MA\n",
       "current_occupation                                Art Historian, Educator and Printmaker\n",
       "person-card__details                   [Art Historian, Educator and Printmaker, Welle...\n",
       "person-details-container__info-line    [Wellesley College, Bachelor's Degree, 2018, A...\n",
       "current_employer                                       Davis Museum at Wellesley College\n",
       "education                              Wellesley College, Bachelor's Degree, 2018, Ar...\n",
       "Name: 812, dtype: object"
      ]
     },
     "execution_count": 28,
     "metadata": {},
     "output_type": "execute_result"
    }
   ],
   "source": [
    "df2.iloc[812] # sampe of one current dataentry "
   ]
  },
  {
   "cell_type": "code",
   "execution_count": 29,
   "metadata": {},
   "outputs": [
    {
     "data": {
      "text/plain": [
       "'Davis Museum at Wellesley College'"
      ]
     },
     "execution_count": 29,
     "metadata": {},
     "output_type": "execute_result"
    }
   ],
   "source": [
    "df2.iloc[812]['person-details-container__info-line'][1]"
   ]
  },
  {
   "cell_type": "code",
   "execution_count": 30,
   "metadata": {},
   "outputs": [],
   "source": [
    "# split the education data and save it into a new column\n",
    "edu1 = df2['education'].apply(lambda x: x.split(','))"
   ]
  },
  {
   "cell_type": "code",
   "execution_count": 31,
   "metadata": {},
   "outputs": [],
   "source": [
    "df2['clean_edu1'] = edu1"
   ]
  },
  {
   "cell_type": "markdown",
   "metadata": {},
   "source": [
    "Although we filtered our dataset for Wellesley alums, there are still a few professors and others that ended up in the dataset despite this. Thus we check if all people in our dataset every attended wellesley and remove those that never attended Wellesley. "
   ]
  },
  {
   "cell_type": "code",
   "execution_count": 32,
   "metadata": {},
   "outputs": [],
   "source": [
    "# indicator of whether someone attended Wellesley\n",
    "isWellesleyGrad = df2['education'].apply(lambda x: 'Wellesley' in x)"
   ]
  },
  {
   "cell_type": "code",
   "execution_count": 33,
   "metadata": {},
   "outputs": [],
   "source": [
    "# only include Wellesley alums not people who work at wellesley\n",
    "wellesley_alums = df2[isWellesleyGrad].reset_index(drop=True)"
   ]
  },
  {
   "cell_type": "markdown",
   "metadata": {},
   "source": [
    "Now after having filtered to only include those who have Wellesley listed as the first thing in their education section and those who have something else listed first. "
   ]
  },
  {
   "cell_type": "code",
   "execution_count": 34,
   "metadata": {},
   "outputs": [],
   "source": [
    "# break down data into alums that have Wellesley listed as their first education entry \n",
    "edu2 = wellesley_alums['clean_edu1'].apply(lambda x: x[0] == 'Wellesley College')"
   ]
  },
  {
   "cell_type": "code",
   "execution_count": 35,
   "metadata": {},
   "outputs": [],
   "source": [
    "# break down data into alums that have Wellesley listed as their first education entry and those who don't\n",
    "w1 = wellesley_alums[edu2].reset_index(drop=True)\n",
    "w2 = wellesley_alums[~edu2].reset_index(drop=True)"
   ]
  },
  {
   "cell_type": "code",
   "execution_count": 40,
   "metadata": {},
   "outputs": [],
   "source": [
    "w1['majors_cleaning'] = w1['clean_edu1'].apply(lambda x: x[1:])"
   ]
  },
  {
   "cell_type": "markdown",
   "metadata": {},
   "source": [
    "Since the education data entry in most cases includes wellesley, bacehlors etc. before the major we first want to remvoe these to grab only the majors. However, since some included their degree and some did not we cannot jsut remove a whole list entry instead we only remove those entries that have a degree listed."
   ]
  },
  {
   "cell_type": "code",
   "execution_count": 37,
   "metadata": {},
   "outputs": [],
   "source": [
    "def el0(item):\n",
    "    \"\"\"\n",
    "    return the first element of a list otherwise if the entry is empty, return empty string instead\n",
    "    \"\"\"\n",
    "    if len(item) > 0:\n",
    "        return item[0]\n",
    "    return ''"
   ]
  },
  {
   "cell_type": "code",
   "execution_count": 38,
   "metadata": {},
   "outputs": [],
   "source": [
    "def deleteBachelor(education):\n",
    "    \"\"\"\n",
    "    \n",
    "    \"\"\"\n",
    "    bachelorVar = [\"Bachelor's Degree\", \"BA\", \"\", \"Bachelor of Arts - BA\", \"Bachelor’s Degree\", \n",
    "                   \"Bachelor of Arts (B.A.)\", \"Bachelor of Arts (BA)\",'B.A.', 'Graduate Certificate',\n",
    "                  'Bachelors', \"Bachelor's degree\"]\n",
    "    if len(education) > 0:\n",
    "        if education[0].strip() in bachelorVar:\n",
    "            return education[1:]\n",
    "        else:\n",
    "            return education\n",
    "    return []"
   ]
  },
  {
   "cell_type": "code",
   "execution_count": 41,
   "metadata": {},
   "outputs": [],
   "source": [
    "w1['m1'] = w1['majors_cleaning'].apply(lambda x: deleteBachelor(x))"
   ]
  },
  {
   "cell_type": "code",
   "execution_count": null,
   "metadata": {},
   "outputs": [],
   "source": []
  },
  {
   "cell_type": "code",
   "execution_count": 43,
   "metadata": {},
   "outputs": [],
   "source": [
    "def cleanGradYear(education):\n",
    "    \"\"\"\n",
    "    retrieve the grad year and save it as an int, if grad year is not included return -1\n",
    "    \"\"\"\n",
    "    if len(education) >0:\n",
    "        try:\n",
    "            return int(education[0])\n",
    "        except:\n",
    "            return -1\n",
    "    return -1"
   ]
  },
  {
   "cell_type": "code",
   "execution_count": 44,
   "metadata": {},
   "outputs": [],
   "source": [
    "w1['grad_year_c1'] = w1['m1'].apply(lambda x: cleanGradYear(x))"
   ]
  },
  {
   "cell_type": "code",
   "execution_count": 45,
   "metadata": {},
   "outputs": [],
   "source": [
    "def deleteGradYear(education):\n",
    "    \"\"\"\n",
    "    get rid of the graduation year in entry if the graduation year is included in an entry\n",
    "    \"\"\"\n",
    "    if len(education) >0:\n",
    "        try:\n",
    "            gradYear = int(education[0])\n",
    "            if len(education) > 1:\n",
    "                return education[1:]\n",
    "            return []\n",
    "        except:\n",
    "            return education\n",
    "    return []"
   ]
  },
  {
   "cell_type": "code",
   "execution_count": 53,
   "metadata": {},
   "outputs": [],
   "source": [
    "w1['m2'] = w1['m1'].apply(lambda x: deleteGradYear(x))"
   ]
  },
  {
   "cell_type": "code",
   "execution_count": null,
   "metadata": {},
   "outputs": [],
   "source": []
  },
  {
   "cell_type": "code",
   "execution_count": 54,
   "metadata": {},
   "outputs": [],
   "source": [
    "import re"
   ]
  },
  {
   "cell_type": "code",
   "execution_count": 55,
   "metadata": {},
   "outputs": [],
   "source": [
    "def cleaning2(major): \n",
    "    \"\"\"\n",
    "    normalize the majors, so that there is uniform expression of majors \n",
    "    \n",
    "    \"\"\"\n",
    "    if ('Computer' in major or 'computer' in major):\n",
    "        return 'Computer Science'\n",
    "    elif ('Cognitive' in major or 'Linguistic' in major):\n",
    "        return 'Cognitive Science'\n",
    "    elif ('Internat' in major):\n",
    "        return 'International Relations'\n",
    "    elif 'Biolo' in major:\n",
    "        return 'Biology'\n",
    "    elif 'Classic' in major:\n",
    "        return 'Classics'\n",
    "    elif ('English' in major or 'Writing' in major):\n",
    "        return 'English'\n",
    "    elif ('Geology' in major or 'Geoscience' in major):\n",
    "        return 'Geology'\n",
    "    elif ('Studio Art' in major or 'Art Studies' in major or 'Fine Art' in major or 'Art' == major):\n",
    "        return 'Studio Art'\n",
    "    elif ('Math' in major):\n",
    "        return 'Math'\n",
    "    elif ('Education' in major):\n",
    "        return 'Education'\n",
    "    elif ('Russian' in major):\n",
    "        return 'Russian'\n",
    "    elif ('Logic' in major or 'Philosophy' in major):\n",
    "        return 'Philosophy'\n",
    "    elif ('Cinema' in major):\n",
    "        return 'CAMS'\n",
    "    elif ('music' in major.lower()):\n",
    "        return 'Music'\n",
    "    elif ('Econom' in major):\n",
    "        return 'Economics'\n",
    "    elif 'Biochemistry' in major:\n",
    "        return 'Biochemistry'\n",
    "    elif 'Environment' in major:\n",
    "        return 'Environmental Studies'\n",
    "    elif 'Chinese' in major:\n",
    "        return 'Chinese'\n",
    "    elif 'Japanese' in major:\n",
    "        return 'Japanese'\n",
    "    elif 'German' in major:\n",
    "        return 'German'\n",
    "    elif ('Comparative Lit' in major or 'Literature' in major):\n",
    "        return 'Comparative Literature'\n",
    "    elif 'American Studies' in major:\n",
    "        return 'American Studies'\n",
    "    elif 'Astrophysics' in major:\n",
    "        return 'Astrophysics'\n",
    "    elif ('Justice Studies' in major or 'Peace' in major):\n",
    "        return 'PAJS'\n",
    "    elif ('Art' in major and 'History' in major):\n",
    "        return 'Art History'\n",
    "    elif 'Chemical Physics' in major:\n",
    "        return 'Chemical Physics'\n",
    "    elif 'Theatre Studies' in major:\n",
    "        return 'Theatre Studies'\n",
    "    elif 'Architec' in major:\n",
    "        return 'Architecture'\n",
    "    elif 'Italian' in major:\n",
    "        return 'Italian Studies'\n",
    "    elif ('Anthro' in major or 'Archeo' in major):\n",
    "        return 'Anthropology'\n",
    "    return major"
   ]
  },
  {
   "cell_type": "code",
   "execution_count": 56,
   "metadata": {},
   "outputs": [],
   "source": [
    "def cleanMajor1(education):\n",
    "    \"\"\"\n",
    "    majors such as mas and wgst get changed to their shortened name if given as an input other entries stay unchanged\n",
    "    \"\"\"\n",
    "    if (len(education) > 0):\n",
    "        words = education[0]\n",
    "        if (type(words) == str):\n",
    "            words = words.strip()\n",
    "            words = re.sub(\"Women's and Gender Studies\", \"WGST\", words)\n",
    "            words = re.sub(\"Women & Gender Studies\", \"WGST\", words)\n",
    "            words = re.sub(\"Women’s and Gender Studies\", \"WGST\", words)\n",
    "            words = re.sub(\"Women's Studies\", \"WGST\", words)\n",
    "            words = re.sub(\"Women's & Gender Studies\", \"WGST\", words)\n",
    "            words = re.sub(\"Media Arts and Sciences\", \"MAS\", words)\n",
    "            words = re.sub('Media Arts & Sciences', \"MAS\", words)\n",
    "            words = re.sub(\"Media Arts and Science\", \"MAS\", words)\n",
    "            words = re.sub(\"Media Arts & Sicences\", \"MAS\", words)\n",
    "            words = re.sub('Indiv-Media Arts & Sci', \"MAS\", words)\n",
    "            words = re.sub('Media Arts and Computer Science','MAS', words)\n",
    "            words = re.sub('Computer Science and Cinema and Media Studies','MAS', words)\n",
    "            words = re.sub('Media Art & Computer Science','MAS', words)\n",
    "            words = re.sub('Media Arts and Scienc','MAS', words)\n",
    "            words = re.sub('Media Arts & Science','MAS', words)\n",
    "            words = re.sub('Computer Science  and Media Arts','MAS', words)\n",
    "            words = re.sub('Computer Science and Digital Arts','MAS', words)\n",
    "            words = cleaning2(words)\n",
    "            education[0] = words\n",
    "    return education"
   ]
  },
  {
   "cell_type": "code",
   "execution_count": 57,
   "metadata": {},
   "outputs": [],
   "source": [
    "w1['major1'] =w1['m2'].apply(lambda x:el0(cleanMajor1(x)))"
   ]
  },
  {
   "cell_type": "code",
   "execution_count": 58,
   "metadata": {},
   "outputs": [],
   "source": [
    "def cleaning3(education):\n",
    "    major_list = ['Africana Studies',\n",
    " 'American Studies',\n",
    " 'Anthropology',\n",
    " 'Arabic',\n",
    " 'Architecture',\n",
    " 'Art History',\n",
    " 'Asian-American Studies',\n",
    " 'Astronomy',\n",
    " 'Biochemistry',\n",
    " 'Biology',\n",
    " 'CAMS',\n",
    " 'Chemistry',\n",
    " 'Chinese',\n",
    " 'Classics',\n",
    " 'Cognitive Science',\n",
    " 'Comparative Literature',\n",
    " 'Computer Science',\n",
    " 'Data Science',\n",
    " 'East Asian Studies',\n",
    " 'Economics',\n",
    " 'Education',\n",
    " 'English',\n",
    " 'Environmental Studies',\n",
    " 'French',\n",
    " 'Geology',\n",
    " 'German',\n",
    " 'History',\n",
    " 'History and Religion',\n",
    " 'International Relations',\n",
    " 'Italian Studies',\n",
    " 'Japanese',\n",
    " 'Jewish Studies',\n",
    " 'Latin',\n",
    " 'MAS',\n",
    " 'Math',\n",
    " 'Medieval and Renaissance Studies',\n",
    " 'Middle Eastern Studies',\n",
    " 'Music',\n",
    " 'Neuroscience',\n",
    " 'Philosophy',\n",
    " 'Physics',\n",
    " 'Political Science',\n",
    " 'Psychology',\n",
    " 'Russian',\n",
    " 'Sociology',\n",
    " 'Spanish',\n",
    " 'Studio Art',\n",
    " 'WGST',\n",
    "       'English', 'Chemistry', 'Math', 'Sociology', 'Russian', 'Geology',\n",
    "       'Political Science', '', 'Language Studies', 'French', 'Economics',\n",
    "       'American Studies', 'Art Studio', 'Neuroscience',\n",
    "       'Computer Science', 'Biochemistry', 'Biology', 'CAMS',\n",
    "       'Philosophy', 'Cognitive Science', 'Spanish',\n",
    "       'Indiv-Urban Studies', 'Japanese', 'Astronomy', 'History',\n",
    "       'Chinese', 'Psychology',\n",
    "       'East Asian Studies', 'Music', 'Theatre Studies',\n",
    "       'International Relations', 'Comparative Literature',\n",
    "       'Anthropology', 'Chemical Physics', 'Studio Art',\n",
    "       'Environmental Studies', 'Architecture', 'WGST', 'German',\n",
    "       'Italian', 'PAJS',\n",
    "       'French Cultural Studies', 'Psychology and Spanish',\n",
    "       'Africana Studies', 'Astrophysics',\n",
    "       'Bioinformatics', 'Italian Studies', 'French Studies', 'Latin',\n",
    "       'Classics']\n",
    "    if len(education) > 0:\n",
    "        major =education[0] \n",
    "        if type(major) == str:\n",
    "            if major in major_list:\n",
    "                return major\n",
    "    return ''"
   ]
  },
  {
   "cell_type": "code",
   "execution_count": 59,
   "metadata": {},
   "outputs": [],
   "source": [
    "def cleaning4(education):\n",
    "    major_list = ['Africana Studies',\n",
    " 'American Studies',\n",
    " 'Anthropology',\n",
    " 'Arabic',\n",
    " 'Architecture',\n",
    " 'Art History',\n",
    " 'Asian-American Studies',\n",
    " 'Astronomy',\n",
    " 'Biochemistry',\n",
    " 'Biology',\n",
    " 'CAMS',\n",
    " 'Chemistry',\n",
    " 'Chinese',\n",
    " 'Classics',\n",
    " 'Cognitive Science',\n",
    " 'Comparative Literature',\n",
    " 'Computer Science',\n",
    " 'Data Science',\n",
    " 'East Asian Studies',\n",
    " 'Economics',\n",
    " 'Education',\n",
    " 'English',\n",
    " 'Environmental Studies',\n",
    " 'French',\n",
    " 'Geology',\n",
    " 'German',\n",
    " 'History',\n",
    " 'History and Religion',\n",
    " 'International Relations',\n",
    " 'Italian Studies',\n",
    " 'Japanese',\n",
    " 'Jewish Studies',\n",
    " 'Latin',\n",
    " 'MAS',\n",
    " 'Math',\n",
    " 'Medieval and Renaissance Studies',\n",
    " 'Middle Eastern Studies',\n",
    " 'Music',\n",
    " 'Neuroscience',\n",
    " 'Philosophy',\n",
    " 'Physics',\n",
    " 'Political Science',\n",
    " 'Psychology',\n",
    " 'Russian',\n",
    " 'Sociology',\n",
    " 'Spanish',\n",
    " 'Studio Art',\n",
    " 'WGST',\n",
    "       'English', 'Chemistry', 'Math', 'Sociology', 'Russian', 'Geology',\n",
    "       'Political Science', '', 'Language Studies', 'French', 'Economics',\n",
    "       'American Studies', 'Art Studio', 'Neuroscience',\n",
    "       'Computer Science', 'Biochemistry', 'Biology', 'CAMS',\n",
    "       'Philosophy', 'Cognitive Science', 'Spanish',\n",
    "       'Indiv-Urban Studies', 'Japanese', 'Astronomy', 'History',\n",
    "       'Chinese', 'Psychology',\n",
    "       'East Asian Studies', 'Music', 'Theatre Studies',\n",
    "       'International Relations', 'Comparative Literature',\n",
    "       'Anthropology', 'Chemical Physics', 'Studio Art',\n",
    "       'Environmental Studies', 'Architecture', 'WGST', 'German',\n",
    "       'Italian', 'PAJS',\n",
    "       'French Cultural Studies', 'Psychology and Spanish',\n",
    "       'Africana Studies', 'Astrophysics',\n",
    "       'Bioinformatics', 'Italian Studies', 'French Studies', 'Latin',\n",
    "       'Classics']\n",
    "    if len(education) > 0:\n",
    "        major = education[0] \n",
    "        if type(major) == str:\n",
    "            if major in major_list:\n",
    "                if len(education) > 1:\n",
    "                    return education[1:]\n",
    "            else:\n",
    "                return []\n",
    "    return []"
   ]
  },
  {
   "cell_type": "code",
   "execution_count": 60,
   "metadata": {},
   "outputs": [],
   "source": [
    "w1['major1'] = w1['m2'].apply(lambda x:cleaning3(cleanMajor1(x)))"
   ]
  },
  {
   "cell_type": "code",
   "execution_count": 61,
   "metadata": {},
   "outputs": [],
   "source": [
    "w1['m3'] = w1['m2'].apply(lambda x:cleaning4(cleanMajor1(x)))"
   ]
  },
  {
   "cell_type": "code",
   "execution_count": 62,
   "metadata": {},
   "outputs": [],
   "source": [
    "w1['major2'] = w1['m3'].apply(lambda x:cleaning3(cleanMajor1(x)))"
   ]
  },
  {
   "cell_type": "code",
   "execution_count": 63,
   "metadata": {},
   "outputs": [
    {
     "data": {
      "text/plain": [
       "Index(['name', 'grad_year', 'location', 'current_occupation',\n",
       "       'person-card__details', 'person-details-container__info-line',\n",
       "       'current_employer', 'education', 'clean_edu1', 'majors_cleaning', 'm1',\n",
       "       'grad_year_c1', 'm2', 'major1', 'm3', 'major2'],\n",
       "      dtype='object')"
      ]
     },
     "execution_count": 63,
     "metadata": {},
     "output_type": "execute_result"
    }
   ],
   "source": [
    "# look at columns\n",
    "w1.columns"
   ]
  },
  {
   "cell_type": "markdown",
   "metadata": {},
   "source": [
    "After having added columns for cleaning we can drop these as they are no longer needed."
   ]
  },
  {
   "cell_type": "code",
   "execution_count": 64,
   "metadata": {},
   "outputs": [],
   "source": [
    "w1['grad_school'] = w1['m3'].apply(lambda x: len(x) >1)"
   ]
  },
  {
   "cell_type": "code",
   "execution_count": 95,
   "metadata": {},
   "outputs": [],
   "source": [
    "#w1"
   ]
  },
  {
   "cell_type": "code",
   "execution_count": 66,
   "metadata": {},
   "outputs": [],
   "source": [
    "w1 = w1.drop(['m1', 'm2', 'clean_edu1', 'majors_cleaning','education', ], axis=1)"
   ]
  },
  {
   "cell_type": "code",
   "execution_count": 67,
   "metadata": {},
   "outputs": [],
   "source": [
    "def graduationDate(person):\n",
    "    if person['grad_year'] != -1:\n",
    "        return person['grad_year']\n",
    "    elif person['grad_year_c1'] != -1:\n",
    "        return person['grad_year_c1']\n",
    "    else:\n",
    "        return -1"
   ]
  },
  {
   "cell_type": "code",
   "execution_count": 68,
   "metadata": {},
   "outputs": [],
   "source": [
    "w1['graduation'] = w1.apply(lambda x: graduationDate(x), axis =1)"
   ]
  },
  {
   "cell_type": "code",
   "execution_count": 69,
   "metadata": {},
   "outputs": [],
   "source": [
    "# drop columns used to clean graduation date\n",
    "w1 = w1.drop(['grad_year', 'grad_year_c1'], axis =1)"
   ]
  },
  {
   "cell_type": "code",
   "execution_count": 70,
   "metadata": {},
   "outputs": [],
   "source": [
    "def findWellesleyEdu(edu):\n",
    "    counter = 0\n",
    "    for item in edu:\n",
    "        if 'Wellesley' in item:\n",
    "            return edu[counter:]\n",
    "        counter += 1\n",
    "    return []"
   ]
  },
  {
   "cell_type": "code",
   "execution_count": 71,
   "metadata": {},
   "outputs": [],
   "source": [
    "w2['majors_cleaning'] = w2['clean_edu1'].apply(lambda x: findWellesleyEdu(x))"
   ]
  },
  {
   "cell_type": "code",
   "execution_count": 72,
   "metadata": {},
   "outputs": [],
   "source": [
    "def deleteWellesley(edu):\n",
    "    if len(edu) >0:\n",
    "        if 'Wellesley' in edu[0]:\n",
    "            if len(edu) > 1:\n",
    "                return edu[1:]\n",
    "            return []\n",
    "    return []"
   ]
  },
  {
   "cell_type": "code",
   "execution_count": 73,
   "metadata": {},
   "outputs": [
    {
     "data": {
      "text/plain": [
       "array([\" Bachelor's Degree\", ' Bachelor’s Degree',\n",
       "       ' Bachelor of Arts (B.A.)', ' Bachelor of Arts (BA)',\n",
       "       ' Bachelor of Arts - BA', ' 2009', \" Bachelor's degree\"],\n",
       "      dtype=object)"
      ]
     },
     "execution_count": 73,
     "metadata": {},
     "output_type": "execute_result"
    }
   ],
   "source": [
    "w2['majors_cleaning'].apply(lambda x: el0(deleteWellesley(x))).unique()"
   ]
  },
  {
   "cell_type": "code",
   "execution_count": 74,
   "metadata": {},
   "outputs": [],
   "source": [
    "w2['m1'] = w2['majors_cleaning'].apply(lambda x: deleteBachelor(deleteWellesley(x)))"
   ]
  },
  {
   "cell_type": "code",
   "execution_count": 75,
   "metadata": {},
   "outputs": [],
   "source": [
    "w2['grad_year_c1'] = w2['m1'].apply(lambda x: cleanGradYear(x))"
   ]
  },
  {
   "cell_type": "code",
   "execution_count": 76,
   "metadata": {},
   "outputs": [],
   "source": [
    "w2['m2'] = w2['m1'].apply(lambda x: deleteGradYear(x))"
   ]
  },
  {
   "cell_type": "code",
   "execution_count": 77,
   "metadata": {},
   "outputs": [],
   "source": [
    "w2['major_1'] = w2['m2'].apply(lambda x:cleaning3(cleanMajor1(x)))"
   ]
  },
  {
   "cell_type": "code",
   "execution_count": 78,
   "metadata": {},
   "outputs": [],
   "source": [
    "w2['m3'] = w2['m2'].apply(lambda x:cleaning4(cleanMajor1(x)))"
   ]
  },
  {
   "cell_type": "code",
   "execution_count": 79,
   "metadata": {},
   "outputs": [],
   "source": [
    "w2['major_2'] = w2['m3'].apply(lambda x:cleaning3(cleanMajor1(x)))"
   ]
  },
  {
   "cell_type": "code",
   "execution_count": 80,
   "metadata": {},
   "outputs": [],
   "source": [
    "w2['m4'] = w2['m3'].apply(lambda x:cleaning4(cleanMajor1(x)))"
   ]
  },
  {
   "cell_type": "code",
   "execution_count": 81,
   "metadata": {},
   "outputs": [],
   "source": [
    "w2['graduation'] = w2.apply(lambda x: graduationDate(x), axis =1)"
   ]
  },
  {
   "cell_type": "code",
   "execution_count": 82,
   "metadata": {},
   "outputs": [],
   "source": [
    "# drop columns used to clean graduation date\n",
    "w2 = w2.drop(['grad_year', 'grad_year_c1'], axis =1)"
   ]
  },
  {
   "cell_type": "code",
   "execution_count": 83,
   "metadata": {},
   "outputs": [],
   "source": [
    "w2 = w2.drop(['m1', 'm2', 'm3', 'clean_edu1', 'majors_cleaning','education', ], axis=1)"
   ]
  },
  {
   "cell_type": "code",
   "execution_count": 84,
   "metadata": {},
   "outputs": [],
   "source": [
    "w2['grad_school'] = w2['m4'].apply(lambda x: len(x) >1)"
   ]
  },
  {
   "cell_type": "code",
   "execution_count": 85,
   "metadata": {},
   "outputs": [],
   "source": [
    "w1 = w1.rename(columns={'current_occupation': 'headline', 'm3': 'majorCleaning'})"
   ]
  },
  {
   "cell_type": "code",
   "execution_count": 86,
   "metadata": {},
   "outputs": [],
   "source": [
    "w2 = w2.rename(columns={'current_occupation': 'headline', 'm4': 'majorCleaning'})"
   ]
  },
  {
   "cell_type": "code",
   "execution_count": 87,
   "metadata": {},
   "outputs": [],
   "source": [
    "w1_clean = w1[['name', 'location', 'headline', 'person-details-container__info-line', 'current_employer', 'majorCleaning',\n",
    "   'major1', 'major2', 'graduation', 'grad_school']]"
   ]
  },
  {
   "cell_type": "code",
   "execution_count": 88,
   "metadata": {},
   "outputs": [],
   "source": [
    "w2 = w2.rename(columns={'major_2': 'major2', 'major_1': 'major1'})"
   ]
  },
  {
   "cell_type": "code",
   "execution_count": 89,
   "metadata": {},
   "outputs": [],
   "source": [
    "w2_clean = w2[['name', 'location', 'headline', 'person-details-container__info-line', 'current_employer', 'majorCleaning',\n",
    "   'major1', 'major2', 'graduation', 'grad_school']]"
   ]
  },
  {
   "cell_type": "code",
   "execution_count": 90,
   "metadata": {},
   "outputs": [],
   "source": [
    "hive_all = pd.concat([w1_clean, w2_clean]).reset_index(drop=True)"
   ]
  },
  {
   "cell_type": "code",
   "execution_count": 94,
   "metadata": {},
   "outputs": [],
   "source": [
    "hive_all # newly merged and cleaned data"
   ]
  },
  {
   "cell_type": "code",
   "execution_count": 713,
   "metadata": {},
   "outputs": [],
   "source": [
    "hive_all.to_pickle('hive_data_cleaned') # save newly cleaned hive data"
   ]
  },
  {
   "cell_type": "code",
   "execution_count": 714,
   "metadata": {},
   "outputs": [
    {
     "data": {
      "text/plain": [
       "Index(['name', 'headline', 'summary', 'location', 'skills', 'education',\n",
       "       'jobs', 'degree', 'study_range', 'grad_year', 'title', 'company',\n",
       "       'description', 'url', 'end', 'start', 'attended_grad_school', 'major1',\n",
       "       'major2', 'major3'],\n",
       "      dtype='object')"
      ]
     },
     "execution_count": 714,
     "metadata": {},
     "output_type": "execute_result"
    }
   ],
   "source": [
    "df1.columns"
   ]
  },
  {
   "cell_type": "code",
   "execution_count": 715,
   "metadata": {},
   "outputs": [
    {
     "data": {
      "text/plain": [
       "Index(['name', 'location', 'headline', 'person-details-container__info-line',\n",
       "       'current_employer', 'majorCleaning', 'major1', 'major2', 'graduation',\n",
       "       'grad_school'],\n",
       "      dtype='object')"
      ]
     },
     "execution_count": 715,
     "metadata": {},
     "output_type": "execute_result"
    }
   ],
   "source": [
    "hive_all.columns"
   ]
  },
  {
   "cell_type": "markdown",
   "metadata": {},
   "source": [
    "Now that we have most of the data from the hive as well as our linkedin data cleaned we want to merge both datasets and create one that encompasses the info from both. Our first step is thus to look at the different columns contained in each, getting rid of unnecessary columns and create one giant dataset with matching column names.\n",
    "\n",
    "Our first data set has the following column names: \n",
    "'name', 'headline', 'summary', 'location', 'skills', 'education','jobs', 'degree', 'study_range', 'grad_year', 'title', 'company','description', 'url', 'end', 'start', 'attended_grad_school', 'major1', 'major2', 'major3'\n",
    "\n",
    "Our hive dataset includes the following column names:\n",
    "'name', 'location', 'headline', 'person-details-container__info-line', 'current_employer', 'majorCleaning', 'major1', 'major2', 'graduation', 'grad_school'\n",
    "\n",
    "We thus see that there is some overlap as well as certain columns that can be deleted.\n",
    "\n",
    "The columns that match up are name, location, headline, company/current_employer, major1, major2, (major3), graduation/end (graduation year)\n",
    "\n",
    "Other columns that we also will inculde that are only in our first dataset from linkedin are url, description, skills and summary. \n",
    "\n",
    "We thus resort to creating one dataframe that includes all the information that both contain, and create an additional dataframe only focusing on particular columns that are only included in our linkedin dataset. "
   ]
  },
  {
   "cell_type": "code",
   "execution_count": 716,
   "metadata": {},
   "outputs": [],
   "source": [
    "smaller_data_hive = hive_all[['name', 'location', 'headline', 'current_employer', 'graduation', 'major1', 'major2']]\n",
    "smaller_data_hive = smaller_data_hive.rename(columns={'graduation': 'grad_year'})"
   ]
  },
  {
   "cell_type": "code",
   "execution_count": 92,
   "metadata": {},
   "outputs": [],
   "source": [
    "smaller_data_hive.head()"
   ]
  },
  {
   "cell_type": "code",
   "execution_count": 718,
   "metadata": {},
   "outputs": [],
   "source": [
    "smaller_data_linkedin = df1[['name', 'location', 'headline', 'company', 'title', 'grad_year', 'major1', 'major2', 'major3']]\n",
    "smaller_data_linkedin = smaller_data_linkedin.rename(columns={'company': 'current_employer'})"
   ]
  },
  {
   "cell_type": "code",
   "execution_count": 93,
   "metadata": {},
   "outputs": [],
   "source": [
    "smaller_data_linkedin.head()"
   ]
  },
  {
   "cell_type": "code",
   "execution_count": 720,
   "metadata": {},
   "outputs": [],
   "source": [
    "all_data_merged = pd.concat([smaller_data_linkedin, smaller_data_hive], ignore_index=True)"
   ]
  },
  {
   "cell_type": "code",
   "execution_count": 721,
   "metadata": {},
   "outputs": [],
   "source": [
    "all_data_merged.to_csv('all_alum_data.csv') "
   ]
  },
  {
   "cell_type": "code",
   "execution_count": 722,
   "metadata": {},
   "outputs": [],
   "source": [
    "anon_df = all_data_merged[[ 'location', 'headline', 'current_employer', 'title',\n",
    "       'grad_year', 'major1', 'major2', 'major3']]"
   ]
  },
  {
   "cell_type": "code",
   "execution_count": 723,
   "metadata": {},
   "outputs": [],
   "source": [
    "anon_df.to_csv('alum_data_anon.csv') # save data without personal names for sharing "
   ]
  },
  {
   "cell_type": "code",
   "execution_count": null,
   "metadata": {},
   "outputs": [],
   "source": []
  },
  {
   "cell_type": "code",
   "execution_count": null,
   "metadata": {},
   "outputs": [],
   "source": []
  }
 ],
 "metadata": {
  "kernelspec": {
   "display_name": "Python 3",
   "language": "python",
   "name": "python3"
  },
  "language_info": {
   "codemirror_mode": {
    "name": "ipython",
    "version": 3
   },
   "file_extension": ".py",
   "mimetype": "text/x-python",
   "name": "python",
   "nbconvert_exporter": "python",
   "pygments_lexer": "ipython3",
   "version": "3.7.6"
  }
 },
 "nbformat": 4,
 "nbformat_minor": 4
}
